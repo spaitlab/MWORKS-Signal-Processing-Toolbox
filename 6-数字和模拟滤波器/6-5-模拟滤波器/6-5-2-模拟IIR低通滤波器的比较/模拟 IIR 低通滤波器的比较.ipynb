{
 "cells": [
  {
   "cell_type": "code",
   "execution_count": 1,
   "metadata": {},
   "outputs": [
    {
     "data": {
      "text/plain": [
       "PyObject <objects.mw_legend.CLegend object at 0x0000015A0E5AE108>"
      ]
     },
     "metadata": {},
     "output_type": "display_data"
    }
   ],
   "source": [
    "using TySignalProcessing\n",
    "using TyPlot\n",
    "n = 5\n",
    "fc = 2e9\n",
    "zb, pb, kb = butter(n, 2*pi*fc,\"s\";otype = \"zpk\")\n",
    "bb,ab = zp2tf(zb,pb,kb)\n",
    "hb,wb = freqs(bb,ab,4096)\n",
    "z1, p1, k1 = cheby1(n, 3, 2*pi*fc,\"s\";otype = \"zpk\")\n",
    "b1,a1 = zp2tf(z1,p1,k1)\n",
    "h1,w1 = freqs(b1,a1,4096)\n",
    "z2, p2, k2 = cheby2(n, 30, 2*pi*fc,\"s\";otype = \"zpk\")\n",
    "b2,a2 = zp2tf(z2,p2,k2)\n",
    "h2,w2 = freqs(b2,a2,4096)\n",
    "ze, pe, ke = ellip(n, 3, 30, 2*pi*fc,\"s\";otype = \"zpk\")\n",
    "be,ae = zp2tf(ze,pe,ke)\n",
    "he,we = freqs(be,ae,4096)\n",
    "zf, pf, kf = besself(n, 2*pi*fc;otype = \"zpk\")\n",
    "bf,af= zp2tf(zf,pf,kf)\n",
    "hf,wf = freqs(bf,af,4096)\n",
    "# figure()\n",
    "# plot(wb/(2e9*pi), db.(abs.(hb)))\n",
    "# axis([0 5 -45 5])\n",
    "# figure()\n",
    "# plot(w1/(2e9*pi), db.(abs.(h1)))\n",
    "# axis([0 5 -45 5])\n",
    "# figure()\n",
    "# plot(w2/(2e9*pi), db.(abs.(h2)))\n",
    "# axis([0 5 -45 5])\n",
    "# figure()\n",
    "# plot(we/(2e9*pi), db.(abs.(he)))\n",
    "# axis([0 5 -45 5])\n",
    "# figure()\n",
    "# plot(wf/(2e9*pi), db.(abs.(hf)))\n",
    "# axis([0 5 -45 5])\n",
    "figure()\n",
    "plot(wb/(2e9*pi), db.(abs.(hb)), w1/(2e9*pi), db.(abs.(h1)),w2/(2e9*pi), db.(abs.(h2)),we/(2e9*pi), db.(abs.(he)),wf/(2e9*pi), db.(abs.(hf)))\n",
    "axis([0 5 -45 5])\n",
    "xlabel(\"Frequency (GHz)\")\n",
    "ylabel(\"Attenuation (dB)\")\n",
    "legend([\"butter\" \"cheby1\" \"cheby2\" \"ellip\" \"besself\"])"
   ]
  }
 ],
 "metadata": {
  "kernelspec": {
   "display_name": "Julia 1.9.3",
   "language": "julia",
   "name": "julia-1.9"
  },
  "language_info": {
   "file_extension": ".jl",
   "mimetype": "application/julia",
   "name": "julia",
   "version": "1.9.3"
  },
  "orig_nbformat": 4
 },
 "nbformat": 4,
 "nbformat_minor": 2
}
