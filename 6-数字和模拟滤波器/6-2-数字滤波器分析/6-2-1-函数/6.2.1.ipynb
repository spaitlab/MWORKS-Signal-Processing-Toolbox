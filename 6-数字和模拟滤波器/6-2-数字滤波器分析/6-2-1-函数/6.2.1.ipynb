{
 "cells": [
  {
   "cell_type": "code",
   "execution_count": 26,
   "metadata": {},
   "outputs": [
    {
     "name": "stdout",
     "output_type": "stream",
     "text": [
      "Is linear phase: true\n"
     ]
    }
   ],
   "source": [
    "using TySignalProcessing\n",
    "using TyPlot\n",
    "using TyMath\n",
    "\n",
    "# Sample rate\n",
    "fs = 2000\n",
    "\n",
    "# Design a FIR filter using the window method\n",
    "b = fir1(20, 200 / (fs / 2))\n",
    "\n",
    "# Check if the filter is linear phase\n",
    "println(\"Is linear phase: \", islinphase(b))\n",
    "\n",
    "# Compute the group delay for the FIR filter\n",
    "grpdelay(b,[1],fs, plotfig = true)\n",
    "\n",
    "figure()\n",
    "# Compute the phase delay for the FIR filter\n",
    "phasedelay(b,[1],fs, plotfig = true)\n",
    "\n",
    "\n",
    "# Design a Butterworth filter\n",
    "b, a = butter(5, 200 / (fs / 2))\n",
    "\n",
    "# Compute the group delay for the Butterworth filter\n",
    "gd_butter = grpdelay(b, a, plotfig = true)\n",
    "figure()\n",
    "# Compute the phase delay for the Butterworth filter\n",
    "pd_butter = phasedelay(b, a, plotfig = true)"
   ]
  }
 ],
 "metadata": {
  "kernelspec": {
   "display_name": "Julia 1.9.3",
   "language": "julia",
   "name": "julia-1.9"
  },
  "language_info": {
   "file_extension": ".jl",
   "mimetype": "application/julia",
   "name": "julia",
   "version": "1.9.3"
  },
  "orig_nbformat": 4
 },
 "nbformat": 4,
 "nbformat_minor": 2
}
