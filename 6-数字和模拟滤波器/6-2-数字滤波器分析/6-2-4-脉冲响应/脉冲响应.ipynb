{
 "cells": [
  {
   "cell_type": "markdown",
   "metadata": {},
   "source": [
    "# 数字滤波器的脉冲响应\n",
    "\n",
    "\n",
    "设计了一个归一化通带频率为0.4rad/sample的四阶低通椭圆滤波器。指定0.5 dB的通带涟漪和20 dB的阻带衰减。绘制脉冲响应的前50个样本。"
   ]
  },
  {
   "cell_type": "code",
   "execution_count": 4,
   "metadata": {},
   "outputs": [
    {
     "data": {
      "text/plain": [
       "PyObject <objects.mw_text.CYlabel object at 0x00000253D3D07D88>"
      ]
     },
     "metadata": {},
     "output_type": "display_data"
    }
   ],
   "source": [
    "using TySignalProcessing\n",
    "using TyPlot\n",
    "\n",
    "\n",
    "b,a = ellip(4,0.5,20,0.4);\n",
    "h, t = impz(b, a, 50)\n",
    "figure(3)\n",
    "stem(t, h; filled=true)\n",
    "title(\"Impulse Response\")\n",
    "xlabel(\"n(samples)\")\n",
    "ylabel(\"Amplitude\")\n"
   ]
  },
  {
   "cell_type": "markdown",
   "metadata": {},
   "source": [
    "使用β = 4的Kaiser窗设计18阶FIR高通滤波器。指定采样率为100 Hz，截止频率为30 Hz。显示滤波器的脉冲响应。"
   ]
  },
  {
   "cell_type": "code",
   "execution_count": 5,
   "metadata": {},
   "outputs": [
    {
     "data": {
      "text/plain": [
       "PyObject <objects.mw_text.CYlabel object at 0x00000253D3D51408>"
      ]
     },
     "metadata": {},
     "output_type": "display_data"
    }
   ],
   "source": [
    "b = fir1(18, 30 / (100 / 2), \"high\", kaiser(19, 4))\n",
    "h, t = impz(b, 1, [], 100)\n",
    "figure(4)\n",
    "stem(t, h; filled=true)\n",
    "title(\"Impulse Response\")\n",
    "xlabel(\"nT(samples)\")\n",
    "ylabel(\"Amplitude\")"
   ]
  },
  {
   "cell_type": "code",
   "execution_count": 6,
   "metadata": {},
   "outputs": [
    {
     "data": {
      "text/plain": [
       "(ComplexF64[0.9999999999999988 + 0.0im, 0.9997043414711996 - 0.024315214242063257im, 0.998817503813591 - 0.048616808570558126im, 0.9973399008067103 - 0.07289116722113816im, 0.9952722220602156 - 0.0971246827295931im, 0.9926154329794407 - 0.12130376008615017im, 0.9893707747169997 - 0.14541482089485638im, 0.9855397641101978 - 0.16944430753973005im, 0.9811241936040326 - 0.1933786873593789im, 0.9761261311595004 - 0.21720445683177445im  …  1.7519586609116687e-16 - 1.3490970642665882e-15im, 6.069822186977847e-17 - 5.238882832513858e-16im, 1.8973020340907968e-17 - 1.8194440685983967e-16im, 8.959992506658382e-18 - 5.297971750340731e-17im, 2.2271451096218415e-18 - 7.412829408544378e-18im, -2.1205872438525789e-19 - 2.865451408807008e-18im, 3.0368208007509293e-18 + 2.6975352266277695e-18im, 0.0 - 0.0im, 2.8270701520467362e-18 - 1.519558324740028e-18im, 2.954872586085307e-18 + 5.697700421154165e-18im], [0.0, 0.006135923151542565, 0.01227184630308513, 0.018407769454627694, 0.02454369260617026, 0.03067961575771282, 0.03681553890925539, 0.04295146206079795, 0.04908738521234052, 0.055223308363883075  …  3.0802334220743672, 3.08636934522591, 3.0925052683774523, 3.098641191528995, 3.1047771146805374, 3.11091303783208, 3.1170489609836225, 3.1231848841351653, 3.1293208072867076, 3.1354567304382504])"
      ]
     },
     "metadata": {},
     "output_type": "display_data"
    }
   ],
   "source": [
    "fc = 400\n",
    "fs = 2000\n",
    "b, a = butter(9, fc / (fs / 2))\n",
    "freqz(b, a; plotfig = true)"
   ]
  }
 ],
 "metadata": {
  "kernelspec": {
   "display_name": "Julia 1.9.3",
   "language": "julia",
   "name": "julia-1.9"
  },
  "language_info": {
   "file_extension": ".jl",
   "mimetype": "application/julia",
   "name": "julia",
   "version": "1.9.3"
  },
  "orig_nbformat": 4
 },
 "nbformat": 4,
 "nbformat_minor": 2
}
