{
 "cells": [
  {
   "cell_type": "markdown",
   "metadata": {},
   "source": [
    "# 数字滤波器的脉冲响应\n",
    "\n",
    "\n",
    "设计了一个归一化通带频率为0.4rad/sample的四阶低通椭圆滤波器。指定0.5 dB的通带涟漪和20 dB的阻带衰减。绘制脉冲响应的前50个样本。"
   ]
  },
  {
   "cell_type": "code",
   "execution_count": null,
   "metadata": {},
   "outputs": [
    {
     "data": {
      "text/plain": [
       "PyObject Text(48.85416666666667, 0.5, 'Amplitude')"
      ]
     },
     "metadata": {},
     "output_type": "display_data"
    }
   ],
   "source": [
    "b,a = ellip(4,0.5,20,0.4);\n",
    "h, t = impz(b, a, 50)\n",
    "figure(3)\n",
    "stem(t, h; filled=true)\n",
    "title(\"Impulse Response\")\n",
    "xlabel(\"n(samples)\")\n",
    "ylabel(\"Amplitude\")\n"
   ]
  },
  {
   "cell_type": "markdown",
   "metadata": {},
   "source": [
    "使用β = 4的Kaiser窗设计18阶FIR高通滤波器。指定采样率为100 Hz，截止频率为30 Hz。显示滤波器的脉冲响应。"
   ]
  },
  {
   "cell_type": "code",
   "execution_count": null,
   "metadata": {},
   "outputs": [
    {
     "data": {
      "text/plain": [
       "PyObject Text(48.85416666666667, 0.5, 'Amplitude')"
      ]
     },
     "metadata": {},
     "output_type": "display_data"
    }
   ],
   "source": [
    "b = fir1(18, 30 / (100 / 2), \"high\", kaiser(19, 4))\n",
    "h, t = impz(b, 1, [], 100)\n",
    "figure(4)\n",
    "stem(t, h; filled=true)\n",
    "title(\"Impulse Response\")\n",
    "xlabel(\"nT(samples)\")\n",
    "ylabel(\"Amplitude\")"
   ]
  },
  {
   "cell_type": "code",
   "execution_count": null,
   "metadata": {},
   "outputs": [
    {
     "data": {
      "text/plain": [
       "(ComplexF64[1.0 + 0.0im, 0.9998669085137178 - 0.016314571990150344im, 0.9994676525125776 - 0.03262532116312141im, 0.9988022873767867 - 0.04892842456996193im, 0.9978709054302821 - 0.0652200589983653im, 0.9966736359761343 - 0.08149640084146322im, 0.9952106453461337 - 0.09775362596718602im, 0.9934821369645621 - 0.11398790958837926im, 0.9914883514261891 - 0.13019542613386634im, 0.9892295665885165 - 0.14637234912065047im  …  -1.2242487327769173e-10 - 1.0573617984981308e-11im, -6.508434230216427e-11 - 5.056350441399587e-12im, -3.2114186740436107e-11 - 2.2166282695606124e-12im, -1.4416661898947247e-11 - 8.703249705897765e-13im, -5.71857079346106e-12 - 2.957969231754373e-13im, -1.9155165922323515e-12 - 8.253845232383762e-14im, -5.02211206202995e-13 - 1.7315132172714562e-14im, -8.940390213510992e-14 - 2.3112490959079844e-15im, -7.841658349504325e-15 - 1.309634704866558e-16im, -1.1442473636996474e-16 + 1.1208862086218525e-18im], [0.0, 0.006135923151542565, 0.01227184630308513, 0.018407769454627694, 0.02454369260617026, 0.03067961575771282, 0.03681553890925539, 0.04295146206079795, 0.04908738521234052, 0.055223308363883075  …  3.0802334220743672, 3.08636934522591, 3.0925052683774523, 3.098641191528995, 3.1047771146805374, 3.11091303783208, 3.1170489609836225, 3.1231848841351653, 3.1293208072867076, 3.1354567304382504])"
      ]
     },
     "metadata": {},
     "output_type": "display_data"
    }
   ],
   "source": [
    "fc = 400\n",
    "fs = 2000\n",
    "b, a = butter(9, fc / (fs / 2))\n",
    "freqz(b, a; plotfig = true)"
   ]
  }
 ],
 "metadata": {
  "kernelspec": {
   "display_name": "Julia 1.9.3",
   "language": "julia",
   "name": "julia-1.9"
  },
  "language_info": {
   "file_extension": ".jl",
   "mimetype": "application/julia",
   "name": "julia",
   "version": "1.9.3"
  },
  "orig_nbformat": 4
 },
 "nbformat": 4,
 "nbformat_minor": 2
}
