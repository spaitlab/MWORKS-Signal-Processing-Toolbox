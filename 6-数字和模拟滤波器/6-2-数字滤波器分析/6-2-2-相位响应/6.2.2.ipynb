{
 "cells": [
  {
   "cell_type": "markdown",
   "metadata": {},
   "source": [
    "## 数字滤波器相位响应"
   ]
  },
  {
   "cell_type": "markdown",
   "metadata": {},
   "source": [
    "在截止频率（400 Hz）以下，幅值保持较高且相对平坦，信号能较好地通过滤波器。而在截止频率以上，幅值迅速下降，高频成分被显著衰减。在通带内，相位响应接近线性，这意味着信号通过滤波器时，相位失真较小。随着频率的增加，相位逐渐减小，信号在通过滤波器时会有延迟。\n",
    "设计一个 25 阶低通 FIR 滤波器，用 freqz 获得频率响应，并以度为单位绘制相位。"
   ]
  },
  {
   "cell_type": "code",
   "execution_count": null,
   "metadata": {},
   "outputs": [
    {
     "data": {
      "text/plain": [
       "1-element Vector{PyCall.PyObject}:\n",
       " PyObject <matplotlib.lines.Line2D object at 0x000001D94E2D1488>"
      ]
     },
     "metadata": {},
     "output_type": "display_data"
    }
   ],
   "source": [
    "h = fir1(25,0.4);\n",
    "H,f = freqz(h,1,512,2);\n",
    "figure(6)\n",
    "plot(f,angle.(H)*180/pi)"
   ]
  },
  {
   "cell_type": "markdown",
   "metadata": {},
   "source": [
    "可以看出，很难将 360° 跳跃（由 angle 中反正切函数的定义导致）与 180° 跳跃（表示频率响应为零）区分开来。使用unwrap 可去除 360° 跳跃。"
   ]
  },
  {
   "cell_type": "code",
   "execution_count": null,
   "metadata": {},
   "outputs": [
    {
     "data": {
      "text/plain": [
       "1-element Vector{PyCall.PyObject}:\n",
       " PyObject <matplotlib.lines.Line2D object at 0x000001D94B866E08>"
      ]
     },
     "metadata": {},
     "output_type": "display_data"
    }
   ],
   "source": [
    "figure(7)\n",
    "plot(f,unwrap(angle.(H))*180/pi)"
   ]
  }
 ],
 "metadata": {
  "kernelspec": {
   "display_name": "Julia 1.9.3",
   "language": "julia",
   "name": "julia-1.9"
  },
  "language_info": {
   "file_extension": ".jl",
   "mimetype": "application/julia",
   "name": "julia",
   "version": "1.9.3"
  },
  "orig_nbformat": 4
 },
 "nbformat": 4,
 "nbformat_minor": 2
}
