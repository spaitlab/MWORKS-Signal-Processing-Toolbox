{
 "cells": [
  {
   "cell_type": "markdown",
   "metadata": {},
   "source": [
    "# 零极点分析"
   ]
  },
  {
   "cell_type": "markdown",
   "metadata": {},
   "source": [
    "函数用于绘制系统的极点和零点。在给定的示例中，我们创建了一个简单的滤波器，其中包含一个零点和一对复极点。例如，在 -1/2 处为零且在 0.9e^(-j2π0.3) 和 0.9e^(j2π0.3) 处有一对复极点的简单滤波器为："
   ]
  },
  {
   "cell_type": "code",
   "execution_count": null,
   "metadata": {},
   "outputs": [
    {
     "data": {
      "text/plain": [
       "PyObject Text(0.5, 1.0, 'Pole-Zero Plot')"
      ]
     },
     "metadata": {},
     "output_type": "display_data"
    }
   ],
   "source": [
    "using MAT\n",
    "# using Plots\n",
    "using TyPlot\n",
    "using TySignalProcessing\n",
    "using TyMath\n",
    "using TyBase\n",
    "using TyStatistics\n",
    "\n",
    "zer = [-0.5]\n",
    "pol = 0.9 * exp.(im * 2 * π * [-0.3 0.3]')\n"
   ]
  },
  {
   "cell_type": "markdown",
   "metadata": {},
   "source": [
    "要查看该滤波器的零极点图，您可以使用 zplane 函数。当系统以零极点形式表达时，您需要提供包含零和极点的列向量参数。"
   ]
  },
  {
   "cell_type": "code",
   "execution_count": null,
   "metadata": {},
   "outputs": [],
   "source": [
    "figure(1)\n",
    "zplane(zer, pol)\n",
    "grid(\"on\")\n",
    "title(\"Pole-Zero Plot\")"
   ]
  },
  {
   "cell_type": "markdown",
   "metadata": {},
   "source": [
    "要绘制以传递函数形式表示的系统的零极点图，请确保使用 `zplane` 函数时提供行向量参数。在这个例子中，`zplane` 会使用 `roots` 函数来求取分子和分母的根，并据此绘制出系统的零点和极点。\n"
   ]
  },
  {
   "cell_type": "code",
   "execution_count": null,
   "metadata": {},
   "outputs": [],
   "source": [
    "b, a = zp2tf(zer, pol, 1);\n",
    "\n",
    "figure(2)\n",
    "zplane(b, a)\n",
    "grid(\"on\")"
   ]
  }
 ],
 "metadata": {
  "kernelspec": {
   "display_name": "Julia 1.9.3",
   "language": "julia",
   "name": "julia-1.9"
  },
  "language_info": {
   "file_extension": ".jl",
   "mimetype": "application/julia",
   "name": "julia",
   "version": "1.9.3"
  },
  "orig_nbformat": 4
 },
 "nbformat": 4,
 "nbformat_minor": 2
}
