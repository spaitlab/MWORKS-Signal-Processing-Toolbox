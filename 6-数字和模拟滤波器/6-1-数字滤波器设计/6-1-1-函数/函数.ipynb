{
 "cells": [
  {
   "cell_type": "code",
   "execution_count": 11,
   "metadata": {},
   "outputs": [
    {
     "ename": "ErrorException",
     "evalue": "syntax: expected \"end\" in definition of function \"hammingWindow\"",
     "output_type": "error",
     "traceback": [
      "syntax: expected \"end\" in definition of function \"hammingWindow\"\n",
      "\n",
      "Stacktrace:\n",
      " [1] top-level scope\n",
      "   @ c:\\Users\\DELL\\Desktop\\MWORKS-Signal-Processing-Toolbox\\6-数字和模拟滤波器\\6-1-数字滤波器设计\\6-1-1-函数\\函数.ipynb:18"
     ]
    }
   ],
   "source": [
    "# MWorks中设计低通FIR滤波器的示例\n",
    "using Pkg\n",
    "using DSP\n",
    "using Statistics\n",
    "using TyMath\n",
    "using MAT\n",
    "using TyPlot\n",
    "using TySignalProcessing\n",
    "\n",
    "#  滤波器参数\n",
    "Fs = 500;\n",
    "N = 500;\n",
    "Fnorm = 75 / (Fs / 2);\n",
    "FilterOrder = 70;\n",
    "\n",
    "#  设计滤波器\n",
    "#  假设MWorks中没有designfilt函数，我们使用汉明窗来设计FIR滤波器\n",
    "function hammingWindow = createHammingWindow(M)\n",
    "    hammingWindow = 0.54 - 0.46 * cos(2 * pi * range(0, M - 1) / (M - 1));  \n",
    "end\n",
    "\n",
    "\n",
    "hammingWindow = hamming(FilterOrder + 1);\n",
    "#  计算归一化截止频率对应的DFT点数\n",
    "k = round(Fnorm * (FilterOrder + 1));\n",
    "#  生成低通滤波器的系数\n",
    "if k > 0\n",
    "    h = [zeros(1, k), hammingWindow(1, FilterOrder + 1 - k), zeros(1, k)]\n",
    "else\n",
    "    h = hammingWindow\n",
    "end\n",
    "\n",
    "#  应用滤波器\n",
    "x = ecg(N) + 0.25 * randn(N, 1);\n",
    "y = filter(h, 1, x);\n",
    "# \n",
    "# // 绘图比较\n",
    "t = range(0, N - 1) / Fs;\n",
    "subplot(2, 1, 1);\n",
    "TyPlot.plot(t, x);\n",
    "title([\"Original Noisy Signal\"]);\n",
    "xlabel(\"Time (s)\");\n",
    "ylabel(\"Amplitude\");\n",
    "\n",
    "subplot(2, 1, 2);\n",
    "TyPlot.plot(t, y);\n",
    "title(\"Filtered Signal\");\n",
    "xlabel(\"Time (s)\");\n",
    "ylabel(\"Amplitude\");\n"
   ]
  }
 ],
 "metadata": {
  "kernelspec": {
   "display_name": "Julia 1.9.3",
   "language": "julia",
   "name": "julia-1.9"
  },
  "language_info": {
   "file_extension": ".jl",
   "mimetype": "application/julia",
   "name": "julia",
   "version": "1.9.3"
  },
  "orig_nbformat": 4
 },
 "nbformat": 4,
 "nbformat_minor": 2
}
