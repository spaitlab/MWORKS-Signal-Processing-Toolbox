{
 "cells": [
  {
   "cell_type": "markdown",
   "metadata": {},
   "source": [
    "### FIR 带通滤波器\n",
    "设计一个通带为 0.35π≤ω≤0.65π rad/sample 的 48 阶 FIR 带通滤波器。可视化其幅度和相位响应。"
   ]
  },
  {
   "cell_type": "code",
   "execution_count": 42,
   "metadata": {},
   "outputs": [
    {
     "data": {
      "text/plain": [
       "(ComplexF64[-0.0016446315328068884 + 0.0im, -0.0016073678782298764 + 0.0002384305015546639im, -0.0014989463589268651 + 0.0004547004068857364im, -0.0013291712053235913 + 0.0006286511612471291im, -0.0011133965200282774 + 0.0007439477702166657im, -0.0008711402739149958 + 0.0007895555210814649im, -0.0006243220899596764 + 0.0007607386677183578im, -0.00039528361845262225 + 0.0006594908750064745im, -0.00020476994806644663 + 0.0004943583857883928im, -7.005408219225459e-5 + 0.0002796715730779622im  …  -3.3737101890001135e-6 - 3.425385438716582e-5im, -7.005408219225393e-5 - 0.0002796715730782329im, -0.0002047699480665159 - 0.0004943583857887745im, -0.00039528361845267597 - 0.0006594908750066052im, -0.0006243220899598648 - 0.0007607386677186332im, -0.0008711402739151802 - 0.0007895555210816807im, -0.001113396520028411 - 0.0007439477702167748im, -0.0013291712053239188 - 0.0006286511612472268im, -0.0014989463589269757 - 0.0004547004068857906im, -0.0016073678782300982 - 0.00023843050155470505im], [0.0, 0.006135923151542565, 0.01227184630308513, 0.018407769454627694, 0.02454369260617026, 0.03067961575771282, 0.03681553890925539, 0.04295146206079795, 0.04908738521234052, 0.055223308363883075  …  3.0802334220743672, 3.08636934522591, 3.0925052683774523, 3.098641191528995, 3.1047771146805374, 3.11091303783208, 3.1170489609836225, 3.1231848841351653, 3.1293208072867076, 3.1354567304382504])"
      ]
     },
     "metadata": {},
     "output_type": "display_data"
    }
   ],
   "source": [
    "using TySignalProcessing\n",
    "\n",
    "b = fir1(48, [0.35 0.65])\n",
    "freqz(b, [1],512,plotfig = true)"
   ]
  },
  {
   "cell_type": "markdown",
   "metadata": {},
   "source": [
    "### FIR 高通滤波器\n",
    "加载 chirp.mat。该文件包含一个信号 y，其大部分功率高于 Fs/4，或奈奎斯特频率的一半。采样率为 8192 Hz。 设计一个 34 阶 FIR 高通滤波器以衰减低于 Fs/4 的信号分量。使用 0.48 的截止频率和具有 30 dB 纹波的切比雪夫窗口"
   ]
  },
  {
   "cell_type": "code",
   "execution_count": 43,
   "metadata": {},
   "outputs": [
    {
     "data": {
      "text/plain": [
       "(ComplexF64[-0.0031059998376198328 + 0.0im, -0.0030718564170784113 + 0.0003215947144893927im, -0.002970930534095806 + 0.0006289508189305237im, -0.002807668689181364 + 0.0009084590920776237im, -0.0025892625615743237 + 0.001147741157004889im, -0.0023253305155344073 + 0.001336196314426441im, -0.002027491716437846 + 0.0014654694980324456im, -0.0017088517884851773 + 0.0015298196091899086im, -0.0013834228726481435 + 0.0015263719245079965im, -0.0010655038507403902 + 0.0014552434307150142im  …  -0.5012032416910087 - 0.8599662115471469im, -0.588500338018586 - 0.8037617604855292im, -0.669496817959597 - 0.7386759079130013im, -0.7432812890891893 - 0.6654095450844542im, -0.8090200391665028 - 0.5847590799426208im, -0.8659674881654265 - 0.4976077845148015im, -0.9134756526836482 - 0.40491590851622083im, -0.9510024601852537 - 0.30770967916282005im, -0.9781187669573261 - 0.20706933145320203im, -0.9945139541179366 - 0.10411633478444651im], [0.0, 0.006135923151542565, 0.01227184630308513, 0.018407769454627694, 0.02454369260617026, 0.03067961575771282, 0.03681553890925539, 0.04295146206079795, 0.04908738521234052, 0.055223308363883075  …  3.0802334220743672, 3.08636934522591, 3.0925052683774523, 3.098641191528995, 3.1047771146805374, 3.11091303783208, 3.1170489609836225, 3.1231848841351653, 3.1293208072867076, 3.1354567304382504])"
      ]
     },
     "metadata": {},
     "output_type": "display_data"
    }
   ],
   "source": [
    "using TyPlot \n",
    "using TyMath\n",
    "using TySignalProcessing\n",
    "using TyDSPSystem\n",
    "pkg_dir = pkgdir(TySignalProcessing)\n",
    "source_path = pkg_dir * \"/examples/Resource/chirp.mat\"\n",
    "mfr = dsp_MatFileReader(Filename = source_path, VariableName = \"y\", SamplesPerFrame = 13129)\n",
    "y = step(mfr)\n",
    "mtlb = vec(y)\n",
    "Fs = 8192\n",
    "t = [(0:length(y)-1) / Fs...]\n",
    "bhi = fir1(34, 0.48, \"highpass\", chebwin(35, 30))\n",
    "freqz(bhi, [1], plotfig = true)"
   ]
  },
  {
   "cell_type": "markdown",
   "metadata": {},
   "source": [
    "过滤信号。显示原始信号和高通滤波信号。对两个图使用相同的 y 轴比例。"
   ]
  },
  {
   "cell_type": "code",
   "execution_count": 44,
   "metadata": {},
   "outputs": [
    {
     "data": {
      "text/plain": [
       "(-1.0937307692307692, 1.0445)"
      ]
     },
     "metadata": {},
     "output_type": "display_data"
    }
   ],
   "source": [
    "outhi, = filter1(bhi, [1], y)\n",
    "figure()\n",
    "subplot(2, 1, 1)\n",
    "plot(t, y)\n",
    "title(\"Original Signal\")\n",
    "ys = ylim()\n",
    "subplot(2, 1, 2)\n",
    "plot(t, outhi)\n",
    "title(\"Highpass Filtered Signal\")\n",
    "xlabel(\"Time (s)\")\n",
    "ylim(ys)"
   ]
  },
  {
   "cell_type": "markdown",
   "metadata": {},
   "source": [
    "设计一个具有相同规格的低通滤波器。过滤信号并将结果与​​原始结果进行比较。对两个图使用相同的 y 轴比例。"
   ]
  },
  {
   "cell_type": "code",
   "execution_count": 45,
   "metadata": {},
   "outputs": [
    {
     "data": {
      "text/plain": [
       "(-1.0937307692307692, 1.0445)"
      ]
     },
     "metadata": {},
     "output_type": "display_data"
    }
   ],
   "source": [
    "blo = fir1(34, 0.48, chebwin(35, 30))\n",
    "outlo, = filter1(blo, [1], y)\n",
    "figure()\n",
    "subplot(2, 1, 1)\n",
    "plot(t, y)\n",
    "title(\"Original Signal\")\n",
    "ys = ylim()\n",
    "subplot(2, 1, 2)\n",
    "plot(t, outlo)\n",
    "title(\"Highpass Filtered Signal\")\n",
    "xlabel(\"Time (s)\")\n",
    "ylim(ys)"
   ]
  },
  {
   "cell_type": "markdown",
   "metadata": {},
   "source": [
    "### 多频带 FIR 滤波器\n",
    "设计一个 46 阶 FIR 滤波器，衰减低于 0.4π rad/sample和介于 0.6π 和 0.9π rad/sample之间的归一化频率。称之为 bM。"
   ]
  },
  {
   "cell_type": "code",
   "execution_count": 46,
   "metadata": {},
   "outputs": [
    {
     "data": {
      "text/plain": [
       "47-element Vector{Float64}:\n",
       " -0.0008944582865462841\n",
       " -0.0007157870457740431\n",
       " -0.0004539781152843946\n",
       " -1.3789834380575793e-18\n",
       "  0.0007597821863090009\n",
       "  0.0019012861103412401\n",
       "  0.0034190587401666038\n",
       " -0.015572176573370683\n",
       "  0.006958451739254739\n",
       "  0.008334041975304353\n",
       "  ⋮\n",
       "  0.006958451739254739\n",
       " -0.015572176573370683\n",
       "  0.0034190587401666038\n",
       "  0.0019012861103412401\n",
       "  0.0007597821863090009\n",
       " -1.3789834380575793e-18\n",
       " -0.0004539781152843946\n",
       " -0.0007157870457740431\n",
       " -0.0008944582865462841"
      ]
     },
     "metadata": {},
     "output_type": "display_data"
    }
   ],
   "source": [
    "using TyPlot \n",
    "using TySignalProcessing\n",
    "\n",
    "figure()\n",
    "ord = 46\n",
    "low = 0.4\n",
    "bnd = [0.6 0.9]\n",
    "bM = fir1(ord,[low bnd])"
   ]
  },
  {
   "cell_type": "markdown",
   "metadata": {},
   "source": [
    "重新设计 bM 使其通过它正在衰减的频段并停止其他频率。调用新滤波器 bW。显示滤波器的频率响应。"
   ]
  },
  {
   "cell_type": "code",
   "execution_count": 47,
   "metadata": {},
   "outputs": [
    {
     "data": {
      "text/plain": [
       "PyObject <objects.mw_legend.CLegend object at 0x0000023A2B1CA788>"
      ]
     },
     "metadata": {},
     "output_type": "display_data"
    }
   ],
   "source": [
    "bW = fir1(ord,[low bnd],\"DC-1\")\n",
    "fvtool(bM, 1, bW, 1, Analysis = \"magnitude\")\n",
    "legend([\"bM\",\"bW\"])"
   ]
  },
  {
   "cell_type": "markdown",
   "metadata": {},
   "source": [
    "使用 Hann 窗重新设计 bM。 （“DC-0”是可选的。）比较 Hamming 和 Hann 设计的幅度响应。"
   ]
  },
  {
   "cell_type": "code",
   "execution_count": 48,
   "metadata": {},
   "outputs": [
    {
     "data": {
      "text/plain": [
       "PyObject <objects.mw_legend.CLegend object at 0x0000023A72CE72C8>"
      ]
     },
     "metadata": {},
     "output_type": "display_data"
    }
   ],
   "source": [
    "hM = fir1(ord,[low bnd],\"DC-0\",hann(ord+1))\n",
    "figure()\n",
    "fvtool(bM, 1, hM, 1, Analysis = \"magnitude\")\n",
    "legend([\"Hamming\", \"Hann\"])"
   ]
  },
  {
   "cell_type": "markdown",
   "metadata": {},
   "source": [
    "使用 Tukey 窗口重新设计 bW。比较 Hamming 和 Tukey 设计的幅度响应。"
   ]
  },
  {
   "cell_type": "code",
   "execution_count": 49,
   "metadata": {},
   "outputs": [
    {
     "data": {
      "text/plain": [
       "PyObject <objects.mw_legend.CLegend object at 0x0000023A826CA188>"
      ]
     },
     "metadata": {},
     "output_type": "display_data"
    }
   ],
   "source": [
    "tW = fir1(ord,[low bnd],\"DC-1\",tukeywin(ord+1))\n",
    "figure()\n",
    "fvtool(bW, 1, tW, 1, Analysis = \"magnitude\")\n",
    "legend([\"Hamming\", \"Tukey\"])"
   ]
  }
 ],
 "metadata": {
  "kernelspec": {
   "display_name": "Julia 1.9.3",
   "language": "julia",
   "name": "julia-1.9"
  },
  "language_info": {
   "file_extension": ".jl",
   "mimetype": "application/julia",
   "name": "julia",
   "version": "1.9.3"
  },
  "orig_nbformat": 4,
  "vscode": {
   "interpreter": {
    "hash": "88279d2366fe020547cde40dd65aa0e3aa662a6ec1f3ca12d88834876c85e1a6"
   }
  }
 },
 "nbformat": 4,
 "nbformat_minor": 2
}
