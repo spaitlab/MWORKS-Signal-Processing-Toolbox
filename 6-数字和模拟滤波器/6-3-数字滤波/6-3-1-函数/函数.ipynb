{
 "cells": [
  {
   "attachments": {},
   "cell_type": "markdown",
   "metadata": {},
   "source": [
    "### 6.3.1  数字滤波函数\n",
    "\n",
    "此示例说明如何使用带通滤波器对输入信号 x 进行滤波，其通带频率范围由二元素向量 wpass 指定，并以π rad/sample的归一化单位表示。带通使用阻带衰减为 60 dB 的最小阶滤波器，并补偿滤波器引入的延迟。如果 x 是矩阵，则该函数独立过滤每一列。\n",
    "创建一个以 1 kHz 频率采样的信号，持续 1 秒钟。信号包含三个音调，一个为 50 Hz，另一个为 150 Hz，第三个为 250 Hz。高频和低频音调的振幅都是中间音调的两倍。信号内含方差为 1/100 的高斯白噪声。"
   ]
  },
  {
   "cell_type": "code",
   "execution_count": 1,
   "metadata": {},
   "outputs": [
    {
     "data": {
      "text/plain": [
       "1×1001 Matrix{Float64}:\n",
       " -0.0947247  3.48107  2.10497  0.0459542  …  -2.1167  -3.65516  -0.00288517"
      ]
     },
     "metadata": {},
     "output_type": "display_data"
    }
   ],
   "source": [
    "using TyPlot\n",
    "using TySignalProcessing\n",
    "using TyMath\n",
    "\n",
    "rng = MT19937ar(1234)\n",
    "fs = 1e3;\n",
    "t = 0:(1 / fs):1;\n",
    "x =\n",
    "    [2 1 2] * sin.(2 * pi * collect([50 150 250]') * collect(t')) .+\n",
    "    collect((randn(rng, size(t)) ./ 10)')"
   ]
  },
  {
   "attachments": {},
   "cell_type": "markdown",
   "metadata": {},
   "source": [
    "对信号进行带通滤波，去除低频和高频音调。指定通带频率为 100 Hz 和 200 Hz。显示原始信号和滤波信号，以及它们的频谱。"
   ]
  },
  {
   "cell_type": "code",
   "execution_count": 2,
   "metadata": {},
   "outputs": [
    {
     "data": {
      "text/plain": [
       "([0.18224227481575855, 0.5780846821761966, 0.5686446404339985, 0.08059299268829233, -0.5566549798565485, -0.8279338525616101, -0.45082586932111696, 0.3405380270160361, 0.9257057116697577, 0.7925996666934608  …  -0.7779150279304354, -0.908892601575293, -0.3491828494080797, 0.4390782015625714, 0.8630949828874235, 0.6449615163146254, -0.007407420654769281, -0.5908030052925202, -0.695121436346483, -0.30150810874139494], (Coefficients = [-7.507101133993641e-5, -7.54675043804302e-5, -1.4838087594919109e-5, -8.439069791677902e-8, -6.073165415000308e-5, -7.415170821127565e-5, 5.7589718079129396e-5, 0.0002188966020240437, 0.00019976395976958427, -5.6828040515559115e-19  …  -5.6828040515559115e-19, 0.00019976395976958427, 0.0002188966020240437, 5.7589718079129396e-5, -7.415170821127565e-5, -6.073165415000308e-5, -8.439069791677902e-8, -1.4838087594919109e-5, -7.54675043804302e-5, -7.507101133993641e-5], DesignMethod = \"kaiserwin\", FrequencyResponse = \"bandpass\", ImpulseResponse = \"fir\", PassbandFrequency1 = 100, PassbandFrequency2 = 200, PassbandRipple = 0.1, SampleRate = 1000.0, StopbandAttenuation1 = 84.3, StopbandAttenuation2 = 247.10000000000002, StopbandFrequency1 = 60, StopbandFrequency2 = 60))"
      ]
     },
     "metadata": {},
     "output_type": "display_data"
    }
   ],
   "source": [
    "x = x[:]\n",
    "y, b = bandpass(x, [100 200], fs; plotfig=true)"
   ]
  },
  {
   "attachments": {},
   "cell_type": "markdown",
   "metadata": {},
   "source": [
    "此示例说明如何使用使用带阻滤波器对输入信号 x 进行滤波，其阻带频率范围由二元素向量 wpass 指定，并以π rad/sample的归一化单位表示。带阻使用阻带衰减为 60 dB 的最小阶滤波器，并补偿滤波器引入的延迟。如果 x 是矩阵，则该函数独立过滤每一列。\n",
    "创建一个以 1 kHz 频率采样的信号，持续 1 秒钟。信号包含三个音调，一个为 50 Hz，另一个为 150 Hz，第三个为 250 Hz。高频和低频音调的振幅都是中间音调的两倍。信号内含方差为 1/100 的高斯白噪声。"
   ]
  },
  {
   "cell_type": "code",
   "execution_count": 3,
   "metadata": {},
   "outputs": [
    {
     "data": {
      "text/plain": [
       "1×1001 Matrix{Float64}:\n",
       " -0.0947247  3.48107  2.10497  0.0459542  …  -2.1167  -3.65516  -0.00288517"
      ]
     },
     "metadata": {},
     "output_type": "display_data"
    }
   ],
   "source": [
    "using TyPlot\n",
    "using TySignalProcessing\n",
    "using TyMath\n",
    "\n",
    "rng = MT19937ar(1234)\n",
    "fs = 1e3;\n",
    "t = 0:(1 / fs):1;\n",
    "x =\n",
    "    [2 1 2] * sin.(2 * pi * collect([50 150 250]') * collect(t')) .+\n",
    "    collect((randn(rng, size(t)) ./ 10)')"
   ]
  },
  {
   "attachments": {},
   "cell_type": "markdown",
   "metadata": {},
   "source": [
    "对信号进行带阻滤波，去除中频音。指定通带频率为 100 Hz 和 200 Hz。显示原始信号和滤波信号，以及它们的频谱。"
   ]
  },
  {
   "cell_type": "code",
   "execution_count": 4,
   "metadata": {},
   "outputs": [
    {
     "data": {
      "text/plain": [
       "([-0.2595800238087867, 2.9144803740778564, 1.5379356830551574, -0.029539696339359364, 2.0163508640343215, 3.795007903187065, 1.7082512297268466, -0.30521207220270563, 1.2683416746121838, 2.6957126549293116  …  -2.671085133611209, -1.3188603690492005, 0.47321412317273587, -1.6710110132669644, -3.652387800998824, -1.9346427115543359, 0.24651752495384874, -1.520894918309779, -3.0060123638163567, 0.22598157470079197], (Coefficients = [-2.5156660319657803e-5, -3.3888111715236696e-5, 2.1876299470585784e-18, 5.32925868133718e-5, 6.783939768224732e-5, 2.186717688406256e-5, -3.729861104315365e-5, -4.927460596603412e-5, -1.6896978423670133e-5, 9.524889339762252e-7  …  9.524889339762252e-7, -1.6896978423670133e-5, -4.927460596603412e-5, -3.729861104315365e-5, 2.186717688406256e-5, 6.783939768224732e-5, 5.32925868133718e-5, 2.1876299470585784e-18, -3.3888111715236696e-5, -2.5156660319657803e-5], DesignMethod = \"kaiserwin\", FrequencyResponse = \"bandstop\", ImpulseResponse = \"fir\", PassbandFrequency1 = 100, PassbandFrequency2 = 200, PassbandRipple1 = 0.1, PassbandRipple2 = 0.1, SampleRate = 1000.0, StopbandAttenuation = 60, StopbandFrequency1 = 107.85000000000001, StopbandFrequency2 = 192.15))"
      ]
     },
     "metadata": {},
     "output_type": "display_data"
    }
   ],
   "source": [
    "x = x[:]\n",
    "y, b = bandstop(x, [100 200], fs; plotfig=true)"
   ]
  }
 ],
 "metadata": {
  "kernelspec": {
   "display_name": "Julia 1.9.3",
   "language": "julia",
   "name": "julia-1.9"
  },
  "language_info": {
   "file_extension": ".jl",
   "mimetype": "application/julia",
   "name": "julia",
   "version": "1.9.3"
  },
  "orig_nbformat": 4,
  "vscode": {
   "interpreter": {
    "hash": "683f87ab08161c4afd4179992aafccaf47b05ca6df2d9977fe9bcc68f334f35e"
   }
  }
 },
 "nbformat": 4,
 "nbformat_minor": 2
}
