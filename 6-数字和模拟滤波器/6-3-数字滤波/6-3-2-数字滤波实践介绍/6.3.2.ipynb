{
 "cells": [
  {
   "cell_type": "code",
   "execution_count": null,
   "metadata": {
    "vscode": {
     "languageId": "julia"
    }
   },
   "outputs": [],
   "source": [
    "using MAT\n",
    "using TyPlot\n",
    "using TyMath\n",
    "using TyBase\n",
    "using TySignalProcessing\n",
    "\n",
    "tTrueSignal = 0:0.01:20\n",
    "xTrueSignal = sin.(2*pi*2*tTrueSignal/7)\n",
    "\n",
    "tSampled = 0:20;\n",
    "xSampled = sin.(2*pi*2*tSampled/7)\n",
    "\n",
    "plot(tTrueSignal,xTrueSignal,\"-\", tSampled,xSampled, \"-o\")\n",
    "legend([\"true signal\",\"samples\"])\n",
    "\n",
    "figure(2)\n",
    "tResampled = 0:0.1:20\n",
    "xLinear = interp1(tSampled,xSampled,tResampled,\"linear\")\n",
    "plot(tTrueSignal,xTrueSignal,\"-\", tSampled, xSampled, \"-o\", tResampled,xLinear,\".-\")\n",
    "legend([\"true signal\",\"samples\",\"interp1 (linear)\"])\n",
    "\n",
    "figure(3)\n",
    "xSpline = interp1(tSampled,xSampled,tResampled,\"spline\")\n",
    "plot(tTrueSignal,xTrueSignal,\"-\", tSampled, xSampled,\"o\", tResampled,xLinear,\".-\", tResampled,xSpline,\".-\")\n",
    "legend([\"true signal\",\"samples\",\"interp1 (linear)\",\"interp1 (spline)\"])\n",
    "\n",
    "figure(4)\n",
    "xResample_ = TySignalProcessing.resample(xSampled, 10, 1)\n",
    "xResample = xResample_[1]\n",
    "b = size(a)\n",
    "tResample = 0.1 .* (collect(1:1:b[1]).-1)\n",
    "plot(tTrueSignal,xTrueSignal,\"-\", tResampled, xSpline,\":\", tResample, xResample,\":\")\n",
    "legend([\"true signal\",\"interp1 (spline)\",\"resample\"])\n",
    "\n",
    "figure(5)\n",
    "plot(tTrueSignal,xTrueSignal,\"-\", tResampled,xSpline,\".\", tResample, xResample,\".\")\n",
    "legend([\"true signal\",\"interp1 (spline)\",\"resample\"])\n",
    "xlim([6 10])\n",
    "\n",
    "\n",
    "\n",
    "tTrueSignal = 0:0.1:20\n",
    "xTrueSignal = sin(2*pi*2*tTrueSignal/15)\n",
    "\n",
    "Tx = 0:20\n",
    "Tmissing = Tx(10)"
   ]
  },
  {
   "cell_type": "code",
   "execution_count": null,
   "metadata": {
    "vscode": {
     "languageId": "julia"
    }
   },
   "outputs": [],
   "source": []
  }
 ],
 "metadata": {
  "language_info": {
   "name": "python"
  },
  "orig_nbformat": 4
 },
 "nbformat": 4,
 "nbformat_minor": 2
}
