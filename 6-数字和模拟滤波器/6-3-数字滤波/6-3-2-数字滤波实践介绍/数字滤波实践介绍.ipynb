{
 "cells": [
  {
   "cell_type": "code",
   "execution_count": 1,
   "metadata": {},
   "outputs": [
    {
     "ename": "UndefVarError",
     "evalue": "UndefVarError: `a` not defined",
     "output_type": "error",
     "traceback": [
      "UndefVarError: `a` not defined\n",
      "\n",
      "Stacktrace:\n",
      " [1] top-level scope\n",
      "   @ c:\\Users\\DELL\\Desktop\\MWORKS-Signal-Processing-Toolbox\\6-数字和模拟滤波器\\6-3-数字滤波\\6-3-2-数字滤波实践介绍\\数字滤波实践介绍.ipynb:30"
     ]
    }
   ],
   "source": [
    "using MAT\n",
    "using TyPlot\n",
    "using TyMath\n",
    "using TyBase\n",
    "using TySignalProcessing\n",
    "\n",
    "tTrueSignal = 0:0.01:20\n",
    "xTrueSignal = sin.(2*pi*2*tTrueSignal/7)\n",
    "\n",
    "tSampled = 0:20;\n",
    "xSampled = sin.(2*pi*2*tSampled/7)\n",
    "\n",
    "plot(tTrueSignal,xTrueSignal,\"-\", tSampled,xSampled, \"-o\")\n",
    "legend([\"true signal\",\"samples\"])\n",
    "\n",
    "figure(2)\n",
    "tResampled = 0:0.1:20\n",
    "xLinear = interp1(tSampled,xSampled,tResampled,\"linear\")\n",
    "plot(tTrueSignal,xTrueSignal,\"-\", tSampled, xSampled, \"-o\", tResampled,xLinear,\".-\")\n",
    "legend([\"true signal\",\"samples\",\"interp1 (linear)\"])\n",
    "\n",
    "figure(3)\n",
    "xSpline = interp1(tSampled,xSampled,tResampled,\"spline\")\n",
    "plot(tTrueSignal,xTrueSignal,\"-\", tSampled, xSampled,\"o\", tResampled,xLinear,\".-\", tResampled,xSpline,\".-\")\n",
    "legend([\"true signal\",\"samples\",\"interp1 (linear)\",\"interp1 (spline)\"])\n",
    "\n",
    "figure(4)\n",
    "xResample_ = TySignalProcessing.resample(xSampled, 10, 1)\n",
    "xResample = xResample_[1]\n",
    "b = size(a)\n",
    "tResample = 0.1 .* (collect(1:1:b[1]).-1)\n",
    "plot(tTrueSignal,xTrueSignal,\"-\", tResampled, xSpline,\":\", tResample, xResample,\":\")\n",
    "legend([\"true signal\",\"interp1 (spline)\",\"resample\"])\n",
    "\n",
    "figure(5)\n",
    "plot(tTrueSignal,xTrueSignal,\"-\", tResampled,xSpline,\".\", tResample, xResample,\".\")\n",
    "legend([\"true signal\",\"interp1 (spline)\",\"resample\"])\n",
    "xlim([6 10])\n",
    "\n",
    "\n",
    "tTrueSignal = 0:0.1:20\n",
    "xTrueSignal = sin(2*pi*2*tTrueSignal/15)\n",
    "\n",
    "Tx = 0:20\n",
    "Tmissing = Tx(10)"
   ]
  }
 ],
 "metadata": {
  "kernelspec": {
   "display_name": "Julia 1.9.3",
   "language": "julia",
   "name": "julia-1.9"
  },
  "language_info": {
   "file_extension": ".jl",
   "mimetype": "application/julia",
   "name": "julia",
   "version": "1.9.3"
  },
  "orig_nbformat": 4
 },
 "nbformat": 4,
 "nbformat_minor": 2
}
