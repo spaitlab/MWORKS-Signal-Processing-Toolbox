{
 "cells": [
  {
   "attachments": {},
   "cell_type": "markdown",
   "metadata": {},
   "source": [
    "### 6.4.5  在下采样前进行滤波\n",
    "\n",
    "此示例说明如何在下采样前进行滤波以减轻混叠造成的失真。您可以使用 decimate 或 resample 以通过一个函数进行滤波和下采样。您也可以先对数据进行低通滤波，然后使用 downsample。创建基带频谱支持大于 π 弧度的信号。使用 decimate 以在下采样之前通过 10 阶切比雪夫 I 型低通滤波器对信号滤波。\n",
    "首先创建信号，再对其进行下采样前滤波："
   ]
  },
  {
   "cell_type": "code",
   "execution_count": 7,
   "metadata": {},
   "outputs": [
    {
     "data": {
      "text/plain": [
       "PyObject <matplotlib.legend.Legend object at 0x000002631AE746C8>"
      ]
     },
     "metadata": {},
     "output_type": "display_data"
    }
   ],
   "source": [
    "using TyPlot\n",
    "using TySignalProcessing\n",
    "\n",
    "# 定义频率和幅值响应\n",
    "f = [0, 0.2500, 0.5000, 0.7500, 1.0000]\n",
    "a = [1.00, 0.6667, 0.3333, 0, 0]\n",
    "\n",
    "# 计算FIR滤波器系数\n",
    "nf = 512\n",
    "window = ones(nf) # 创建一个与滤波器长度相同的窗口\n",
    "b = fir2(nf-1, f, a, window)\n",
    "\n",
    "# 计算频率响应\n",
    "h, w = freqz(b, 1, nf, \"whole\", 2π)\n",
    "omega = -π:2π/nf:π-2π/nf\n",
    "\n",
    "# 绘制频率响应\n",
    "plot(omega/π, abs.(fftshift(h)), label=\"Original\")\n",
    "grid(true)\n",
    "xlabel(\"×π rad/sample\")\n",
    "ylabel(\"Magnitude\")\n",
    "\n",
    "# 使用10阶切比雪夫I型低通滤波器进行滤波并下采样\n",
    "y = decimate(b, 2, 10)\n",
    "h_dec, w_dec = freqz(y, 1, nf, \"whole\", 2π)\n",
    "\n",
    "# 绘制下采样后的频率响应\n",
    "hold(true)\n",
    "plot(omega/π, abs.(fftshift(h_dec)), label=\"Downsampled\")\n",
    "legend()"
   ]
  }
 ],
 "metadata": {
  "kernelspec": {
   "display_name": "Julia 1.9.3",
   "language": "julia",
   "name": "julia-1.9"
  },
  "language_info": {
   "file_extension": ".jl",
   "mimetype": "application/julia",
   "name": "julia",
   "version": "1.9.3"
  },
  "orig_nbformat": 4,
  "vscode": {
   "interpreter": {
    "hash": "683f87ab08161c4afd4179992aafccaf47b05ca6df2d9977fe9bcc68f334f35e"
   }
  }
 },
 "nbformat": 4,
 "nbformat_minor": 2
}
