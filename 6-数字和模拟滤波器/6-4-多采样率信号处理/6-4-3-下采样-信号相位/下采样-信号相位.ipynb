{
 "cells": [
  {
   "attachments": {},
   "cell_type": "markdown",
   "metadata": {},
   "source": [
    "# 下采样 - 信号相位"
   ]
  },
  {
   "attachments": {},
   "cell_type": "markdown",
   "metadata": {},
   "source": [
    "此示例旨在展示如何通过downsample函数获取信号的不同相位。当以因子M对信号进行下采样时，可以得到M个独特的相位。例如，假设有一个离散时间信号x，其包含样本x(0)、x(1)、x(2)、x(3)等。信号x的M个相位可以表示为x(nM + k)，其中k的取值为0, 1, ..., M-1。\n",
    "\n",
    "这M个信号被称为x的多相分量。\n",
    "\n",
    "创建一个白噪声向量，并以 3 为因子下采样以得到 3 个多相分量。\n",
    "\n",
    "将随机数生成器重置为默认设置，以产生可重复的结果。生成一个白噪声随机向量，并以 3 为因子下采样以得到 3 个多相分量。\n",
    "\n",
    "多相分量的长度恰好是原始信号长度的三分之一。通过使用`upsample`函数对这些多相分量进行3倍上采样，我们可以恢复出原始信号的不同相位版本。"
   ]
  },
  {
   "cell_type": "code",
   "execution_count": null,
   "metadata": {
    "vscode": {
     "languageId": "julia"
    }
   },
   "outputs": [],
   "source": [
    "using MAT  # 导入MAT模块，用于处理MAT文件\n",
    "# using Plots  # 这行代码被注释掉了，如果取消注释，将导入Plots模块，用于绘图\n",
    "using TyPlot  # 导入TyPlot模块，可能是用于绘图的自定义包\n",
    "using TySignalProcessing  # 导入TySignalProcessing模块，用于信号处理\n",
    "using TyMath  # 导入TyMath模块，用于数学运算\n",
    "using TyBase  # 导入TyBase模块，提供基本功能\n",
    "\n",
    "x = randn(36, 1);  \n",
    "# 对信号x进行3倍下采样\n",
    "x0 = downsample(x, 3, 0); \n",
    "x1 = downsample(x, 3, 1);  \n",
    "x2 = downsample(x, 3, 2);  \n",
    "\n",
    "# 对信号x0进行3倍上采样\n",
    "y0 = upsample(x0, 3, 0);  \n",
    "y1 = upsample(x1, 3, 1);  \n",
    "y2 = upsample(x2, 3, 2);  \n",
    "\n",
    "# 绘制原始信号\n",
    "subplot(4, 1, 1) \n",
    "stem(x, markerfmt=\".\") \n",
    "title(\"原始信号\")  \n",
    "ylim([-4 4])  \n",
    "\n",
    "# 绘制信号相位\n",
    "subplot(4, 1, 2)  \n",
    "stem(y0, markerfmt=\".\")  \n",
    "ylabel(\"相位 0\")  \n",
    "ylim([-4 4])  \n",
    "\n",
    "subplot(4, 1, 3) \n",
    "stem(y1, markerfmt=\".\")  \n",
    "ylabel(\"相位 1\")  \n",
    "ylim([-4 4])  \n",
    "\n",
    "subplot(4, 1, 4) \n",
    "stem(y2, markerfmt=\".\")  \n",
    "ylabel(\"相位 2\")  \n",
    "ylim([-4 4]) \n",
    "\n"
   ]
  },
  {
   "attachments": {},
   "cell_type": "markdown",
   "metadata": {},
   "source": [
    "通过对上采样的多相分量进行求和，可以精确地重建出原始信号。\n",
    "\n",
    "接下来，我们将创建一个离散时间正弦信号，并以其2倍下采样，从而得到两个多相分量。\n",
    "\n",
    "首先，构造一个角频率为 $\\pi/4$ 弧度/采样点的离散时间正弦波。然后，在这个正弦波上加上一个值为2的直流偏移量，这样做有助于多相分量的可视化。最后，对加偏移的正弦波进行2倍下采样，以便分离出偶数和奇数多相分量。\n"
   ]
  },
  {
   "cell_type": "code",
   "execution_count": null,
   "metadata": {
    "vscode": {
     "languageId": "julia"
    }
   },
   "outputs": [],
   "source": [
    "\n",
    "n = 0:127;  \n",
    "# x = 2 + cos(pi / 4 * n); \n",
    "x = 2 .+ cos.(pi / 4 * n);  \n",
    "\n",
    "# 对信号下采样\n",
    "x0 = downsample(x, 2, 0);  \n",
    "x1 = downsample(x, 2, 1); \n",
    "\n",
    "# 对信号上采样\n",
    "y0 = upsample(x0, 2, 0);\n",
    "y1 = upsample(x1, 2, 1);  \n"
   ]
  },
  {
   "attachments": {},
   "cell_type": "markdown",
   "metadata": {},
   "source": [
    "绘制上采样后的多相分量和原始信号以进行比较。"
   ]
  },
  {
   "cell_type": "code",
   "execution_count": null,
   "metadata": {
    "vscode": {
     "languageId": "julia"
    }
   },
   "outputs": [],
   "source": [
    "\n",
    "subplot(3, 1, 1)  \n",
    "stem(x, markerfmt=\".\") \n",
    "ylim([0.5 3.5])  \n",
    "title(\"原始信号\")  \n",
    "\n",
    "# 绘制多相分量\n",
    "subplot(3, 1, 2)  \n",
    "stem(y0, markerfmt=\".\")  \n",
    "ylim([0.5 3.5]) \n",
    "ylabel(\"相位 0\") \n",
    "\n",
    "subplot(3, 1, 3)  \n",
    "stem(y1, markerfmt=\".\")  \n",
    "ylim([0.5 3.5])"
   ]
  }
 ],
 "metadata": {
  "language_info": {
   "name": "python"
  },
  "orig_nbformat": 4
 },
 "nbformat": 4,
 "nbformat_minor": 2
}
