{
 "cells": [
  {
   "attachments": {},
   "cell_type": "markdown",
   "metadata": {},
   "source": [
    "# 信号处理仿真与应用-MWorks版-案例\n",
    "\n",
    "# 第6章 数字和模拟滤波器\n",
    "\n",
    "## 6.4 多采样率信号处理\n",
    "\n",
    "### 6.4.4 下采样-混叠\n",
    "\n",
    "对连续信号进行等时间采样时，如果采样频率不满足采样定理，采样后的信号频率就会发生混叠，即高于奈奎斯特频率（采样频率的一半）的频率成分将被重构成低于奈奎斯特频率的信号。这种频谱的重叠导致的失真称为混叠，也就是高频信号被混叠成了低频信号。如何在对信号进行下采样时避免混叠？如果离散时间信号的基带频谱支持不限于宽度为 2π/M 弧度的区间，则以 M 为因子下采样会导致混叠。混叠是当信号频谱的多个副本重叠在一起时发生的失真。信号的基带频谱支持超出 2π/M 弧度越多，混叠越严重。\n",
    "##### Julia\n",
    "\n",
    "\n",
    "此示例演示了以 2 为因子下采样的信号中的混叠。信号的基带频谱支持超过了 π 弧度的宽度。\n"
   ]
  },
  {
   "attachments": {},
   "cell_type": "markdown",
   "metadata": {},
   "source": [
    "创建一个基带频谱支持等于 3π/2 弧度的信号。使用 fir2 设计信号。绘制信号的频谱。信号的基带频谱支持超出 [−π/2,π/2]。"
   ]
  },
  {
   "cell_type": "code",
   "execution_count": 21,
   "metadata": {},
   "outputs": [
    {
     "data": {
      "text/plain": [
       "PyObject <objects.mw_text.CYlabel object at 0x000001138A2DFAC8>"
      ]
     },
     "metadata": {},
     "output_type": "display_data"
    }
   ],
   "source": [
    "using TyPlot \n",
    "using TySignalProcessing\n",
    "using TyMath\n",
    "f = [0 0.2500 0.5000 0.7500 1.0000]\n",
    "a = [1.00 0.6667 0.3333 0 0]\n",
    "nf=512\n",
    "b1 = fir2(510, f, a)\n",
    "h,w = freqz(b1,1,512,\"whole\")\n",
    "Hx=fftshift(h,w)\n",
    "omega = -pi:2*pi/nf:pi-2*pi/nf\n",
    "figure()\n",
    "plot(omega/pi, abs.(Hx))\n",
    "grid(true)\n",
    "xlabel(\"\\u00D7π rad/sample\")  \n",
    "ylabel(\"Magnitude\")"
   ]
  },
  {
   "attachments": {},
   "cell_type": "markdown",
   "metadata": {},
   "source": [
    "以 2 为因子对信号下采样，并绘制下采样信号的频谱和原始信号的频谱。除频谱的振幅缩放之外，重叠频谱副本的叠加还会导致 ∣ω∣>π/2 的原始频谱失真。"
   ]
  },
  {
   "cell_type": "code",
   "execution_count": 22,
   "metadata": {},
   "outputs": [
    {
     "data": {
      "text/plain": [
       "PyObject <objects.mw_text.CYlabel object at 0x000001138DB9D2C8>"
      ]
     },
     "metadata": {},
     "output_type": "display_data"
    }
   ],
   "source": [
    "y=downsample(b1,2,0)\n",
    "h,w = freqz(y,1,512,\"whole\")\n",
    "Hy=fftshift(h,w)\n",
    "figure()\n",
    "plot(omega/pi, abs.(Hx))\n",
    "hold(\"on\")\n",
    "plot(omega/pi,abs.(Hy))\n",
    "hold(\"off\")\n",
    "legend([\"Original\", \"Downsampled\"])\n",
    "xlabel(\"\\u00D7π rad/sample\")  \n",
    "ylabel(\"Magnitude\")"
   ]
  },
  {
   "attachments": {},
   "cell_type": "markdown",
   "metadata": {},
   "source": [
    "将信号的基带频谱支持增加到 [−7π/8,7π/8] 并以 2 为因子对信号下采样。绘制原始频谱和下采样信号的频谱。频谱宽度的增加导致下采样信号频谱中更明显的混叠，因为有更多信号能量处在 [−π/2,π/2] 之外。"
   ]
  },
  {
   "cell_type": "code",
   "execution_count": 23,
   "metadata": {},
   "outputs": [
    {
     "data": {
      "text/plain": [
       "PyObject <objects.mw_text.CYlabel object at 0x00000113928253C8>"
      ]
     },
     "metadata": {},
     "output_type": "display_data"
    }
   ],
   "source": [
    "f = [0 0.2500 0.5000 0.7500 7/8 1.0000]\n",
    "a = [1.00 0.7143 0.4286 0.1429 0 0]\n",
    "b2 = fir2(510,f,a)\n",
    "h,w = freqz(b2,1,512,\"whole\")\n",
    "Hx=fftshift(h,w)\n",
    "\n",
    "figure()\n",
    "plot(omega/pi, abs.(Hx))\n",
    "grid(true)\n",
    "xlabel(\"\\u00D7π rad/sample\")  \n",
    "ylabel(\"Magnitude\")\n",
    "\n",
    "y=downsample(b2,2,0)\n",
    "h,w = freqz(y,1,512,\"whole\")\n",
    "Hy=fftshift(h,w)\n",
    "\n",
    "plot(omega/pi, abs.(Hx))\n",
    "hold(\"on\")\n",
    "plot(omega/pi,abs.(Hy))\n",
    "hold(\"off\")\n",
    "legend([\"Original\", \"Downsampled\"])\n",
    "xlabel(\"\\u00D7π rad/sample\")  \n",
    "ylabel(\"Magnitude\")"
   ]
  },
  {
   "attachments": {},
   "cell_type": "markdown",
   "metadata": {},
   "source": [
    "最后，构造基带频谱支持仅限于 [−π/2,π/2] 的信号。以 2 为因子对信号下采样，并绘制原始信号的频谱和下采样信号的频谱。下采样信号是全频带信号。下采样信号的频谱是原始频谱的扩展和缩放版本，但频谱的形状得以保留，因为频谱副本不重叠。没有混叠。"
   ]
  },
  {
   "cell_type": "code",
   "execution_count": 24,
   "metadata": {},
   "outputs": [
    {
     "data": {
      "text/plain": [
       "PyObject <objects.mw_text.CYlabel object at 0x00000113950CDF48>"
      ]
     },
     "metadata": {},
     "output_type": "display_data"
    }
   ],
   "source": [
    "f = [0 0.250 0.500 0.7500 1]\n",
    "a = [1.0000 0.5000 0 0 0]\n",
    "b3 = fir2(510,f,a)\n",
    "h,w = freqz(b3,1,512,\"whole\")\n",
    "Hx=fftshift(h,w)\n",
    "figure()\n",
    "plot(omega/pi, abs.(Hx))\n",
    "grid(true)\n",
    "xlabel(\"\\u00D7π rad/sample\")  \n",
    "ylabel(\"Magnitude\")\n",
    "\n",
    "y=downsample(b3,2,0)\n",
    "h,w = freqz(y,1,512,\"whole\")\n",
    "Hy=fftshift(h,w)\n",
    "plot(omega/pi, abs.(Hx))\n",
    "hold(\"on\")\n",
    "plot(omega/pi,abs.(Hy))\n",
    "hold(\"off\")\n",
    "legend([\"Original\", \"Downsampled\"])\n",
    "xlabel(\"\\u00D7π rad/sample\")  \n",
    "ylabel(\"Magnitude\")"
   ]
  }
 ],
 "metadata": {
  "kernelspec": {
   "display_name": "Julia 1.9.3",
   "language": "julia",
   "name": "julia-1.9"
  },
  "language_info": {
   "file_extension": ".jl",
   "mimetype": "application/julia",
   "name": "julia",
   "version": "1.9.3"
  },
  "orig_nbformat": 4
 },
 "nbformat": 4,
 "nbformat_minor": 2
}
