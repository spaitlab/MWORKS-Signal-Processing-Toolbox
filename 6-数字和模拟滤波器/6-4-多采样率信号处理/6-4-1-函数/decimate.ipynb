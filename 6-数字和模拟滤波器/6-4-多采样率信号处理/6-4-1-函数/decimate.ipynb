{
 "cells": [
  {
   "cell_type": "code",
   "execution_count": 1,
   "metadata": {},
   "outputs": [
    {
     "data": {
      "text/plain": [
       "PyObject <objects.mw_text.CYlabel object at 0x000001D82AFFFEC8>"
      ]
     },
     "metadata": {},
     "output_type": "display_data"
    }
   ],
   "source": [
    "using TySignalProcessing\n",
    "using TyPlot\n",
    "# 创建时间向量t\n",
    "t = 0:1/4e3:1;\n",
    "# 创建信号x\n",
    "x = sin.(2 * π * 30 * t) + sin.(2 * π * 60 * t);\n",
    "# 使用decimate函数降采样，M是降采样因子\n",
    "y = decimate(x, 4);\n",
    "figure()\n",
    "subplot(2,1,1)\n",
    "stem(0:120, x[1:121])\n",
    "xlabel(\"Sample Number\")\n",
    "ylabel(\"Original\")\n",
    "subplot(2,1,2)\n",
    "stem(0:30,y[1:31])\n",
    "xlabel(\"Sample Number\")\n",
    "ylabel(\"Decimated\")\n",
    "r = 13\n",
    "n = 16:365\n",
    "lx = length(n)\n",
    "x = sin.(2 * π * n / 153) + cos.(2 * π * n / 127)\n",
    "figure()\n",
    "plot(0:lx-1, x,\"o\")\n",
    "hold(\"on\")\n",
    "y = decimate(x, r, 5)\n",
    "stem(lx-1:-r:0, reverse(y))\n",
    "legend(\"Original\",\"Decimated\",\"Location\",\"south\")\n",
    "xlabel(\"Sample number\")\n",
    "ylabel(\"Signal\")\n",
    "r = 13\n",
    "n = 16:365\n",
    "lx = length(n)\n",
    "x = sin.(2 * π * n / 153) + cos.(2 * π * n / 127)\n",
    "figure()\n",
    "plot(0:lx-1, x,\"o\")\n",
    "hold(\"on\")\n",
    "y = decimate(x, r, 82;option = \"fir\" )\n",
    "stem(0:r:lx-1,y)\n",
    "legend(\"Original\",\"Decimated\",\"Location\",\"south\")\n",
    "xlabel(\"Sample number\")\n",
    "ylabel(\"Signal\")"
   ]
  }
 ],
 "metadata": {
  "kernelspec": {
   "display_name": "Julia 1.9.3",
   "language": "julia",
   "name": "julia-1.9"
  },
  "language_info": {
   "file_extension": ".jl",
   "mimetype": "application/julia",
   "name": "julia",
   "version": "1.9.3"
  },
  "orig_nbformat": 4
 },
 "nbformat": 4,
 "nbformat_minor": 2
}
