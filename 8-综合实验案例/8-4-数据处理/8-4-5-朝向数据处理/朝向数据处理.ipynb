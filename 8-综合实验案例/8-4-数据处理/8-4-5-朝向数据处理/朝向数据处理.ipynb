{
 "cells": [
  {
   "cell_type": "code",
   "execution_count": null,
   "metadata": {
    "vscode": {
     "languageId": "plaintext"
    }
   },
   "outputs": [],
   "source": [
    "using Pkg\n",
    "Pkg.add(\"DelimitedFiles\")\n",
    "Pkg.add(\"CSV\")\n",
    "using DelimitedFiles\n",
    "\n",
    "# 读取csv文件\n",
    "csvFile = \".\\\\data\\\\data.csv\"\n",
    "csvData = DelimitedFiles.readdlm(csvFile, ',', header=true)\n",
    "data = csvData[1]\n",
    "\n",
    "# 读取航向的数据\n",
    "\n",
    "lhX = data[:, 15]\n",
    "lhY = data[:, 16]\n",
    "lhZ = data[:, 17]\n",
    "\n",
    "# 一维中位数滤波平滑处理\n",
    "\n",
    "MedlhX = medfilt1(lhX, 10)\n",
    "MedlhY = medfilt1(lhY, 10)\n",
    "MedlhZ = medfilt1(lhZ, 10)\n",
    "\n",
    "# 将航向数据进行可视化\n",
    "figure(1)\n",
    "plot(lhX)\n",
    "hold(\"on\")\n",
    "plot(lhY)\n",
    "hold(\"on\")\n",
    "plot(lhZ)\n",
    "hold(\"off\")\n",
    "title(\"LocationHeading-Data\")\n",
    "xlabel(\"N\")\n",
    "ylabel(\"locationHeadingX/Y/Z\")\n",
    "legend([\"locationHeadingX\", \"locationHeadingY\", \"locationHeadingZ\"])\n",
    "\n",
    "# 将平滑处理后的航向数据进行可视化\n",
    "\n",
    "figure(2)\n",
    "plot(MedlhX)\n",
    "hold(\"on\")\n",
    "plot(MedlhY)\n",
    "hold(\"on\")\n",
    "plot(MedlhZ)\n",
    "hold(\"off\")\n",
    "title(\"MedfiltLocationHeading-Data\")\n",
    "xlabel(\"N\")\n",
    "ylabel(\"MedfiltlocationHeadingX/Y/Z\")\n",
    "legend([\"MedfiltlocationHeadingX\", \"MedfiltlocationHeadingY\", \"MedfiltlocationHeadingZ\"])"
   ]
  }
 ],
 "metadata": {
  "language_info": {
   "name": "python"
  }
 },
 "nbformat": 4,
 "nbformat_minor": 2
}
