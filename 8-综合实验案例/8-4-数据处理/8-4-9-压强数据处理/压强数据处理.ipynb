{
 "cells": [
  {
   "cell_type": "code",
   "execution_count": null,
   "metadata": {
    "vscode": {
     "languageId": "plaintext"
    }
   },
   "outputs": [],
   "source": [
    "using Pkg\n",
    "Pkg.add(\"DelimitedFiles\")\n",
    "\n",
    "using DelimitedFiles\n",
    "# 读取csv文件\n",
    "csvFile = \".\\\\data\\\\data.csv\"\n",
    "csvData = DelimitedFiles.readdlm(csvFile, ',', header=true)\n",
    "data = csvData[1]\n",
    "\n",
    "# 读取压强数据\n",
    "alt_Time = data[:, 69]\n",
    "alt_Press = data[:, 72]\n",
    "\n",
    "# 将压强的数据进行可视化\n",
    "figure(1)\n",
    "plot(alt_Time, alt_Press)\n",
    "title(\"altimeter-Data\")\n",
    "xlabel(\"altimeterTimestamp_sinceReboot\")\n",
    "ylabel(\"altimeterPressure\")\n",
    "legend([\"altimeterPressure\"])"
   ]
  }
 ],
 "metadata": {
  "language_info": {
   "name": "python"
  }
 },
 "nbformat": 4,
 "nbformat_minor": 2
}
