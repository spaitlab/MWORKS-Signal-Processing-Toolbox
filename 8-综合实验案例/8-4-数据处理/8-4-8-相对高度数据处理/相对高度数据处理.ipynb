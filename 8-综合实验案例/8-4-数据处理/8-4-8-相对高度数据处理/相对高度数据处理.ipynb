{
 "cells": [
  {
   "cell_type": "code",
   "execution_count": null,
   "metadata": {
    "vscode": {
     "languageId": "plaintext"
    }
   },
   "outputs": [],
   "source": [
    "using Pkg\n",
    "Pkg.add(\"DelimitedFiles\")\n",
    "\n",
    "using DelimitedFiles\n",
    "# 读取csv文件\n",
    "csvFile = \".\\\\data\\\\data.csv\"\n",
    "csvData = DelimitedFiles.readdlm(csvFile, ',', header = true)\n",
    "data = csvData[1]\n",
    "# 读取相对高度计的数据\n",
    "altimeterTimestamp_sinceReboot = data[:, 69]\n",
    "altimeterRelativeAltitude = data[:, 71]\n",
    "\n",
    "# 将相对高度计的数据进行可视化并平均滤波\n",
    "figure(1)\n",
    "altimeterRelativeAltitude_Average = medfilt1(altimeterRelativeAltitude, 10)\n",
    "plot(altimeterTimestamp_sinceReboot, altimeterRelativeAltitude)\n",
    "hold(\"on\")\n",
    "plot(altimeterTimestamp_sinceReboot, altimeterRelativeAltitude_Average)\n",
    "title(\"Relative Altitude-Data\")\n",
    "xlabel(\"altimeterTimestamp_sinceReboot\")\n",
    "ylabel(\"altimeterRelativeAltitude\")\n",
    "legend([\"altimeterRelativeAltitude\", \"altimeterRelativeAltitude Average\"])"
   ]
  }
 ],
 "metadata": {
  "language_info": {
   "name": "python"
  }
 },
 "nbformat": 4,
 "nbformat_minor": 2
}
