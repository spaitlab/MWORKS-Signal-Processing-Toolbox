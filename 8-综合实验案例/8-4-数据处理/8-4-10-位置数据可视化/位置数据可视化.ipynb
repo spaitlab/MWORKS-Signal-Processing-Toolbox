{
 "cells": [
  {
   "cell_type": "code",
   "execution_count": null,
   "metadata": {
    "vscode": {
     "languageId": "plaintext"
    }
   },
   "outputs": [],
   "source": [
    "using Pkg\n",
    "Pkg.add(\"DelimitedFiles\")\n",
    "\n",
    "using DelimitedFiles\n",
    "# 读取csv文件\n",
    "csvFile = \".\\\\data\\\\data.csv\"\n",
    "csvData = DelimitedFiles.readdlm(csvFile, ',', header=true)\n",
    "data = csvData[1]\n",
    "\n",
    "#读取位置数据\n",
    "T=data[:, 3]\n",
    "Lat=data[:, 4]\n",
    "Long=data[:, 5]\n",
    "ALT=data[:, 6]\n",
    "#位置数据可视化\n",
    "figure(1)\n",
    "plot(T,Lat)\n",
    "hold(\"on\")\n",
    "plot(T,Long)\n",
    "hold(\"off\")\n",
    "title(\"经纬度数据可视化\")\n",
    "xlabel(\"LocTS-s1970(s)\")\n",
    "ylabel(\"Loc-(WGS84)\")\n",
    "legend([\"Loc-Lat\",\"Loc-Long\"])\n",
    "\n",
    "figure(2)\n",
    "plot(T,ALT)\n",
    "title(\"海拔数据可视化\")\n",
    "xlabel(\"LocTS-s1970(s)\")\n",
    "ylabel(\"Loc-ALT(m)\")"
   ]
  }
 ],
 "metadata": {
  "language_info": {
   "name": "python"
  }
 },
 "nbformat": 4,
 "nbformat_minor": 2
}
