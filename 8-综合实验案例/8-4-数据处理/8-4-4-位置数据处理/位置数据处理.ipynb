{
 "cells": [
  {
   "cell_type": "code",
   "execution_count": null,
   "metadata": {
    "vscode": {
     "languageId": "plaintext"
    }
   },
   "outputs": [],
   "source": [
    "using DataFrames, CSV\n",
    "using DelimitedFiles\n",
    "\n",
    "csvFile = \".\\\\data\\\\data.csv\"\n",
    "\n",
    "# 读取csv文件\n",
    "x = CSV.read(csvFile, DataFrame)\n",
    "matrixdata = Matrix(x)\n",
    "location = matrixdata[:, 8]\n",
    "function locSA()\n",
    "    data = location\n",
    "    DataFrame(; data)\n",
    "end\n",
    "locSA()\n",
    "# 筛选位置数据\n",
    "newdata = filter(:data => >(1.2), locSA())\n",
    "newdata1 = Matrix(newdata)\n",
    "# 位置数据进行可视化\n",
    "subplot(2,1,1); \n",
    "plot(location);\n",
    "ylabel(\"locationLatitude(WGS84)\")\n",
    "xlabel(\"Number of data\")\n",
    "title(\"位置原始数据\")\n",
    "subplot(2,1,2); \n",
    "plot(newdata1)\n",
    "ylabel(\"locationLatitude(WGS84)\")\n",
    "xlabel(\"Number of data\")\n",
    "title(\"筛选位置数据(>1.2)\")"
   ]
  }
 ],
 "metadata": {
  "language_info": {
   "name": "python"
  }
 },
 "nbformat": 4,
 "nbformat_minor": 2
}
