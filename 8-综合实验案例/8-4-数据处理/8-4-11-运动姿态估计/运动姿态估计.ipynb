{
 "cells": [
  {
   "cell_type": "code",
   "execution_count": null,
   "metadata": {
    "vscode": {
     "languageId": "plaintext"
    }
   },
   "outputs": [],
   "source": [
    "using Pkg\n",
    "Pkg.add(\"DelimitedFiles\")\n",
    "\n",
    "using DelimitedFiles\n",
    "# 读取csv文件\n",
    "csvFile = \"./data/data.csv\"\n",
    "csvData = DelimitedFiles.readdlm(csvFile, ',', header=true)\n",
    "data = csvData[1]\n",
    "\n",
    "# 读取磁力计的数据\n",
    "AccTS_sR = data[:, 25]\n",
    "AccX = data[:, 26]\n",
    "AccY = data[:, 27]\n",
    "AccZ = data[:, 28]\n",
    "\n",
    "# 计算均方根值\n",
    "rmsx = rms(AccX)\n",
    "rmsy = rms(AccY)\n",
    "rmsz = rms(AccZ)\n",
    "fprintf(\"X方向均方根值为: %f\\n\", rmsx)\n",
    "fprintf(\"Y方向均方根值为: %f\\n\", rmsy)\n",
    "fprintf(\"Z方向均方根值为: %f\\n\", rmsz)\n",
    "\n",
    "# 将磁力计的数据进行可视化\n",
    "figure(1)\n",
    "plot(AccTS_sR, AccX)\n",
    "hold(\"on\")\n",
    "plot(AccTS_sR, AccY)\n",
    "hold(\"on\")\n",
    "plot(AccTS_sR, AccZ)\n",
    "hold(\"off\")\n",
    "title(\"accelerate-Data\")\n",
    "xlabel(\"AccTS_sR \")\n",
    "ylabel(\"AccX/Y/Z\")\n",
    "legend([\"AccX\", \"AccY\", \"AccZ\"])"
   ]
  }
 ],
 "metadata": {
  "language_info": {
   "name": "python"
  }
 },
 "nbformat": 4,
 "nbformat_minor": 2
}
