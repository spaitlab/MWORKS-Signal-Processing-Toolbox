{
 "cells": [
  {
   "cell_type": "code",
   "execution_count": null,
   "metadata": {
    "vscode": {
     "languageId": "plaintext"
    }
   },
   "outputs": [],
   "source": [
    "using Pkg\n",
    "Pkg.add(\"DelimitedFiles\")\n",
    "\n",
    "using DelimitedFiles\n",
    "# 读取csv文件\n",
    "csvFile = \".\\\\data\\\\data.csv\"\n",
    "csvData = DelimitedFiles.readdlm(csvFile, ',', header=true)\n",
    "data = csvData[1]\n",
    "\n",
    "# 读取磁力计的数据\n",
    "MagTS_sR = data[:, 29]\n",
    "MagX = data[:, 30]\n",
    "MagY = data[:, 31]\n",
    "MagZ = data[:, 32]\n",
    "\n",
    "# 计算均方根值\n",
    "rmsx = rms(MagX)\n",
    "rmsy = rms(MagY)\n",
    "rmsz = rms(MagZ)\n",
    "fprintf(\"X轴均方根值为: %f\\n\", rmsx)\n",
    "fprintf(\"Y轴均方根值为: %f\\n\", rmsy)\n",
    "fprintf(\"Z轴均方根值为: %f\\n\", rmsz)\n",
    "\n",
    "# 将磁力计的数据进行可视化\n",
    "figure(1)\n",
    "plot(MagTS_sR, MagX)\n",
    "hold(\"on\")\n",
    "plot(MagTS_sR, MagY)\n",
    "hold(\"on\")\n",
    "plot(MagTS_sR, MagZ)\n",
    "hold(\"off\")\n",
    "title(\"Magnetometer-Data\")\n",
    "xlabel(\"MagTS_sR \")\n",
    "ylabel(\"MagX/Y/Z\")\n",
    "legend([\"MagX\", \"MagY\", \"MagZ\"])"
   ]
  }
 ],
 "metadata": {
  "language_info": {
   "name": "python"
  }
 },
 "nbformat": 4,
 "nbformat_minor": 2
}
