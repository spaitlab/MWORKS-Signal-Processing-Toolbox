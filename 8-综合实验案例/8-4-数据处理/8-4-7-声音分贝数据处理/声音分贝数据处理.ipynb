{
 "cells": [
  {
   "cell_type": "code",
   "execution_count": null,
   "metadata": {
    "vscode": {
     "languageId": "plaintext"
    }
   },
   "outputs": [],
   "source": [
    "# 导入所需安装包\n",
    "using Pkg\n",
    "using DelimitedFiles\n",
    "# 读取csv文件\n",
    "csvFile = \".\\\\data\\\\data.csv\"\n",
    "csvData = DelimitedFiles.readdlm(csvFile, ',', header=true)\n",
    "data = csvData[1]\n",
    "# 读取采集到的分贝数据\n",
    "time = data[:, 21]\n",
    "shell = data[:, 15]\n",
    "ft = dsp_FFT(FFTLength=1000)\n",
    "Fs = 800\n",
    "L = 1000\n",
    "t = [0:L-1;] / Fs\n",
    "data = shell\n",
    "outdata = step(ft, data)\n",
    "# 将分贝数据进行可视化\n",
    "figure(1)\n",
    "subplot(2, 1, 1);\n",
    "plot(time, shell);\n",
    "title(\"语音时域信号\")\n",
    "xlabel(\"时间\")\n",
    "ylabel(\"分贝\")\n",
    "legend([\"分贝时域信号\"])\n",
    "grid()\n",
    "subplot(2, 1, 2);\n",
    "plot(abs.(outdata));\n",
    "plot(abs.(outdata))\n",
    "title(\"语音信号频谱\")\n",
    "xlabel(\"频率\")\n",
    "ylabel(\"幅度\")\n",
    "legend([\"分贝频域信号\"])\n",
    "grid()"
   ]
  }
 ],
 "metadata": {
  "language_info": {
   "name": "python"
  }
 },
 "nbformat": 4,
 "nbformat_minor": 2
}
