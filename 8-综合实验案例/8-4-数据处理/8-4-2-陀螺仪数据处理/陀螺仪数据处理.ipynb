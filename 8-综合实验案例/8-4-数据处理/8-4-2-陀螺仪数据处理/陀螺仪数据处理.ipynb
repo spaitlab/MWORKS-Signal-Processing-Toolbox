{
 "cells": [
  {
   "cell_type": "code",
   "execution_count": null,
   "metadata": {
    "vscode": {
     "languageId": "plaintext"
    }
   },
   "outputs": [],
   "source": [
    "using Pkg\n",
    "Pkg.add(\"DelimitedFiles\")\n",
    "Pkg.add(\"CSV\")\n",
    "using DelimitedFiles\n",
    "csvFile = \".\\\\data\\\\data.csv\"\n",
    "csvData = DelimitedFiles.readdlm(csvFile, ',', header=true)\n",
    "data = csvData[1]\n",
    "#读取陀螺仪数据\n",
    "T = data[:, 25]\n",
    "X = data[:, 26]\n",
    "Y = data[:, 27]\n",
    "Z = data[:, 28]\n",
    "#将陀螺仪在三个轴向上的角速度可视化\n",
    "figure(1)\n",
    "plot(T, X)\n",
    "hold(\"on\")\n",
    "plot(T, Y)\n",
    "hold(\"on\")\n",
    "plot(T, Z)\n",
    "hold(\"off\")\n",
    "title(\"陀螺仪在不同轴向上的角速度\")\n",
    "xlabel(\"GyroTS_sR(s)\")\n",
    "ylabel(\"GyroTS_R(s)(rad/s)\")\n",
    "legend([\"Gyro_RX\", \"Gyro_RY\", \"Gyro_RZ\"])\n",
    "#提取陀螺仪在X方向上的角速度包络\n",
    "figure(2)\n",
    "plot(T, X)\n",
    "up, lo = envelope(X)\n",
    "hold(\"on\")\n",
    "plot(T, up, T, lo)\n",
    "hold(\"off\")\n",
    "title(\"陀螺仪在X方向上的角速度及其包络\")\n",
    "xlabel(\"GyroTS_sR(s)\")\n",
    "ylabel(\"Gyro_RX(rad/s)\")\n",
    "legend([\"Gyro_RX\", \"Gyro_RX(up)\", \"Gyro_RX(down)\"])\n",
    "#提取陀螺仪在Y方向上的角速度包络\n",
    "figure(3)\n",
    "plot(T, Y)\n",
    "up, lo = envelope(Y)\n",
    "hold(\"on\")\n",
    "plot(T, up, T, lo)\n",
    "hold(\"off\")\n",
    "title(\"陀螺仪在Y方向上的角速度及其包络\")\n",
    "xlabel(\"GyroTS_sR(s)\")\n",
    "ylabel(\"Gyro_RY(rad/s)\")\n",
    "legend([\"Gyro_RY\", \"Gyro_RY(up)\", \"Gyro_RY(down)\"])\n",
    "#提取陀螺仪在Z方向上的角速度包络\n",
    "figure(4)\n",
    "plot(T, Z)\n",
    "up, lo = envelope(Z)\n",
    "hold(\"on\")\n",
    "plot(T, up, T, lo)\n",
    "hold(\"off\")\n",
    "title(\"陀螺仪在Z方向上的角速度及其包络\")\n",
    "xlabel(\"GyroTS_sR(s)\")\n",
    "ylabel(\"Gyro_RZ(rad/s)\")\n",
    "legend([\"Gyro_RZ\", \"Gyro_RZ(up)\", \"Gyro_RZ(down)\"])"
   ]
  }
 ],
 "metadata": {
  "language_info": {
   "name": "python"
  }
 },
 "nbformat": 4,
 "nbformat_minor": 2
}
