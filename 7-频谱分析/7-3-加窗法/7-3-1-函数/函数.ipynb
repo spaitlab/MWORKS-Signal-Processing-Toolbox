{
 "cells": [
  {
   "attachments": {},
   "cell_type": "markdown",
   "metadata": {},
   "source": [
    "### 7.3.1  函数\n",
    "窗设计器应用程序使您能够设计和分析频谱窗。通过此应用程序，您可以：\n",
    "显示一个或多个窗的时域和频域表示；\n",
    "研究窗的行为如何随其长度和其他参数的变化而变化；\n",
    "通过图形化操作设计频率窗并将其导出到 Syslab 工作区。"
   ]
  },
  {
   "cell_type": "code",
   "execution_count": null,
   "metadata": {},
   "outputs": [],
   "source": [
    "import TyWindowDesigner.windowDesigner; windowDesigner()"
   ]
  },
  {
   "attachments": {},
   "cell_type": "markdown",
   "metadata": {},
   "source": [
    "Bohman窗：\n",
    "使用窗设计器设计指定长度为 128 的 Bohman 窗，并将其导出至 Syslab 工作区。\n",
    "创建一个 Bohman 窗；\n",
    "从类型下拉列表中，选择 Bohman；\n",
    "在长度文本框中，键入 “128”；\n",
    "在名称下拉列表中，键入 “bohwin”。\n",
    "单击应用按钮，窗查看器面板显示频率窗的时域和频域响应；"
   ]
  },
  {
   "attachments": {},
   "cell_type": "markdown",
   "metadata": {},
   "source": [
    "单击保存到工作区按钮，将设计完成的频率窗导出至 Syslab 工作区；\n",
    "验证窗是否显示在 Syslab 工作区中。"
   ]
  },
  {
   "cell_type": "code",
   "execution_count": null,
   "metadata": {},
   "outputs": [],
   "source": [
    "varinfo(r\"^bohwin$\")"
   ]
  },
  {
   "attachments": {},
   "cell_type": "markdown",
   "metadata": {},
   "source": [
    "Kaiser窗：\n",
    "使用窗设计器来查看 Kaiser 窗的行为是如何取决于窗长度和形状参数 β。\n",
    "创建一个 Kaiser 窗；\n",
    "从类型下拉列表中，选择 Kaiser；\n",
    "在长度文本框中，键入 “20”；\n",
    "在 Beta 文本框中，键入 “0”；\n",
    "在名称下拉列表中，键入 “kaiser0”。\n",
    "单击应用按钮，窗查看器面板显示频率窗的时域和频域响应；\n",
    "单击添加新窗按钮，创建一个长度为 “20”，Beta 值为 “3” 的 Kaiser窗，将窗命名为 kaiser3并单击应用按钮；\n",
    "单击复制窗口按钮，创建第三个 Kaiser 窗 kaiser6，Beta 值设置为 “6”，并单击应用按钮；\n",
    "在窗列表中选中已经创建的三个 Kaiser 窗，窗查看器面板同时显示三个频率窗的时域和频域响应；"
   ]
  }
 ],
 "metadata": {
  "kernelspec": {
   "display_name": "Julia 1.9.3",
   "language": "julia",
   "name": "julia-1.9"
  },
  "language_info": {
   "file_extension": ".jl",
   "mimetype": "application/julia",
   "name": "julia",
   "version": "1.9.3"
  },
  "orig_nbformat": 4,
  "vscode": {
   "interpreter": {
    "hash": "683f87ab08161c4afd4179992aafccaf47b05ca6df2d9977fe9bcc68f334f35e"
   }
  }
 },
 "nbformat": 4,
 "nbformat_minor": 2
}
