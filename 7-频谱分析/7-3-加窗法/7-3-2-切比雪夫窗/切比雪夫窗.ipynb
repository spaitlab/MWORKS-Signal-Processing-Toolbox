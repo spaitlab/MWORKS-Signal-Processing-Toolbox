{
 "cells": [
  {
   "cell_type": "code",
   "execution_count": 1,
   "metadata": {},
   "outputs": [],
   "source": [
    "using DSP\n",
    "using TyPlot\n",
    "using TySignalProcessing\n",
    "using TyWavelet\n",
    "using TyDSPSystem\n",
    "# 创建Chebyshev窗口\n",
    "w = chebwin(50,40)\n",
    "# 绘制窗口波形\n",
    "figure()\n",
    "plot(w)\n",
    "xlabel(\"Sample\")\n",
    "ylabel(\"Amplitude\")\n",
    "title(\"Chebyshev Window\")\n",
    "figure()\n",
    "fvtool(w)\n"
   ]
  }
 ],
 "metadata": {
  "kernelspec": {
   "display_name": "Julia 1.9.3",
   "language": "julia",
   "name": "julia-1.9"
  },
  "language_info": {
   "file_extension": ".jl",
   "mimetype": "application/julia",
   "name": "julia",
   "version": "1.9.3"
  },
  "orig_nbformat": 4
 },
 "nbformat": 4,
 "nbformat_minor": 2
}
