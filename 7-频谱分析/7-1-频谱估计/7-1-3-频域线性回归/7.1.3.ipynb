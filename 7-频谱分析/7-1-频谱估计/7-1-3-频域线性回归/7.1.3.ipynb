{
 "cells": [
  {
   "cell_type": "code",
   "execution_count": 63,
   "metadata": {},
   "outputs": [
    {
     "data": {
      "text/plain": [
       "1-element Vector{PyCall.PyObject}:\n",
       " PyObject <matplotlib.lines.Line2D object at 0x00000219A26A79C8>"
      ]
     },
     "metadata": {},
     "output_type": "display_data"
    }
   ],
   "source": [
    "using FFTW\n",
    "using Statistics\n",
    "using TyPlot\n",
    "using TyStatistics\n",
    "\n",
    "\n",
    "# 数据设置\n",
    "exdata = [\n",
    "    9007  7750  8162  7717  7792  7836\n",
    "    8106  6981  7306  7461  6957  6892\n",
    "    8928  8038  8124  7776  7726  7791\n",
    "    9137  8422  7870  7925  8106  8129\n",
    "   10017  8714  9387  8634  8890  9115\n",
    "   10826  9512  9556  8945  9299  9434\n",
    "   11317 10120 10093 10078 10625 10484\n",
    "   10744  9823  9620  9179  9302  9827\n",
    "    9713  8743  8285  8037  8314  9110\n",
    "    9938  9129  8433  8488  8850  9070\n",
    "    9161  8710  8160  7874  8265  8633\n",
    "    8927  8680  8034  8647  8796  9240\n",
    "]\n",
    "ts = reshape(exdata, 72, 1)\n",
    "years = LinRange(1973, 1979, 72)\n",
    "\n",
    "# 绘制原始数据\n",
    "plot(years, ts, marker=\"o\")\n",
    "xlabel(\"Year\")\n",
    "#ylabel(\"Number of Accidental Deaths\")\n",
    "\n",
    "# 计算并绘制傅里叶变换的振幅\n",
    "tsdft = fft(ts .- mean(ts))\n",
    "freq = 0:1/72:1/2\n",
    "figure(2)\n",
    "plot(freq .* 12, abs.(tsdft[1:length(tsdft)÷2+1]), marker = \"o\")\n",
    "xlabel(\"Cycles/Year\")\n",
    "#ylabel(\"Magnitude\") \n",
    "\n",
    "# 使用频率域进行拟合\n",
    "freqbin = 72 ÷ 12\n",
    "freqbins = [freqbin, 72-freqbin] .+ 1\n",
    "tsfit = zeros(Complex{Float64}, 72)\n",
    "tsfit[freqbins] = tsdft[freqbins]\n",
    "tsfit = ifft(tsfit)\n",
    "mu = mean(ts)\n",
    "tsfit_real = real(mu .+ tsfit)\n",
    "\n",
    "# 绘制数据和拟合模型\n",
    "figure(3)\n",
    "plot(years, ts, marker =\"o\",label = \"Data\")\n",
    "xlabel(\"Year\") \n",
    "#ylabel(\"Number of Accidental Deaths\")\n",
    "hold(\"on\")\n",
    "plot(years, tsfit_real, linewidth = 2, label = \"Fitted Model\")\n",
    "\n",
    "# 计算并绘制残差的自相关\n",
    "resid = ts .- tsfit_real\n",
    "xc, lags = xcorr(resid, 50, \"coeff\")\n",
    "lconf_val = -1.96 / sqrt(72)\n",
    "uconf_val = 1.96 / sqrt(72)\n",
    "lconf = fill(lconf_val, length(xc[51:end]))\n",
    "uconf = fill(uconf_val, length(xc[51:end]))\n",
    "figure(4)\n",
    "stem(lags[51:end], xc[51:end], label = \"Autocorrelation\")\n",
    "hold(\"on\")\n",
    "plot(lags[51:end], lconf)\n",
    "plot(lags[51:end], uconf)\n"
   ]
  },
  {
   "cell_type": "code",
   "execution_count": 64,
   "metadata": {},
   "outputs": [
    {
     "data": {
      "text/plain": [
       "PyObject <matplotlib.legend.Legend object at 0x00000219A3E746C8>"
      ]
     },
     "metadata": {},
     "output_type": "display_data"
    }
   ],
   "source": [
    "using TyMath\n",
    "tsfit2dft = zeros(Complex{Float64}, 72)\n",
    "Y = sort(abs.(tsdft), rev=true, dims=1)\n",
    "I = sortperm(abs.(tsdft), rev=true, dims=1)\n",
    "indices = I[1:6]\n",
    "tsfit2dft[indices] .= tsdft[indices]\n",
    "\n",
    "norm1 = norm(tsdft / sqrt(72), 2) / norm(ts .- mean(ts), 2)\n",
    "norm2 = norm(tsfit2dft / sqrt(72), 2) / norm(ts .- mean(ts), 2)\n",
    "tsfit2 = mu .+ real(ifft(tsfit2dft))\n",
    "\n",
    "# Assume `years` is given\n",
    "# Plot the original data and the fits\n",
    "figure(5)\n",
    "plot(years, ts, marker=\"o\", label=\"Data\", )\n",
    "xlabel(\"Year\")\n",
    "ylabel(\"Number of Accidental Deaths\")\n",
    "hold(\"on\")\n",
    "plot(years, tsfit_real, linewidth = 2, label=\"1 Frequency\")\n",
    "plot(years, tsfit2, linewidth = 2, label=\"3 Frequencies\")\n",
    "legend()\n",
    "\n"
   ]
  },
  {
   "cell_type": "code",
   "execution_count": 65,
   "metadata": {},
   "outputs": [
    {
     "data": {
      "text/plain": [
       "true"
      ]
     },
     "metadata": {},
     "output_type": "display_data"
    }
   ],
   "source": [
    "using Statistics\n",
    "\n",
    "# 假设 ts 和 tsfit2 是给定的时间序列数据\n",
    "\n",
    "# 计算残差\n",
    "resid = ts .- tsfit2\n",
    "\n",
    "# 计算自相关系数\n",
    "xc, lags = xcorr(resid, 50, \"coeff\")\n",
    "figure(6)\n",
    "hold(\"on\")\n",
    "# 绘制自相关系数图像\n",
    "stem(lags[51:end], xc[51:end], filled=true)\n",
    "xlabel(\"Lag\")\n",
    "ylabel(\"Correlation Coefficient\")\n",
    "title(\"Autocorrelation of Residuals\")\n",
    "\n",
    "# 绘制置信区间\n",
    "lconf = -1.96 * ones(51) / sqrt(72)\n",
    "uconf = 1.96 * ones(51) / sqrt(72)\n",
    "plot(lags[51:end], lconf)\n",
    "plot(lags[51:end], uconf)\n",
    "\n"
   ]
  }
 ],
 "metadata": {
  "kernelspec": {
   "display_name": "Julia 1.9.3",
   "language": "julia",
   "name": "julia-1.9"
  },
  "language_info": {
   "file_extension": ".jl",
   "mimetype": "application/julia",
   "name": "julia",
   "version": "1.9.3"
  },
  "orig_nbformat": 4
 },
 "nbformat": 4,
 "nbformat_minor": 2
}
