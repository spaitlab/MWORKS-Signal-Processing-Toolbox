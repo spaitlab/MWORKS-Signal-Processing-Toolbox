{
 "cells": [
  {
   "attachments": {},
   "cell_type": "markdown",
   "metadata": {},
   "source": [
    "### 7.1.2 使用 FFT 获得功率频谱密度估计\n",
    "\n",
    "此示例说明如何使用 periodogram 和 fft 函数获得非参数化功率谱密度 (PSD) 估计。这些不同用例说明针对偶数长度输入、归一化频率和以赫兹表示的频率以及单边和双边 PSD 估计，如何正确缩放 fft 的输出。所有用例都使用矩形窗。\n",
    "#### 具有指定采样率的偶数长度输入\n",
    "对于一个采样率为1 kHz的偶数长度信号，分别使用fft和periodogram获得其周期图。比较二者的结果。\n",
    "\n",
    "创建一个含 N(0,1) 加性噪声的100 Hz正弦波信号。采样频率为 1 kHz。信号长度为1000个采样。"
   ]
  },
  {
   "cell_type": "code",
   "execution_count": 1,
   "metadata": {},
   "outputs": [],
   "source": [
    "\n",
    "\n"
   ]
  },
  {
   "attachments": {},
   "cell_type": "markdown",
   "metadata": {},
   "source": [
    "使用 fft 获取周期图。信号是偶数长度的实数值信号。由于信号是实数值信号，您只需要对正负频率之一进行功率估计。为了保持总功率不变，将同时在两组（正频率和负频率）中出现的所有频率乘以因子 2。零频率 (DC) 和奈奎斯特频率不会出现两次。绘制结果。"
   ]
  },
  {
   "cell_type": "code",
   "execution_count": 2,
   "metadata": {},
   "outputs": [
    {
     "data": {
      "text/plain": [
       "PyObject <objects.mw_text.CYlabel object at 0x000001DAF66BD088>"
      ]
     },
     "metadata": {},
     "output_type": "display_data"
    }
   ],
   "source": [
    "using TySignalProcessing\n",
    "using TySystemIdentification\n",
    "using TyPlot\n",
    "using TyMath\n",
    "fs = 1000\n",
    "t = 0:1/fs:1-1/fs\n",
    "x = cos.(2*pi*100*t) + randn(size(t))\n",
    "N = length(x)\n",
    "xdft = fft(x)\n",
    "xdft = xdft[1:Int(N/2)+1]\n",
    "psdx = (1/(fs*N)) * abs.(xdft).^2\n",
    "psdx[2:end-1] = 2*psdx[2:end-1]\n",
    "freq = 0:fs/length(x):fs/2\n",
    "plot(freq,pow2db(psdx))\n",
    "grid(\"on\")\n",
    "title(\"Periodogram Using FFT\")\n",
    "xlabel(\"Frequency (Hz)\")\n",
    "ylabel(\"Power/Frequency (dB/Hz)\")\n",
    "\n"
   ]
  },
  {
   "attachments": {},
   "cell_type": "markdown",
   "metadata": {},
   "source": [
    "计算并使用 periodogram 绘制周期图。二者的结果相同。"
   ]
  },
  {
   "cell_type": "code",
   "execution_count": 3,
   "metadata": {},
   "outputs": [],
   "source": [
    "figure()\n",
    "periodogram(x,rectwin(N),N,fs;plotfig=true)"
   ]
  },
  {
   "cell_type": "code",
   "execution_count": 4,
   "metadata": {},
   "outputs": [
    {
     "ename": "DimensionMismatch",
     "evalue": "DimensionMismatch: dimensions must match: a has dims (Base.OneTo(1), Base.OneTo(501)), b has dims (Base.OneTo(501), Base.OneTo(1)), mismatch at 1",
     "output_type": "error",
     "traceback": [
      "DimensionMismatch: dimensions must match: a has dims (Base.OneTo(1), Base.OneTo(501)), b has dims (Base.OneTo(501), Base.OneTo(1)), mismatch at 1\n",
      "\n",
      "Stacktrace:\n",
      " [1] promote_shape\n",
      "   @ .\\indices.jl:178 [inlined]\n",
      " [2] promote_shape(a::Adjoint{Float64, Vector{Float64}}, b::Matrix{Float64})\n",
      "   @ Base .\\indices.jl:169\n",
      " [3] -(A::Adjoint{Float64, Vector{Float64}}, B::Matrix{Float64})\n",
      "   @ Base .\\arraymath.jl:7\n",
      " [4] top-level scope\n",
      "   @ e:\\大四\\组会\\Mworks\\mworks-main-run-7.21\\mworks-main\\7-频谱分析\\7-1-频谱估计\\7-1-2-使用 FFT 获得功率频谱密度估计\\7_1_2.ipynb:1"
     ]
    }
   ],
   "source": [
    "mxerr = max(psdx'-periodogram(x,rectwin(N),N,fs))"
   ]
  },
  {
   "attachments": {},
   "cell_type": "markdown",
   "metadata": {},
   "source": [
    "#### 具有归一化频率的输入\n",
    "通过 fft 为使用归一化频率的输入生成周期图。创建一个带 N(0,1) 加性噪声的正弦波信号。该正弦波的角频率为 π/4 弧度/采样点。\n"
   ]
  },
  {
   "cell_type": "code",
   "execution_count": 5,
   "metadata": {},
   "outputs": [
    {
     "data": {
      "text/plain": [
       "1000-element Vector{Float64}:\n",
       "  1.3410290451725666\n",
       "  2.4966992666408285\n",
       " -0.3791268867848153\n",
       " -0.9448728205218557\n",
       " -1.108884519866134\n",
       " -0.7142494030689829\n",
       " -0.05485633170454848\n",
       "  1.6752563494012715\n",
       "  1.3938938042848568\n",
       "  0.42194183066137414\n",
       "  ⋮\n",
       "  1.3861170141927475\n",
       " -0.1454308520136367\n",
       "  2.433895795690438\n",
       " -0.6036965946369771\n",
       " -0.13657919031507704\n",
       " -1.2686657871196658\n",
       " -0.6432330831931448\n",
       "  0.02490386236063374\n",
       " -1.9526466018786843"
      ]
     },
     "metadata": {},
     "output_type": "display_data"
    }
   ],
   "source": [
    "N = 1000\n",
    "n = 0:N-1\n",
    "x = cos.(pi/4*n) + randn(size(n))"
   ]
  },
  {
   "attachments": {},
   "cell_type": "markdown",
   "metadata": {},
   "source": [
    "使用 fft 获取周期图。信号是偶数长度的实数值信号。由于信号是实数值信号，您只需要对正负频率之一进行功率估计。为了保持总功率不变，将同时在两组（正频率和负频率）中出现的所有频率乘以因子 2。零频率 (DC) 和奈奎斯特频率不会出现两次。绘制结果。"
   ]
  },
  {
   "cell_type": "code",
   "execution_count": 6,
   "metadata": {},
   "outputs": [
    {
     "data": {
      "text/plain": [
       "PyObject <objects.mw_text.CYlabel object at 0x000001DA8B0FCA88>"
      ]
     },
     "metadata": {},
     "output_type": "display_data"
    }
   ],
   "source": [
    "xdft = fft(x)\n",
    "xdft = xdft[1:Int(N/2+1)]\n",
    "psdx = (1/(2*pi*N)) * abs.(xdft).^2\n",
    "psdx[2:end-1] = 2*psdx[2:end-1]\n",
    "freq = 0:2*pi/N:pi\n",
    "plot(freq/pi,pow2db(psdx))\n",
    "grid(\"on\")\n",
    "title(\"Periodogram Using FFT\")\n",
    "xlabel(\"Normalized Frequency (*pi rad/sample)\")\n",
    "ylabel(\"Power/Frequency (dB/(rad/sample))\")"
   ]
  },
  {
   "attachments": {},
   "cell_type": "markdown",
   "metadata": {},
   "source": [
    "计算并使用 periodogram 绘制周期图。二者的结果相同。"
   ]
  },
  {
   "cell_type": "code",
   "execution_count": 7,
   "metadata": {},
   "outputs": [],
   "source": [
    "figure()\n",
    "periodogram(x,rectwin(N),N;plotfig=true)"
   ]
  },
  {
   "cell_type": "code",
   "execution_count": 8,
   "metadata": {},
   "outputs": [
    {
     "data": {
      "text/plain": [
       "4.440892098500626e-16"
      ]
     },
     "metadata": {},
     "output_type": "display_data"
    }
   ],
   "source": [
    "mxerr = maximum(psdx-periodogram(x,rectwin(N),N))"
   ]
  },
  {
   "attachments": {},
   "cell_type": "markdown",
   "metadata": {},
   "source": [
    "#### 具有归一化频率的复数值输入\n",
    "使用 fft 为具有归一化频率的复数值输入生成周期图。采用一个带 N(0,1) 复噪声的复指数信号，角频率为 π/4 弧度/采样点。"
   ]
  },
  {
   "cell_type": "code",
   "execution_count": 9,
   "metadata": {},
   "outputs": [
    {
     "data": {
      "text/plain": [
       "1000-element Vector{ComplexF64}:\n",
       "   1.0607678814790622 - 0.35233240411264755im\n",
       "   1.4435955088940085 + 1.6623651365493397im\n",
       "   0.9753929832240522 + 2.2612443326241296im\n",
       "  -0.1479472183413585 + 0.6321513028847715im\n",
       "  0.09890499230653504 + 0.5703549010879081im\n",
       " -0.20395971830818027 - 0.3603121745528047im\n",
       "   0.8820470018584111 - 1.5477867347491474im\n",
       "   1.8977040399583731 - 1.2605958105392956im\n",
       "   0.6966772470333978 - 0.464499281376724im\n",
       "    0.153178852536215 + 1.4053775136394886im\n",
       "                      ⋮\n",
       "   1.4117911715917284 - 0.9885662596148965im\n",
       "    1.119279558491381 + 1.3962317188581672im\n",
       "    1.501137926273075 + 0.707875506021572im\n",
       "  -0.8854084303669956 + 1.090803732821077im\n",
       "  -0.0841106568851282 + 0.0978243883340092im\n",
       "  -1.7516870024139597 - 0.3977643224878448im\n",
       "  -0.5435855296360504 - 0.9719826442877206im\n",
       "  0.12585763427053887 - 1.3001406488711804im\n",
       "   0.6245266666215199 - 0.35425577415249837im"
      ]
     },
     "metadata": {},
     "output_type": "display_data"
    }
   ],
   "source": [
    "N = 1000\n",
    "n = 0:N-1\n",
    "x = exp.(im*pi/4*n) + vec([1 im]*randn(2,N)/sqrt(2))"
   ]
  },
  {
   "attachments": {},
   "cell_type": "markdown",
   "metadata": {},
   "source": [
    "使用 fft 获得周期图。由于输入是复数值，此处求 [0,2π) 弧度/采样点区间内的周期图。绘制结果。"
   ]
  },
  {
   "cell_type": "code",
   "execution_count": 10,
   "metadata": {},
   "outputs": [
    {
     "data": {
      "text/plain": [
       "PyObject <objects.mw_text.CYlabel object at 0x000001DA8A0E0EC8>"
      ]
     },
     "metadata": {},
     "output_type": "display_data"
    }
   ],
   "source": [
    "xdft = fft(x)\n",
    "psdx = (1/(2*pi*N)) * abs.(xdft).^2\n",
    "freq = 0:2*pi/N:2*pi-2*pi/N\n",
    "plot(freq/pi,pow2db(psdx))\n",
    "grid(\"on\")\n",
    "title(\"Periodogram Using FFT\")\n",
    "xlabel(\"Normalized Frequency (*pi rad/sample)\")\n",
    "ylabel(\"Power/Frequency (dB/(rad/sample))\")"
   ]
  },
  {
   "attachments": {},
   "cell_type": "markdown",
   "metadata": {},
   "source": [
    "计算并使用 periodogram 绘制周期图。二者的结果相同。"
   ]
  },
  {
   "cell_type": "code",
   "execution_count": 11,
   "metadata": {},
   "outputs": [],
   "source": [
    "figure()\n",
    "periodogram(x,rectwin(N),N,\"twosided\";plotfig=true)"
   ]
  },
  {
   "cell_type": "code",
   "execution_count": 12,
   "metadata": {},
   "outputs": [
    {
     "data": {
      "text/plain": [
       "2.220446049250313e-16"
      ]
     },
     "metadata": {},
     "output_type": "display_data"
    }
   ],
   "source": [
    "mxerr = maximum(psdx-periodogram(x,rectwin(N),N,\"twosided\"))"
   ]
  }
 ],
 "metadata": {
  "kernelspec": {
   "display_name": "Julia 1.9.3",
   "language": "julia",
   "name": "julia-1.9"
  },
  "language_info": {
   "file_extension": ".jl",
   "mimetype": "application/julia",
   "name": "julia",
   "version": "1.9.3"
  },
  "orig_nbformat": 4,
  "vscode": {
   "interpreter": {
    "hash": "683f87ab08161c4afd4179992aafccaf47b05ca6df2d9977fe9bcc68f334f35e"
   }
  }
 },
 "nbformat": 4,
 "nbformat_minor": 2
}
