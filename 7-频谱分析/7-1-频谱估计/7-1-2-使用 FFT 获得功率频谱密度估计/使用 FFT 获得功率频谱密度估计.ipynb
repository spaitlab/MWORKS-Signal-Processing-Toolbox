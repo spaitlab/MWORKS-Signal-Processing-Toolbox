{
 "cells": [
  {
   "attachments": {},
   "cell_type": "markdown",
   "metadata": {},
   "source": [
    "### 7.1.2 使用 FFT 获得功率频谱密度估计\n",
    "\n",
    "此示例说明如何使用 periodogram 和 fft 函数获得非参数化功率谱密度 (PSD) 估计。这些不同用例说明针对偶数长度输入、归一化频率和以赫兹表示的频率以及单边和双边 PSD 估计，如何正确缩放 fft 的输出。所有用例都使用矩形窗。\n",
    "#### 具有指定采样率的偶数长度输入\n",
    "对于一个采样率为1 kHz的偶数长度信号，分别使用fft和periodogram获得其周期图。比较二者的结果。\n",
    "\n",
    "创建一个含 N(0,1) 加性噪声的100 Hz正弦波信号。采样频率为 1 kHz。信号长度为1000个采样。"
   ]
  },
  {
   "attachments": {},
   "cell_type": "markdown",
   "metadata": {},
   "source": [
    "使用 fft 获取周期图。信号是偶数长度的实数值信号。由于信号是实数值信号，您只需要对正负频率之一进行功率估计。为了保持总功率不变，将同时在两组（正频率和负频率）中出现的所有频率乘以因子 2。零频率 (DC) 和奈奎斯特频率不会出现两次。绘制结果。"
   ]
  },
  {
   "cell_type": "code",
   "execution_count": 2,
   "metadata": {},
   "outputs": [
    {
     "data": {
      "text/plain": [
       "PyObject <objects.mw_text.CYlabel object at 0x00000144FFA1CC48>"
      ]
     },
     "metadata": {},
     "output_type": "display_data"
    }
   ],
   "source": [
    "using TySignalProcessing\n",
    "using TySystemIdentification\n",
    "using TyPlot\n",
    "using TyMath\n",
    "fs = 1000\n",
    "t = 0:1/fs:1-1/fs\n",
    "x = cos.(2*pi*100*t) + randn(size(t))\n",
    "N = length(x)\n",
    "xdft = fft(x)\n",
    "xdft = xdft[1:Int(N/2)+1]\n",
    "psdx = (1/(fs*N)) * abs.(xdft).^2\n",
    "psdx[2:end-1] = 2*psdx[2:end-1]\n",
    "freq = 0:fs/length(x):fs/2\n",
    "plot(freq,pow2db(psdx))\n",
    "grid(\"on\")\n",
    "title(\"Periodogram Using FFT\")\n",
    "xlabel(\"Frequency (Hz)\")\n",
    "ylabel(\"Power/Frequency (dB/Hz)\")\n",
    "\n"
   ]
  },
  {
   "attachments": {},
   "cell_type": "markdown",
   "metadata": {},
   "source": [
    "计算并使用 periodogram 绘制周期图。二者的结果相同。"
   ]
  },
  {
   "cell_type": "code",
   "execution_count": 3,
   "metadata": {},
   "outputs": [],
   "source": [
    "figure()\n",
    "periodogram(x,rectwin(N),N,fs;plotfig=true)"
   ]
  },
  {
   "cell_type": "code",
   "execution_count": 4,
   "metadata": {},
   "outputs": [
    {
     "ename": "DimensionMismatch",
     "evalue": "DimensionMismatch: dimensions must match: a has dims (Base.OneTo(1), Base.OneTo(501)), b has dims (Base.OneTo(501), Base.OneTo(1)), mismatch at 1",
     "output_type": "error",
     "traceback": [
      "DimensionMismatch: dimensions must match: a has dims (Base.OneTo(1), Base.OneTo(501)), b has dims (Base.OneTo(501), Base.OneTo(1)), mismatch at 1\n",
      "\n",
      "Stacktrace:\n",
      " [1] promote_shape\n",
      "   @ .\\indices.jl:178 [inlined]\n",
      " [2] promote_shape(a::Adjoint{Float64, Vector{Float64}}, b::Matrix{Float64})\n",
      "   @ Base .\\indices.jl:169\n",
      " [3] -(A::Adjoint{Float64, Vector{Float64}}, B::Matrix{Float64})\n",
      "   @ Base .\\arraymath.jl:7\n",
      " [4] top-level scope\n",
      "   @ c:\\Users\\DELL\\Desktop\\MWORKS-Signal-Processing-Toolbox\\7-频谱分析\\7-1-频谱估计\\7-1-2-使用 FFT 获得功率频谱密度估计\\使用 FFT 获得功率频谱密度估计.ipynb:1"
     ]
    }
   ],
   "source": [
    "mxerr = max(psdx'-periodogram(x,rectwin(N),N,fs))"
   ]
  },
  {
   "attachments": {},
   "cell_type": "markdown",
   "metadata": {},
   "source": [
    "#### 具有归一化频率的输入\n",
    "通过 fft 为使用归一化频率的输入生成周期图。创建一个带 N(0,1) 加性噪声的正弦波信号。该正弦波的角频率为 π/4 弧度/采样点。\n"
   ]
  },
  {
   "cell_type": "code",
   "execution_count": 5,
   "metadata": {},
   "outputs": [
    {
     "data": {
      "text/plain": [
       "1000-element Vector{Float64}:\n",
       "  2.9140332373995688\n",
       "  0.930136089154601\n",
       "  0.9203975900341506\n",
       " -0.8897238287239757\n",
       " -3.2491863966483625\n",
       " -2.0732758628835466\n",
       " -0.8136813789207596\n",
       "  0.6087140907541786\n",
       "  1.2522543265461183\n",
       "  0.37410229465628264\n",
       "  ⋮\n",
       "  0.6895035174212186\n",
       "  2.830792704866372\n",
       "  0.11242920074639551\n",
       " -0.3004630741913627\n",
       " -0.5206931330199897\n",
       " -1.7978192866040315\n",
       " -0.32732436419696054\n",
       "  0.2841199823936156\n",
       " -0.47663970588408777"
      ]
     },
     "metadata": {},
     "output_type": "display_data"
    }
   ],
   "source": [
    "N = 1000\n",
    "n = 0:N-1\n",
    "x = cos.(pi/4*n) + randn(size(n))"
   ]
  },
  {
   "attachments": {},
   "cell_type": "markdown",
   "metadata": {},
   "source": [
    "使用 fft 获取周期图。信号是偶数长度的实数值信号。由于信号是实数值信号，您只需要对正负频率之一进行功率估计。为了保持总功率不变，将同时在两组（正频率和负频率）中出现的所有频率乘以因子 2。零频率 (DC) 和奈奎斯特频率不会出现两次。绘制结果。"
   ]
  },
  {
   "cell_type": "code",
   "execution_count": 6,
   "metadata": {},
   "outputs": [
    {
     "data": {
      "text/plain": [
       "PyObject <objects.mw_text.CYlabel object at 0x000001448DDCC108>"
      ]
     },
     "metadata": {},
     "output_type": "display_data"
    }
   ],
   "source": [
    "xdft = fft(x)\n",
    "xdft = xdft[1:Int(N/2+1)]\n",
    "psdx = (1/(2*pi*N)) * abs.(xdft).^2\n",
    "psdx[2:end-1] = 2*psdx[2:end-1]\n",
    "freq = 0:2*pi/N:pi\n",
    "plot(freq/pi,pow2db(psdx))\n",
    "grid(\"on\")\n",
    "title(\"Periodogram Using FFT\")\n",
    "xlabel(\"Normalized Frequency (*pi rad/sample)\")\n",
    "ylabel(\"Power/Frequency (dB/(rad/sample))\")"
   ]
  },
  {
   "attachments": {},
   "cell_type": "markdown",
   "metadata": {},
   "source": [
    "计算并使用 periodogram 绘制周期图。二者的结果相同。"
   ]
  },
  {
   "cell_type": "code",
   "execution_count": 7,
   "metadata": {},
   "outputs": [],
   "source": [
    "figure()\n",
    "periodogram(x,rectwin(N),N;plotfig=true)"
   ]
  },
  {
   "cell_type": "code",
   "execution_count": 8,
   "metadata": {},
   "outputs": [
    {
     "data": {
      "text/plain": [
       "1.4210854715202004e-14"
      ]
     },
     "metadata": {},
     "output_type": "display_data"
    }
   ],
   "source": [
    "mxerr = maximum(psdx-periodogram(x,rectwin(N),N))"
   ]
  },
  {
   "attachments": {},
   "cell_type": "markdown",
   "metadata": {},
   "source": [
    "#### 具有归一化频率的复数值输入\n",
    "使用 fft 为具有归一化频率的复数值输入生成周期图。采用一个带 N(0,1) 复噪声的复指数信号，角频率为 π/4 弧度/采样点。"
   ]
  },
  {
   "cell_type": "code",
   "execution_count": 9,
   "metadata": {},
   "outputs": [
    {
     "data": {
      "text/plain": [
       "1000-element Vector{ComplexF64}:\n",
       "    0.5546253990004792 - 0.0013883387232103588im\n",
       "    0.9527133102817857 + 0.6333405824437im\n",
       "   -1.1053832639785177 + 1.5785813726765592im\n",
       "   -1.2811843827079286 + 1.5696286509729014im\n",
       "   -0.8528454329838838 - 0.524167576158056im\n",
       "   -0.9698493886962565 - 1.4582393850068933im\n",
       "    -0.505232344732834 + 0.024095526675772083im\n",
       "    0.7590695503967465 + 0.7158739037520667im\n",
       "    1.2205013964194453 + 0.6721822017550767im\n",
       " -0.054137961730305495 + 1.356443113649687im\n",
       "                       ⋮\n",
       "   0.47730648928327946 - 1.0091027687136112im\n",
       "   0.33054218598941676 - 0.880649284255135im\n",
       "    1.0887420117593862 + 0.8949341027154898im\n",
       "    -1.825425813115274 + 0.899975182789041im\n",
       "    -0.785821448904019 + 0.7852721574998837im\n",
       "   -1.4561784224750007 + 0.4359646884865223im\n",
       "   -0.8432185128753683 - 0.6814081338045912im\n",
       "   0.34180897531306415 - 1.9397478800146337im\n",
       "    0.3353005977614127 + 0.27719478759206473im"
      ]
     },
     "metadata": {},
     "output_type": "display_data"
    }
   ],
   "source": [
    "N = 1000\n",
    "n = 0:N-1\n",
    "x = exp.(im*pi/4*n) + vec([1 im]*randn(2,N)/sqrt(2))"
   ]
  },
  {
   "attachments": {},
   "cell_type": "markdown",
   "metadata": {},
   "source": [
    "使用 fft 获得周期图。由于输入是复数值，此处求 [0,2π) 弧度/采样点区间内的周期图。绘制结果。"
   ]
  },
  {
   "cell_type": "code",
   "execution_count": 10,
   "metadata": {},
   "outputs": [
    {
     "data": {
      "text/plain": [
       "PyObject <objects.mw_text.CYlabel object at 0x0000014493969748>"
      ]
     },
     "metadata": {},
     "output_type": "display_data"
    }
   ],
   "source": [
    "xdft = fft(x)\n",
    "psdx = (1/(2*pi*N)) * abs.(xdft).^2\n",
    "freq = 0:2*pi/N:2*pi-2*pi/N\n",
    "plot(freq/pi,pow2db(psdx))\n",
    "grid(\"on\")\n",
    "title(\"Periodogram Using FFT\")\n",
    "xlabel(\"Normalized Frequency (*pi rad/sample)\")\n",
    "ylabel(\"Power/Frequency (dB/(rad/sample))\")"
   ]
  },
  {
   "attachments": {},
   "cell_type": "markdown",
   "metadata": {},
   "source": [
    "计算并使用 periodogram 绘制周期图。二者的结果相同。"
   ]
  },
  {
   "cell_type": "code",
   "execution_count": 11,
   "metadata": {},
   "outputs": [],
   "source": [
    "figure()\n",
    "periodogram(x,rectwin(N),N,\"twosided\";plotfig=true)"
   ]
  },
  {
   "cell_type": "code",
   "execution_count": 12,
   "metadata": {},
   "outputs": [
    {
     "data": {
      "text/plain": [
       "5.684341886080802e-14"
      ]
     },
     "metadata": {},
     "output_type": "display_data"
    }
   ],
   "source": [
    "mxerr = maximum(psdx-periodogram(x,rectwin(N),N,\"twosided\"))"
   ]
  }
 ],
 "metadata": {
  "kernelspec": {
   "display_name": "Julia 1.9.3",
   "language": "julia",
   "name": "julia-1.9"
  },
  "language_info": {
   "file_extension": ".jl",
   "mimetype": "application/julia",
   "name": "julia",
   "version": "1.9.3"
  },
  "orig_nbformat": 4,
  "vscode": {
   "interpreter": {
    "hash": "683f87ab08161c4afd4179992aafccaf47b05ca6df2d9977fe9bcc68f334f35e"
   }
  }
 },
 "nbformat": 4,
 "nbformat_minor": 2
}
