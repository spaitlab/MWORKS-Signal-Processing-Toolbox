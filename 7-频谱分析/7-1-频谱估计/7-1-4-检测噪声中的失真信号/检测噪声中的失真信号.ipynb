{
 "cells": [
  {
   "attachments": {},
   "cell_type": "markdown",
   "metadata": {},
   "source": [
    "### 7.1.4  检测噪声中的失真信号\n",
    "\n",
    "噪声的存在通常使确定信号的频谱成分变得困难。在这种情况下，频率分析可以提供帮助。\n",
    "例如，考虑引入三阶失真的非线性放大器的仿真输出。\n",
    "创建一个输入信号，以 3.6 kHz 采样的 180 Hz 单位振幅正弦波。生成 10000 个样本。\n",
    "在输入中添加单位方差白噪声。使用三阶多项式对放大器进行建模。将输入信号通过放大器。绘制输出的一部分。为了进行比较，绘制纯正弦曲线的输出"
   ]
  },
  {
   "cell_type": "code",
   "execution_count": 1,
   "metadata": {},
   "outputs": [
    {
     "data": {
      "text/plain": [
       "PyObject <objects.mw_legend.CLegend object at 0x0000023FBF01B348>"
      ]
     },
     "metadata": {},
     "output_type": "display_data"
    }
   ],
   "source": [
    "using Random\n",
    "using TyPlot\n",
    "using Polynomials\n",
    "using TyMath\n",
    "using TySignalProcessing\n",
    "\n",
    "# MATLAB variables\n",
    "N = 10000\n",
    "n = 0:N-1\n",
    "fs = 3600\n",
    "f0 = 180\n",
    "t = n ./ fs\n",
    "y = sin.(2 * pi * f0 .* t)\n",
    "\n",
    "# 设置随机数生成器\n",
    "Random.seed!(0)\n",
    "noise = randn(size(y))\n",
    "\n",
    "# MATLAB的polyval函数转换\n",
    "dispol = [0.5, 0.75, 1, 0]\n",
    "out = polyval(dispol, y .+ noise)\n",
    "\n",
    "ns = 300:500\n",
    "\n",
    "# 绘图\n",
    "figure()\n",
    "plot(t[ns], out[ns], t[ns], polyval(dispol, y[ns]))\n",
    "xlabel(\"Time (s)\")\n",
    "ylabel(\"Signals\")\n",
    "legend([\"With white noise\", \"No white noise\"])\n"
   ]
  },
  {
   "attachments": {},
   "cell_type": "markdown",
   "metadata": {},
   "source": [
    "pwelch函数用于计算和绘制输出的功率谱密度。"
   ]
  },
  {
   "cell_type": "code",
   "execution_count": 2,
   "metadata": {},
   "outputs": [
    {
     "data": {
      "text/plain": [
       "(0.0, 1800.0)"
      ]
     },
     "metadata": {},
     "output_type": "display_data"
    }
   ],
   "source": [
    "# 计算Welch功率谱密度估计\n",
    "segmentLength = 512  # 设定段长度\n",
    "pxx, f = pwelch(out, segmentLength; nargout = 2)\n",
    "\n",
    "# 绘制Welch功率谱密度估计结果\n",
    "figure()\n",
    "plot(f .* fs / pi, 10 * log10.(pxx))\n",
    "grid(\"on\")\n",
    "title(\"Welch Power Spectral Density Estimate\")\n",
    "xlabel(\"Frequency (Hz)\")\n",
    "ylabel(\"Power/Frequency (dB/Hz)\")\n",
    "xlim([0, fs / 2])"
   ]
  },
  {
   "attachments": {},
   "cell_type": "markdown",
   "metadata": {},
   "source": [
    "由于放大器引入了三阶失真，因此输出信号应具有：\n",
    "1、DC（零频）组件;\n",
    "2、与输入频率相同的基波分量，180 Hz;\n",
    "3、两个谐波 -- 频率分量是输入频率的两倍和三倍，360 和 540 Hz。\n",
    "验证输出是否符合三次非线性的预期值。"
   ]
  },
  {
   "cell_type": "code",
   "execution_count": 8,
   "metadata": {},
   "outputs": [
    {
     "ename": "UndefVarError",
     "evalue": "UndefVarError: `locs` not defined",
     "output_type": "error",
     "traceback": [
      "UndefVarError: `locs` not defined\n",
      "\n",
      "Stacktrace:\n",
      " [1] top-level scope\n",
      "   @ c:\\Users\\DELL\\Desktop\\MWORKS-Signal-Processing-Toolbox\\7-频谱分析\\7-1-频谱估计\\7-1-4-检测噪声中的失真信号\\检测噪声中的失真信号.ipynb:2"
     ]
    }
   ],
   "source": [
    "figure()\n",
    "plot(f .* fs / pi, 10 * log10.(pxx),locs, 10 * log10.(pks), \"or\")\n",
    "grid(\"on\")\n",
    "title(\"Welch Power Spectral Density Estimate\")\n",
    "xlabel(\"Frequency (Hz)\")\n",
    "ylabel(\"Power/Frequency (dB/Hz)\")\n",
    "legend([\"PSD\", \"Frequency Components\"])\n",
    "xlim([0, fs / 2])"
   ]
  },
  {
   "cell_type": "code",
   "execution_count": 4,
   "metadata": {},
   "outputs": [
    {
     "ename": "UndefVarError",
     "evalue": "UndefVarError: `locs` not defined",
     "output_type": "error",
     "traceback": [
      "UndefVarError: `locs` not defined\n",
      "\n",
      "Stacktrace:\n",
      " [1] top-level scope\n",
      "   @ c:\\Users\\DELL\\Desktop\\MWORKS-Signal-Processing-Toolbox\\7-频谱分析\\7-1-频谱估计\\7-1-4-检测噪声中的失真信号\\检测噪声中的失真信号.ipynb:2"
     ]
    }
   ],
   "source": [
    "# 排序频率成分\n",
    "components = sort(vcat(locs, f0 .* (0:3)))"
   ]
  },
  {
   "attachments": {},
   "cell_type": "markdown",
   "metadata": {},
   "source": [
    "使用不同的段长度计算Welch功率谱密度估计：\n",
    "pwelch工作原理是将信号划分为重叠的段，计算每个段的周期图，然后取平均值。默认情况下，该函数使用 8 个重叠 50% 的段。对于 10000 个样本，这相当于每个段 2222 个样本。\n",
    "将信号分成更短的段可产生更多的平均值。周期图更平滑，但分辨率较低。无法区分高次谐波。"
   ]
  },
  {
   "cell_type": "code",
   "execution_count": 5,
   "metadata": {},
   "outputs": [
    {
     "data": {
      "text/plain": [
       "(0.0, 1800.0)"
      ]
     },
     "metadata": {},
     "output_type": "display_data"
    }
   ],
   "source": [
    "# 段长度为222\n",
    "segmentLength1 = 222\n",
    "pxx1, f1 = pwelch(out, segmentLength1; nargout = 2)\n",
    "# 绘制Welch功率谱密度估计结果\n",
    "figure()\n",
    "plot(f1 .* fs / pi, 10 * log10.(pxx1))\n",
    "grid(\"on\")\n",
    "title(\"Welch Power Spectral Density Estimate (Segment Length = 222)\")\n",
    "xlabel(\"Frequency (Hz)\")\n",
    "ylabel(\"Power/Frequency (dB/Hz)\")\n",
    "xlim([0, fs / 2])"
   ]
  },
  {
   "attachments": {},
   "cell_type": "markdown",
   "metadata": {},
   "source": [
    "将信号分成更长的段可以提高分辨率，还可以提高随机性。信号和谐波精确地位于预期位置。但是，至少存在一个杂散高频峰值，其功率高于高次谐波。"
   ]
  },
  {
   "cell_type": "code",
   "execution_count": 6,
   "metadata": {},
   "outputs": [
    {
     "data": {
      "text/plain": [
       "(0.0, 1800.0)"
      ]
     },
     "metadata": {},
     "output_type": "display_data"
    }
   ],
   "source": [
    "# 段长度为4444\n",
    "segmentLength2 = 4444\n",
    "pxx2, f2 = pwelch(out, segmentLength2; nargout = 2)\n",
    "\n",
    "# 绘制Welch功率谱密度估计结果\n",
    "figure()\n",
    "plot(f2 .* fs / pi, 10 * log10.(pxx2))\n",
    "grid(\"on\")\n",
    "title(\"Welch Power Spectral Density Estimate (Segment Length = 4444)\")\n",
    "xlabel(\"Frequency (Hz)\")\n",
    "ylabel(\"Power/Frequency (dB/Hz)\")\n",
    "xlim([0, fs / 2])"
   ]
  }
 ],
 "metadata": {
  "kernelspec": {
   "display_name": "Julia 1.9.3",
   "language": "julia",
   "name": "julia-1.9"
  },
  "language_info": {
   "file_extension": ".jl",
   "mimetype": "application/julia",
   "name": "julia",
   "version": "1.9.3"
  },
  "orig_nbformat": 4,
  "vscode": {
   "interpreter": {
    "hash": "683f87ab08161c4afd4179992aafccaf47b05ca6df2d9977fe9bcc68f334f35e"
   }
  }
 },
 "nbformat": 4,
 "nbformat_minor": 2
}
