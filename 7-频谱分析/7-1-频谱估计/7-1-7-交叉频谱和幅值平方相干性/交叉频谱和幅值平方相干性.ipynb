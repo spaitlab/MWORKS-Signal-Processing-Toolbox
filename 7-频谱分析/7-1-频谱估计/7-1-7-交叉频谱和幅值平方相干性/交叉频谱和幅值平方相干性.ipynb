{
 "cells": [
  {
   "cell_type": "code",
   "execution_count": 1,
   "metadata": {},
   "outputs": [],
   "source": [
    "using Random\n",
    "using TyPlot \n",
    "using TySignalProcessing\n",
    "using TyMath"
   ]
  },
  {
   "cell_type": "code",
   "execution_count": 2,
   "metadata": {},
   "outputs": [
    {
     "data": {
      "text/plain": [
       "0.0:0.001:0.999"
      ]
     },
     "metadata": {},
     "output_type": "display_data"
    }
   ],
   "source": [
    "# 设置随机数种子\n",
    "Random.seed!(0)\n",
    "\n",
    "# 定义采样频率和时间向量\n",
    "Fs = 1000\n",
    "t = 0:1/Fs:1-1/Fs"
   ]
  },
  {
   "cell_type": "code",
   "execution_count": 3,
   "metadata": {},
   "outputs": [
    {
     "data": {
      "text/plain": [
       "1000-element Vector{Float64}:\n",
       "  0.5944726329830985\n",
       "  1.1438898165997808\n",
       "  0.2565400116095186\n",
       "  0.265109800670416\n",
       " -0.4985645185378047\n",
       " -1.5811496971885728\n",
       " -1.1421101269428329\n",
       " -0.47300963758118936\n",
       "  1.3591711898730334\n",
       "  0.2119891515949386\n",
       "  ⋮\n",
       "  1.222517218183581\n",
       "  1.2033972397606127\n",
       "  0.06025727159733246\n",
       "  0.3140777466458569\n",
       " -0.8493956905178135\n",
       " -1.4324519535267173\n",
       " -0.04650688254698919\n",
       "  0.28819328778629366\n",
       "  0.4532686203562887"
      ]
     },
     "metadata": {},
     "output_type": "display_data"
    }
   ],
   "source": [
    "# 生成信号\n",
    "x = cos.(2*pi*100*t) .+ sin.(2*pi*200*t) .+ 0.5*randn(length(t))\n",
    "y = 0.5*cos.(2*pi*100*t .- pi/4) .+ 0.35*sin.(2*pi*200*t .- pi/2) .+ 0.5*randn(length(t))"
   ]
  },
  {
   "cell_type": "code",
   "execution_count": 4,
   "metadata": {},
   "outputs": [
    {
     "data": {
      "text/plain": [
       "2-element Vector{Array{Float64}}:\n",
       " [0.08630285835456378; 0.009993409113105563; … ; 0.2052722578314089; 0.00602416252189807;;]\n",
       " [0.0, 10.0, 20.0, 30.0, 40.0, 50.0, 60.0, 70.0, 80.0, 90.0  …  410.0, 420.0, 430.0, 440.0, 450.0, 460.0, 470.0, 480.0, 490.0, 500.0]"
      ]
     },
     "metadata": {},
     "output_type": "display_data"
    }
   ],
   "source": [
    "# 计算幅度平方相干性\n",
    "noverlap = 80\n",
    "nfft = 100\n",
    "\n",
    "Cxy, f = mscohere(x, y, hann(nfft), noverlap, nfft, Fs;nargout = 2)\n"
   ]
  },
  {
   "cell_type": "code",
   "execution_count": 5,
   "metadata": {},
   "outputs": [
    {
     "data": {
      "text/plain": [
       "PyObject <objects.mw_text.CYlabel object at 0x0000020CAFF9FE48>"
      ]
     },
     "metadata": {},
     "output_type": "display_data"
    }
   ],
   "source": [
    "figure()\n",
    "plot(f, Cxy)\n",
    "grid(\"on\")\n",
    "title(\"Magnitude-Squared Coherence\")\n",
    "xlabel(\"Frequency (Hz)\")\n",
    "ylabel(\"Coherence\")"
   ]
  },
  {
   "cell_type": "code",
   "execution_count": 6,
   "metadata": {},
   "outputs": [],
   "source": [
    "Pxy,F = cpsd(x,y,hann(100),80,100,Fs;nargout = 2);\n",
    "#Pxy[Cxy .< 0.2] .= 0;\n",
    "for i in 1:length(Cxy)\n",
    "    if Cxy[i] < 0.4\n",
    "        Pxy[i] = 0\n",
    "    end\n",
    "end"
   ]
  },
  {
   "cell_type": "code",
   "execution_count": 7,
   "metadata": {},
   "outputs": [
    {
     "data": {
      "text/plain": [
       "PyObject <objects.mw_text.CYlabel object at 0x0000020CC3BEBE88>"
      ]
     },
     "metadata": {},
     "output_type": "display_data"
    }
   ],
   "source": [
    "figure()\n",
    "plot(F, angle.(Pxy)./pi)\n",
    "grid(\"on\")\n",
    "title(\"Cross Spectrum Phase\")\n",
    "xlabel(\"Frequency (Hz)\")\n",
    "ylabel(\"Lag (x pi rad)\")"
   ]
  }
 ],
 "metadata": {
  "kernelspec": {
   "display_name": "Julia 1.9.3",
   "language": "julia",
   "name": "julia-1.9"
  },
  "language_info": {
   "file_extension": ".jl",
   "mimetype": "application/julia",
   "name": "julia",
   "version": "1.9.3"
  },
  "orig_nbformat": 4
 },
 "nbformat": 4,
 "nbformat_minor": 2
}
