{
 "cells": [
  {
   "cell_type": "code",
   "execution_count": 26,
   "metadata": {},
   "outputs": [
    {
     "data": {
      "text/plain": [
       "PyObject Text(0.5, 23.223333333333372, 'Frequency (Hz)')"
      ]
     },
     "metadata": {},
     "output_type": "display_data"
    }
   ],
   "source": [
    "using MAT\n",
    "using TyPlot\n",
    "using TySignalProcessing\n",
    "using TyMath\n",
    "\n",
    "# 打开.mat文件\n",
    "file = matread(\"relatedsig.mat\")\n",
    "\n",
    "# 从文件中提取数据\n",
    "Fs = file[\"FsSig\"]  # 采样频率，已经是 Float64，不需要转换\n",
    "sig1_matrix = file[\"sig1\"]\n",
    "sig2_matrix = file[\"sig2\"]\n",
    "\n",
    "sig1 = vec(sig1_matrix)\n",
    "sig2 = vec(sig2_matrix)\n",
    "\n",
    "# 计算周期图\n",
    "P1, f1 = periodogram(sig1,[],[], Fs , \"power\"; nargout=2)\n",
    "P2, f2 = periodogram(sig2,[],[], Fs , \"power\"; nargout=2)\n",
    "\n",
    "subplot(2, 1, 1)\n",
    "plot(f1, P1, color=:k)\n",
    "ylabel(\"P_1\")\n",
    "title(\"Power Spectrum\")\n",
    "\n",
    "subplot(2, 1, 2)\n",
    "plot(f2, P2, color=:r)\n",
    "ylabel(\"P_mied2\")\n",
    "xlabel(\"Frequency (Hz)\")"
   ]
  },
  {
   "cell_type": "code",
   "execution_count": 29,
   "metadata": {},
   "outputs": [
    {
     "data": {
      "text/plain": [
       "(0.0, 200.0, 0.0, 1.0)"
      ]
     },
     "metadata": {},
     "output_type": "display_data"
    }
   ],
   "source": [
    "using TyBase\n",
    "using TySignalProcessing\n",
    "# 查找峰值，确保语法正确\n",
    "pk1, lc1 = findpeaks(P1, SortStr=\"descend\", NPeaks=3, nargout=2)\n",
    "P1peakFreqs = f1[lc1]\n",
    "pk2, lc2 = findpeaks(P2, SortStr=\"descend\", NPeaks=3, nargout=2)\n",
    "P2peakFreqs = f2[lc2]\n",
    "\n",
    "# 假设 sig1 和 sig2 是两个有效的信号样本数组\n",
    "Cxy, f = mscohere(sig1, sig2,[],[],[], Fs; nargout = 2)\n",
    "\n",
    "# 查找高于阈值的峰值\n",
    "thresh = 0.75\n",
    "pks, locs = findpeaks(Cxy, MinPeakHeight=thresh, nargout=2)  # 正确使用关键字参数\n",
    "MatchingFreqs = f[locs]\n",
    "\n",
    "# 绘制相干性估计\n",
    "figure()\n",
    "plot(f, Cxy)\n",
    "grid(\"on\")\n",
    "xlabel(\"Frequency (Hz)\")\n",
    "title(\"Coherence Estimate\")\n",
    "ax = gca()\n",
    "ax.XTick = MatchingFreqs\n",
    "ax.YTick = [thresh]\n",
    "axis([0, 200, 0, 1])"
   ]
  }
 ],
 "metadata": {
  "kernelspec": {
   "display_name": "Julia 1.9.3",
   "language": "julia",
   "name": "julia-1.9"
  },
  "language_info": {
   "file_extension": ".jl",
   "mimetype": "application/julia",
   "name": "julia",
   "version": "1.9.3"
  },
  "orig_nbformat": 4
 },
 "nbformat": 4,
 "nbformat_minor": 2
}
