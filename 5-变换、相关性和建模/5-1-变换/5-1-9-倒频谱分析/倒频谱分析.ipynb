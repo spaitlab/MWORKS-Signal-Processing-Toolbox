{
 "cells": [
  {
   "cell_type": "code",
   "execution_count": 1,
   "metadata": {},
   "outputs": [
    {
     "data": {
      "text/plain": [
       "10-element Vector{Float64}:\n",
       "  2.0\n",
       "  3.0\n",
       "  4.0\n",
       "  5.000000000000001\n",
       "  6.0000000000000036\n",
       "  7.0000000000000036\n",
       "  8.000000000000004\n",
       "  9.000000000000004\n",
       " 10.0\n",
       "  1.000000000000002"
      ]
     },
     "metadata": {},
     "output_type": "display_data"
    }
   ],
   "source": [
    "using TyPlot\n",
    "using TySignalProcessing\n",
    "using Interpolations\n",
    "using TyBase\n",
    "# 生成时间序列\n",
    "t = collect(0:0.01:1.27)\n",
    "\n",
    "# 生成信号序列\n",
    "s1 = sin.(2π*45*t)\n",
    "s2 = s1 .+ 0.5 .* [zeros(20); s1[1:108]]\n",
    "\n",
    "# 计算倒谱\n",
    "c = cceps(s2)\n",
    "\n",
    "# 将 c[1] 进行线性插值，扩展为长度为 128 的向量\n",
    "c_resampled = interpolate(c[1], BSpline(Linear()), OnGrid())\n",
    "\n",
    "# 获取新的时间序列\n",
    "t_new = range(0, stop=1.27, length=128)\n",
    "\n",
    "# 绘制频谱图\n",
    "plot(t_new, c_resampled)\n",
    "\n",
    "# 使用 rceps 函数\n",
    "y = [4, 1, 5]\n",
    "xhat, yhat = rceps(vec(y))  # 将矩阵转换为向量\n",
    "xhat2 = rceps(vec(yhat))    # 将矩阵转换为向量\n",
    "\n",
    "x = collect(1:10)\n",
    "xhat, delay = cceps(x)\n",
    "icc = icceps(xhat, 2)"
   ]
  }
 ],
 "metadata": {
  "kernelspec": {
   "display_name": "Julia 1.9.3",
   "language": "julia",
   "name": "julia-1.9"
  },
  "language_info": {
   "file_extension": ".jl",
   "mimetype": "application/julia",
   "name": "julia",
   "version": "1.9.3"
  },
  "orig_nbformat": 4
 },
 "nbformat": 4,
 "nbformat_minor": 2
}
