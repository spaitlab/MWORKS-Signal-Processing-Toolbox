{
 "cells": [
  {
   "cell_type": "markdown",
   "metadata": {},
   "source": [
    "## 希尔伯特变换"
   ]
  },
  {
   "cell_type": "markdown",
   "metadata": {},
   "source": [
    "希尔伯特变换可用于形成解析信号。解析信号在通信领域中很有用，尤其是在带通信号处理中。工具箱函数 **hilbert** 计算实数输入序列 x 的希尔伯特变换，并返回相同长度的复数结果，即 **y = hilbert(x)**，其中 y 的实部是原始实数数据，虚部是实际希尔伯特变换。在涉及到连续时间解析信号时，y 有时被称为解析信号。离散时间解析信号的关键属性是它的 Z 变换在单位圆的下半部分为 0。解析信号的许多应用都与此属性相关；例如，用解析信号避免带通采样操作的混叠效应。解析信号的幅值是原始信号的复包络。\n",
    "\n",
    "希尔伯特变换对实际数据作 90 度相移；正弦变为余弦，反之亦然。要绘制一部分数据及其希尔伯特变换，请使用"
   ]
  },
  {
   "cell_type": "code",
   "execution_count": 2,
   "metadata": {},
   "outputs": [],
   "source": [
    "using MAT\n",
    "using TyPlot\n",
    "using TySignalProcessing\n",
    "using TyMath\n",
    "using TyBase\n",
    "using Printf"
   ]
  },
  {
   "cell_type": "code",
   "execution_count": 3,
   "metadata": {},
   "outputs": [
    {
     "data": {
      "text/plain": [
       "PyObject <matplotlib.legend.Legend object at 0x0000025527F57988>"
      ]
     },
     "metadata": {},
     "output_type": "display_data"
    }
   ],
   "source": [
    "# 希尔伯特变换\n",
    "t = 0:1/1024:1;\n",
    "\n",
    "x = sin.(2 * π * 60 * t);\n",
    "\n",
    "y = hilbert(x);\n",
    "\n",
    " \n",
    "figure(3)\n",
    "plot(t[1:50],real(y[1:50]))\n",
    "hold(\"on\")\n",
    "plot(t[1:50], imag(y[1:50]))\n",
    "hold(\"on\")\n",
    "axis([0 0.05 -1.1 2])\n",
    "legend([\"Real Part\", \"Imaginary Part\"])"
   ]
  },
  {
   "cell_type": "markdown",
   "metadata": {},
   "source": [
    "解析信号可用于计算时间序列的瞬时属性，即时间序列在任一时间点的属性。该过程要求信号是单分量的。"
   ]
  }
 ],
 "metadata": {
  "kernelspec": {
   "display_name": "Julia 1.9.3",
   "language": "julia",
   "name": "julia-1.9"
  },
  "language_info": {
   "file_extension": ".jl",
   "mimetype": "application/julia",
   "name": "julia",
   "version": "1.9.3"
  },
  "orig_nbformat": 4
 },
 "nbformat": 4,
 "nbformat_minor": 2
}
