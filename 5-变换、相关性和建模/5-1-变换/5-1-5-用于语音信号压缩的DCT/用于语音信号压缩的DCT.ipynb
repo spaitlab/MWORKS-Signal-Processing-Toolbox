{
 "cells": [
  {
   "cell_type": "markdown",
   "metadata": {},
   "source": [
    "## 使用离散余弦变换（DCT）压缩语音信号。"
   ]
  },
  {
   "cell_type": "markdown",
   "metadata": {},
   "source": [
    "首先载入库函数和依赖包。"
   ]
  },
  {
   "cell_type": "code",
   "execution_count": 1,
   "metadata": {},
   "outputs": [],
   "source": [
    "using MAT\n",
    "using TyPlot\n",
    "using TySignalProcessing\n",
    "using TyMath\n",
    "using TyBase\n",
    "using Printf\n"
   ]
  },
  {
   "cell_type": "markdown",
   "metadata": {},
   "source": [
    "加载一个包含单词“strong”的文件，由一个女人和一个男人说出。信号以8 kHz采样。"
   ]
  },
  {
   "cell_type": "code",
   "execution_count": 2,
   "metadata": {},
   "outputs": [
    {
     "data": {
      "text/plain": [
       "Dict{String, Any} with 15 entries:\n",
       "  \"ypc\"  => 57.3928\n",
       "  \"x\"    => [-0.00109142 -0.00588304 … -0.00344999 -0.00180392]\n",
       "  \"XX\"   => [0.590874 0.574983 … 3.90454e-6 2.40094e-6]\n",
       "  \"need\" => 2395.0\n",
       "  \"y\"    => [0.00384905 -0.0571342 … -0.0109486 0.00168894]\n",
       "  \"fs\"   => 8000.0\n",
       "  \"X\"    => [0.0 0.0 … 0.0 0.0]\n",
       "  \"xx\"   => [0.00323139 0.00164978 … -0.00343413 -0.00443751]\n",
       "  \"her\"  => [-0.00109142; -0.00588304; … ; -0.00344999; -0.00180392;;]\n",
       "  \"Y\"    => [0.0 0.0 … 0.0 0.0]\n",
       "  \"ind\"  => [1030.0 1032.0 … 2135.0 4136.0]\n",
       "  \"YY\"   => [1.39744 1.32757 … 3.33857e-5 2.27489e-5]\n",
       "  \"him\"  => [0.00384905; -0.0571342; … ; -0.0109486; 0.00168894;;]\n",
       "  \"yy\"   => [0.00554873 -0.0531845 … -0.00521347 0.00253385]\n",
       "  \"xpc\"  => 44.9479"
      ]
     },
     "metadata": {},
     "output_type": "display_data"
    }
   ],
   "source": [
    "\n",
    "matfile = matread(\"strong.mat\")"
   ]
  },
  {
   "cell_type": "markdown",
   "metadata": {},
   "source": [
    "利用离散余弦变换对女声信号进行压缩。将信号分解为DCT基向量。分解中的项与信号中的样本一样多。矢量X中的展开系数测量在每个分量中存储了多少能量。将系数从大到小排序。"
   ]
  },
  {
   "cell_type": "code",
   "execution_count": 3,
   "metadata": {},
   "outputs": [
    {
     "data": {
      "text/plain": [
       "4899-element Vector{Int64}:\n",
       "  269\n",
       "  299\n",
       "  260\n",
       "  258\n",
       "  306\n",
       "  307\n",
       "  298\n",
       "  305\n",
       "  518\n",
       "  304\n",
       "    ⋮\n",
       " 4285\n",
       " 4429\n",
       " 4859\n",
       " 4765\n",
       " 4737\n",
       " 3907\n",
       " 2735\n",
       " 2186\n",
       " 2665"
      ]
     },
     "metadata": {},
     "output_type": "display_data"
    }
   ],
   "source": [
    "# 女声分析\n",
    "her = matfile[\"her\"]\n",
    "x = her;\n",
    "X = dct(x);\n",
    "XX = sort(abs.(X), lt=!isless, dims=1)\n",
    "X = vec(X)\n",
    "indx = sortperm(abs.(vec(X)), lt=!isless)"
   ]
  },
  {
   "cell_type": "markdown",
   "metadata": {},
   "source": [
    "找出多少DCT系数代表信号中99.9%的能量。把这个数字表示为总数的百分比。将包含剩余0.1%能量的系数设置为零。从压缩表示重建信号。绘制原始信号、其重建以及两者之间的差异。"
   ]
  },
  {
   "cell_type": "code",
   "execution_count": 4,
   "metadata": {},
   "outputs": [
    {
     "data": {
      "text/plain": [
       "PyObject <objects.mw_legend.CLegend object at 0x0000021E7F590B48>"
      ]
     },
     "metadata": {},
     "output_type": "display_data"
    }
   ],
   "source": [
    "\n",
    "needx = 1;\n",
    "while norm(X[indx[1:needx]]) / norm(X) < 0.999\n",
    "    global needx = needx + 1\n",
    "end\n",
    "\n",
    "xpc = needx / length(X) * 100;\n",
    "\n",
    "X[indx[needx+1:end]] .= 0;\n",
    "xx = idct(X);\n",
    "\n",
    "figure(1)\n",
    "TyPlot.plot(x)\n",
    "hold(\"on\")\n",
    "TyPlot.plot(xx)\n",
    "hold(\"on\")\n",
    "TyPlot.plot(x - xx)\n",
    "coeffs_percentage = @sprintf(\"%d %s\", xpc, \"% of coeffs.\")\n",
    "legend([\"Original\", coeffs_percentage, \"Difference\"])"
   ]
  },
  {
   "cell_type": "markdown",
   "metadata": {},
   "source": [
    "对**男性声音**重复分析。找出有多少DCT系数代表99.9%的能量，并将该数字表示为总数的百分比。"
   ]
  },
  {
   "cell_type": "code",
   "execution_count": 5,
   "metadata": {},
   "outputs": [],
   "source": [
    "# 男声分析\n",
    "him = matfile[\"him\"]\n",
    "y = him;\n",
    "Y = dct(y);\n",
    "YY = sort(abs.(Y), lt=!isless, dims=1)\n",
    "Y = vec(Y)\n",
    "indy = sortperm(abs.(vec(Y)), lt=!isless)\n",
    "\n",
    "needy = 1;\n",
    "while norm(Y[indy[1:needy]]) / norm(Y) < 0.999\n",
    "    global needy = needy + 1\n",
    "end\n",
    "\n",
    "ypc = needy / length(Y) * 100;\n"
   ]
  },
  {
   "cell_type": "markdown",
   "metadata": {},
   "source": [
    "将其余系数设置为零，并从压缩版本重建信号。绘制原始信号、其重建以及两者之间的差异。"
   ]
  },
  {
   "cell_type": "code",
   "execution_count": 6,
   "metadata": {},
   "outputs": [
    {
     "data": {
      "text/plain": [
       "PyObject <objects.mw_legend.CLegend object at 0x0000021E12FA5308>"
      ]
     },
     "metadata": {},
     "output_type": "display_data"
    }
   ],
   "source": [
    "\n",
    "Y[indy[needy+1:end]] .= 0;\n",
    "yy = idct(Y);\n",
    "\n",
    "figure(2)\n",
    "TyPlot.plot(y)\n",
    "hold(\"on\")\n",
    "TyPlot.plot(yy)\n",
    "hold(\"on\")\n",
    "TyPlot.plot(y - yy)\n",
    "coeffs_percentage = @sprintf(\"%d %s\", ypc, \"% of coeffs.\")\n",
    "legend([\"Original\", coeffs_percentage, \"Difference\"])"
   ]
  },
  {
   "cell_type": "markdown",
   "metadata": {},
   "source": [
    "在这两种情况下，大约一半的DCT系数足以合理地重构语音信号。如果所需的能量分数为99%，则所需系数的数量减少到总数的约20%。由此产生的重建是低劣的，但仍然可以理解。对这些和其他样本的分析表明，需要更多的系数来表征男人的声音，而不是女人的声音。"
   ]
  }
 ],
 "metadata": {
  "kernelspec": {
   "display_name": "Julia 1.9.3",
   "language": "julia",
   "name": "julia-1.9"
  },
  "language_info": {
   "file_extension": ".jl",
   "mimetype": "application/julia",
   "name": "julia",
   "version": "1.9.3"
  },
  "orig_nbformat": 4
 },
 "nbformat": 4,
 "nbformat_minor": 2
}
