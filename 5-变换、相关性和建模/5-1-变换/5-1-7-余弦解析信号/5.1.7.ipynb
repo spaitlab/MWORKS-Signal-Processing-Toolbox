{
 "cells": [
  {
   "cell_type": "code",
   "execution_count": 1,
   "metadata": {},
   "outputs": [
    {
     "data": {
      "text/plain": [
       "1-element Vector{PyCall.PyObject}:\n",
       " PyObject <mpl_toolkits.mplot3d.art3d.Line3D object at 0x000001D3B38EB148>"
      ]
     },
     "metadata": {},
     "output_type": "display_data"
    }
   ],
   "source": [
    "using TySignalProcessing\n",
    "using TyPlot\n",
    "using TySymbolicMath\n",
    "t = 0:1e-4:1\n",
    "x = 2.5 .+ cos.(2 * π * 100 * t)\n",
    "y = hilbert(x)\n",
    "figure()\n",
    "plot(t, real.(y))\n",
    "xlim([0, 0.1])\n",
    "hold(\"on\")\n",
    "plot(t, imag.(y))\n",
    "grid(true)\n",
    "legend(\"Real Part\",\"Imaginary Part\")\n",
    "\n",
    "prds = 1:1000\n",
    "figure()\n",
    "plot3(t[prds], real.(y[prds]), imag.(y[prds]))"
   ]
  }
 ],
 "metadata": {
  "kernelspec": {
   "display_name": "Julia 1.9.3",
   "language": "julia",
   "name": "julia-1.9"
  },
  "language_info": {
   "file_extension": ".jl",
   "mimetype": "application/julia",
   "name": "julia",
   "version": "1.9.3"
  },
  "orig_nbformat": 4
 },
 "nbformat": 4,
 "nbformat_minor": 2
}
