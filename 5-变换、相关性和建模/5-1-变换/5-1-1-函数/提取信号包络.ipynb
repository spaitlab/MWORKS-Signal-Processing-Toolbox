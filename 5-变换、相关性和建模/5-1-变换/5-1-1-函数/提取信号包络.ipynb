{
 "cells": [
  {
   "cell_type": "code",
   "execution_count": 1,
   "metadata": {},
   "outputs": [],
   "source": [
    "# 提取信号的包络\n",
    "using Pkg\n",
    "using DSP\n",
    "using Statistics\n",
    "using TyMath\n",
    "using MAT\n",
    "using TyPlot\n",
    "using TySignalProcessing"
   ]
  },
  {
   "cell_type": "code",
   "execution_count": 2,
   "metadata": {},
   "outputs": [],
   "source": [
    "#  定义时间向量\n",
    "t = 0:1e-4:0.1;\n",
    "\n",
    "# 定义信号\n",
    "x = (1 .+ cos.(2 * π * 50 * t)) .* cos.(2 * π * 1000 * t);\n"
   ]
  },
  {
   "cell_type": "code",
   "execution_count": 3,
   "metadata": {},
   "outputs": [
    {
     "data": {
      "text/plain": [
       "1-element Vector{PyCall.PyObject}:\n",
       " PyObject <objects.mw_line.CLine object at 0x000002A424419B88>"
      ]
     },
     "metadata": {},
     "output_type": "display_data"
    }
   ],
   "source": [
    "# 绘制图形\n",
    "figure(1)\n",
    "fig1 = TyPlot.plot(t, x)"
   ]
  },
  {
   "cell_type": "code",
   "execution_count": 4,
   "metadata": {},
   "outputs": [
    {
     "data": {
      "text/plain": [
       "PyObject <objects.mw_legend.CLegend object at 0x000002A4246FB708>"
      ]
     },
     "metadata": {},
     "output_type": "display_data"
    }
   ],
   "source": [
    "# 计算Hilbert变换\n",
    "y = TySignalProcessing.hilbert(x);\n",
    "\n",
    "# 计算包络\n",
    "env = abs.(y);\n",
    "\n",
    "# 绘制信号和包络\n",
    "figure(2)\n",
    "TyPlot.plot(t, x)\n",
    "hold(\"on\")\n",
    "TyPlot.plot(t, -env)\n",
    "hold(\"on\")\n",
    "TyPlot.plot(t, env)\n",
    "title(\"Hilbert Envelope\")\n",
    "legend([\"original function\", \"Negative Envelope\", \"Positive Envelope\"])"
   ]
  },
  {
   "cell_type": "code",
   "execution_count": 5,
   "metadata": {},
   "outputs": [
    {
     "data": {
      "text/plain": [
       "PyObject <objects.mw_legend.CLegend object at 0x000002A4268E8A88>"
      ]
     },
     "metadata": {},
     "output_type": "display_data"
    }
   ],
   "source": [
    "# 使用 envelope 函数直接生成信号包络并修改其计算方式\n",
    "# 计算解析包络\n",
    "function analytic_envelope(signal, cutoff_frequency)\n",
    "    # 设计巴特沃斯低通滤波器\n",
    "    b, a = butter(4, cutoff_frequency / (fs / 2))\n",
    "    # 应用滤波器\n",
    "    analytic_signal = TySignalProcessing.filtfilt(b, a, signal)\n",
    "    # 计算包络\n",
    "    envelope = abs.(analytic_signal)\n",
    "    return envelope\n",
    "end\n",
    "\n",
    "# 设置采样率\n",
    "fs = 1 / (t[2] - t[1]);\n",
    "\n",
    "# # 计算不同截止频率下的包络\n",
    "fl1 = 12;\n",
    "env_up1, env_lo1 = analytic_envelope(x, fl1), -analytic_envelope(x, fl1)\n",
    "fl2 = 30;\n",
    "env_up2, env_lo2 = analytic_envelope(x, fl2), -analytic_envelope(x, fl2)\n",
    "\n",
    "# 绘制信号和包络\n",
    "figure(3)\n",
    "TyPlot.plot(t, x)\n",
    "hold(\"on\")\n",
    "TyPlot.plot(t, env_up1, label=\"fl a= 12 (upper)\")\n",
    "hold(\"on\")\n",
    "TyPlot.plot(t, env_lo1, label=\"fl = 12 (lower)\")\n",
    "hold(\"on\")\n",
    "TyPlot.plot(t, env_up2, label=\"fl = 30 (upper)\")\n",
    "hold(\"on\")\n",
    "TyPlot.plot(t, env_lo2, label=\"fl = 30 (lower)\")\n",
    "title(\"Analytic Envelope\")\n",
    "legend([\"original signal\", \"fl = 12 (lower)\", \"fl = 30 (upper)\",\"fl = 30 (lower)\"])"
   ]
  }
 ],
 "metadata": {
  "kernelspec": {
   "display_name": "Julia 1.9.3",
   "language": "julia",
   "name": "julia-1.9"
  },
  "language_info": {
   "file_extension": ".jl",
   "mimetype": "application/julia",
   "name": "julia",
   "version": "1.9.3"
  },
  "orig_nbformat": 4
 },
 "nbformat": 4,
 "nbformat_minor": 2
}
