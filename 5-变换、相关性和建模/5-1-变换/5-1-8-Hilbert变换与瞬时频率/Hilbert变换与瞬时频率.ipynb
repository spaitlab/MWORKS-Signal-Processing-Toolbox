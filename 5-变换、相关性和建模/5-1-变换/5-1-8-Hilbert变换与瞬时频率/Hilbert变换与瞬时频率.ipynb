{
 "cells": [
  {
   "attachments": {},
   "cell_type": "markdown",
   "metadata": {},
   "source": [
    "# 信号处理仿真与应用-MWorks版-案例\n",
    "\n",
    "# 第5章 变换\n",
    "\n",
    "## 5.1.8 Hilbert 变换与瞬时频率\n",
    "\n",
    "### 分析信号和 hilbert 变换\n",
    "hilbert 函数为有限的数据块找到准确的分析信号。可以通过使用有限脉冲响应 (FIR) hilbert 变换滤波器来计算虚部的近似值来生成解析信号。\n",
    "\n",
    "##### 目的\n",
    "\n",
    "生成由三个频率为 203、721 和 1001 Hz 的正弦波组成的序列。该序列以 10 kHz 采样约 1 秒。使用希尔伯特函数计算解析信号。\n",
    "在 0.01 秒和 0.03 秒之间绘制它。\n"
   ]
  },
  {
   "cell_type": "code",
   "execution_count": 1,
   "metadata": {},
   "outputs": [
    {
     "data": {
      "text/plain": [
       "PyObject <objects.mw_text.CXlabel object at 0x0000023712DB9748>"
      ]
     },
     "metadata": {},
     "output_type": "display_data"
    }
   ],
   "source": [
    "using TySignalProcessing\n",
    "using TyPlot\n",
    "\n",
    "fs = 1e4\n",
    "t = (0:1/fs:1)\n",
    "x = 2.5 .+ cos.(2 * pi * 203 * t) .+ sin.(2 * pi * 721 * t) .+ cos.(2 * pi * 1001 * t)\n",
    "y = hilbert(x)\n",
    "plot(t, real(y), t, imag(y))\n",
    "xlim([0.01 0.03])\n",
    "legend([\"real\", \"imaginary\"])\n",
    "title(\"hilbert Function\")\n",
    "xlabel(\"Time (s)\")\n"
   ]
  }
 ],
 "metadata": {
  "kernelspec": {
   "display_name": "Julia 1.9.3",
   "language": "julia",
   "name": "julia-1.9"
  },
  "language_info": {
   "file_extension": ".jl",
   "mimetype": "application/julia",
   "name": "julia",
   "version": "1.9.3"
  },
  "orig_nbformat": 4
 },
 "nbformat": 4,
 "nbformat_minor": 2
}
