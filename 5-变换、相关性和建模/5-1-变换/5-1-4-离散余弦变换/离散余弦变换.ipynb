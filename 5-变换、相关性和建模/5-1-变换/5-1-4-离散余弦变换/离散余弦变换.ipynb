{
 "cells": [
  {
   "attachments": {},
   "cell_type": "markdown",
   "metadata": {},
   "source": [
    "### 5.1.4 离散余弦变换\n",
    "\n",
    "离散余弦变换（DCT）与离散傅里叶变换（DFT）密切相关。DFT实际上是计算序列的DCT的一步。然而，DCT比DFT具有更好的能量压缩性，只需少量的变换系数就可以代表序列中的大部分能量。DCT的这一特性使其在数据通信和信号编码等应用中非常有用。\n",
    "\n",
    "函数idct计算输入序列的逆DCT，从完整或部分的DCT系数重建信号。\n",
    "\n",
    "由于DCT的能量压缩特性，您可以仅从其DCT系数的一部分重建信号。例如，生成一个以1000 Hz采样的25 Hz正弦序列。"
   ]
  },
  {
   "cell_type": "code",
   "execution_count": 1,
   "metadata": {},
   "outputs": [
    {
     "data": {
      "text/plain": [
       "1001-element Vector{Float64}:\n",
       "  0.0\n",
       "  0.15643446504023087\n",
       "  0.3090169943749474\n",
       "  0.45399049973954675\n",
       "  0.5877852522924731\n",
       "  0.7071067811865475\n",
       "  0.8090169943749475\n",
       "  0.8910065241883678\n",
       "  0.9510565162951535\n",
       "  0.9876883405951378\n",
       "  ⋮\n",
       " -0.9510565162951554\n",
       " -0.8910065241883734\n",
       " -0.8090169943749416\n",
       " -0.7071067811865449\n",
       " -0.5877852522924751\n",
       " -0.45399049973955463\n",
       " -0.30901699437493463\n",
       " -0.15643446504022376\n",
       "  9.82193361864236e-16"
      ]
     },
     "metadata": {},
     "output_type": "display_data"
    }
   ],
   "source": [
    "using TySignalProcessing\n",
    "using TyPlot\n",
    "using TyMath\n",
    "t = 0:0.001:1;\n",
    "x = sin.(2 * pi * 25 * t)"
   ]
  },
  {
   "attachments": {},
   "cell_type": "markdown",
   "metadata": {},
   "source": [
    "计算该序列的DCT，并仅使用数值大于0.1的组件重建信号。确定原始1000个系数中有多少满足此要求。"
   ]
  },
  {
   "cell_type": "code",
   "execution_count": 2,
   "metadata": {},
   "outputs": [
    {
     "data": {
      "text/plain": [
       "64"
      ]
     },
     "metadata": {},
     "output_type": "display_data"
    }
   ],
   "source": [
    "y = dct(x)\n",
    "sigcoeff = abs.(y).>=0.1\n",
    "howmany = sum(sigcoeff)"
   ]
  },
  {
   "cell_type": "markdown",
   "metadata": {},
   "source": [
    "绘制原始和重建的序列。"
   ]
  },
  {
   "cell_type": "code",
   "execution_count": 3,
   "metadata": {},
   "outputs": [],
   "source": [
    "z = idct(y)\n",
    "subplot(2, 1, 1)\n",
    "plot(t, x)\n",
    "title(\"Original\")\n",
    "grid()\n",
    "subplot(2, 1, 2)\n",
    "plot(t, z)\n",
    "title(\"Resconstructed\")\n",
    "grid()"
   ]
  },
  {
   "cell_type": "markdown",
   "metadata": {},
   "source": [
    "一种衡量重建准确性的方法是原始信号与重建信号之间的差的范数，除以原始信号的范数。计算这个估计值，并将其表示为百分比。"
   ]
  },
  {
   "cell_type": "code",
   "execution_count": 4,
   "metadata": {},
   "outputs": [
    {
     "data": {
      "text/plain": [
       "3.600276851598894e-14"
      ]
     },
     "metadata": {},
     "output_type": "display_data"
    }
   ],
   "source": [
    "norm(x - z) / norm(x) * 100"
   ]
  }
 ],
 "metadata": {
  "kernelspec": {
   "display_name": "Julia 1.9.3",
   "language": "julia",
   "name": "julia-1.9"
  },
  "language_info": {
   "file_extension": ".jl",
   "mimetype": "application/julia",
   "name": "julia",
   "version": "1.9.3"
  },
  "orig_nbformat": 4,
  "vscode": {
   "interpreter": {
    "hash": "683f87ab08161c4afd4179992aafccaf47b05ca6df2d9977fe9bcc68f334f35e"
   }
  }
 },
 "nbformat": 4,
 "nbformat_minor": 2
}
