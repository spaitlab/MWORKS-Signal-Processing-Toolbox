{
 "cells": [
  {
   "cell_type": "code",
   "execution_count": 5,
   "metadata": {},
   "outputs": [
    {
     "data": {
      "text/plain": [
       "500"
      ]
     },
     "metadata": {},
     "output_type": "display_data"
    }
   ],
   "source": [
    "using MAT\n",
    "# using Plots\n",
    "using TyPlot\n",
    "using TySignalProcessing\n",
    "using TyMath\n",
    "using TyBase\n",
    "\n",
    "matfile = matread(\"relatedsig.mat\")\n",
    "s1 = matfile[\"s1\"]\n",
    "s2 = matfile[\"s2\"]\n",
    "s3 = matfile[\"s3\"]\n",
    "\n",
    "figure()\n",
    "subplot(3, 1, 1);\n",
    "plot(s1)\n",
    "xlim([0 3000]);\n",
    "ylabel(\"s1\")\n",
    "\n",
    "subplot(3, 1, 2);\n",
    "plot(s2)\n",
    "xlim([0 3000]);\n",
    "ylabel(\"s2\")\n",
    "\n",
    "subplot(3, 1, 3);\n",
    "plot(s3)\n",
    "ylabel(\"s3\")\n",
    "xlim([0 3000]);\n",
    "xlabel(\"Samples\")\n",
    "\n",
    "t21 = finddelay(s2, s1)\n",
    "t31 = finddelay(s3, s1)\n",
    "t32 = finddelay(s2, s3)"
   ]
  },
  {
   "cell_type": "code",
   "execution_count": 6,
   "metadata": {},
   "outputs": [],
   "source": [
    "figure()\n",
    "subplot(3, 1, 1);\n",
    "plot(s1[t21+1:end])\n",
    "xlim([0 2500]);\n",
    "\n",
    "subplot(3, 1, 2);\n",
    "plot(s2)\n",
    "xlim([0 2500]);\n",
    "\n",
    "subplot(3, 1, 3);\n",
    "plot(s3[t32+1:end])\n",
    "xlim([0 2500]);\n",
    "xlabel(\"Samples\")\n",
    "\n",
    "x1, x3 = alignsignals(s1, s3);\n",
    "x2, = alignsignals(s2, s3);"
   ]
  },
  {
   "cell_type": "code",
   "execution_count": 7,
   "metadata": {},
   "outputs": [
    {
     "data": {
      "text/plain": [
       "PyObject <objects.mw_text.CXlabel object at 0x0000016B21E3DBC8>"
      ]
     },
     "metadata": {},
     "output_type": "display_data"
    }
   ],
   "source": [
    "figure(3)\n",
    "subplot(3, 1, 1);\n",
    "plot(x1)\n",
    "xlim([0 3000]);\n",
    "\n",
    "subplot(3, 1, 2);\n",
    "plot(x2)\n",
    "xlim([0 3000]);\n",
    "\n",
    "subplot(3, 1, 3);\n",
    "plot(x3)\n",
    "xlim([0 3000]);\n",
    "xlabel(\"Samples\")"
   ]
  }
 ],
 "metadata": {
  "kernelspec": {
   "display_name": "Julia 1.9.3",
   "language": "julia",
   "name": "julia-1.9"
  },
  "language_info": {
   "file_extension": ".jl",
   "mimetype": "application/julia",
   "name": "julia",
   "version": "1.9.3"
  },
  "orig_nbformat": 4
 },
 "nbformat": 4,
 "nbformat_minor": 2
}
