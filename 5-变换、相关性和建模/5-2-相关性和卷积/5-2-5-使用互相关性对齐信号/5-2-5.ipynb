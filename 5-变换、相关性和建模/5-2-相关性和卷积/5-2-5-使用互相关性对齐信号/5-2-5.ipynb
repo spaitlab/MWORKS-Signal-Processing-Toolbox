{
 "cells": [
  {
   "cell_type": "code",
   "execution_count": 4,
   "metadata": {},
   "outputs": [
    {
     "data": {
      "text/plain": [
       "PyObject Text(0.5, 28.279166666666598, 'Samples')"
      ]
     },
     "metadata": {},
     "output_type": "display_data"
    }
   ],
   "source": [
    "using MAT\n",
    "using TyPlot\n",
    "using TyStatistics\n",
    "# 加载 .mat 文件\n",
    "data = matread(\"relatedsig.mat\")\n",
    "s1 = data[\"s1\"]\n",
    "s2 = data[\"s2\"]\n",
    "s3 = data[\"s3\"]\n",
    "\n",
    "# 创建第一个子图，绘制信号 s1\n",
    "subplot(3, 1, 1)\n",
    "plot(s1)\n",
    "ylabel(\"s_1\")\n",
    "\n",
    "# 创建第二个子图，绘制信号 s2\n",
    "subplot(3, 1, 2)\n",
    "plot(s2)\n",
    "ylabel(\"s_2\")\n",
    "\n",
    "# 创建第三个子图，绘制信号 s3\n",
    "subplot(3, 1, 3)\n",
    "plot(s3)\n",
    "ylabel(\"s_3\")\n",
    "xlabel(\"Samples\")\n",
    "\n",
    "# 创建新的图形，绘制相关性\n",
    "figure()\n",
    "\n",
    "# 计算相关性\n",
    "C21, lag21 = xcorr(s2, s1)\n",
    "C21 = C21 ./ maximum(C21)\n",
    "\n",
    "C31, lag31 = xcorr(s3, s1)\n",
    "C31 = C31 ./ maximum(C31)\n",
    "\n",
    "C32, lag32 = xcorr(s3, s2)\n",
    "C32 = C32 ./ maximum(C32)\n",
    "\n",
    "# 创建第一个子图，绘制相关性 C21\n",
    "subplot(3, 1, 1)\n",
    "plot(lag21, C21)\n",
    "title(\"Cross-Correlations\")\n",
    "\n",
    "# 创建第二个子图，绘制相关性 C31\n",
    "subplot(3, 1, 2)\n",
    "plot(lag31, C31)\n",
    "ylabel(\"C_{31}\")\n",
    "\n",
    "# 创建第三个子图，绘制相关性 C32\n",
    "subplot(3, 1, 3)\n",
    "plot(lag32, C32)\n",
    "ylabel(\"C_{32}\")\n",
    "xlabel(\"Samples\")\n",
    "\n",
    "# 创建新的图形，绘制修剪后的信号\n",
    "figure()\n",
    "\n",
    "# 修剪信号\n",
    "s1 = s1[Int(-lag21[argmax(C21)]):end]\n",
    "s3 = s3[Int(lag32[argmax(C32)]):end]\n",
    "\n",
    "# 创建第一个子图，绘制修剪后的信号 s1\n",
    "subplot(3, 1, 1)\n",
    "plot(s1)\n",
    "ylabel(\"s_1\")\n",
    "\n",
    "# 创建第二个子图，绘制信号 s2\n",
    "subplot(3, 1, 2)\n",
    "plot(s2)\n",
    "ylabel(\"s_2\")\n",
    "\n",
    "# 创建第三个子图，绘制修剪后的信号 s3\n",
    "subplot(3, 1, 3)\n",
    "plot(s3)\n",
    "ylabel(\"s_3\")\n",
    "xlabel(\"Samples\")\n"
   ]
  }
 ],
 "metadata": {
  "kernelspec": {
   "display_name": "Julia 1.9.3",
   "language": "julia",
   "name": "julia-1.9"
  },
  "language_info": {
   "file_extension": ".jl",
   "mimetype": "application/julia",
   "name": "julia",
   "version": "1.9.3"
  },
  "orig_nbformat": 4
 },
 "nbformat": 4,
 "nbformat_minor": 2
}
