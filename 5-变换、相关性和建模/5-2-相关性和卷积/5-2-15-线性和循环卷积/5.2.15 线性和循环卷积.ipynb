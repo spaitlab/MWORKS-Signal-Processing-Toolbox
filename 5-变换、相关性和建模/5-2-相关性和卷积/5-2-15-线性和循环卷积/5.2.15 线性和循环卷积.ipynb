{
 "cells": [
  {
   "cell_type": "markdown",
   "metadata": {},
   "source": [
    "此示例展示了如何建立线性卷积与循环卷积之间的等效性。尽管线性卷积和循环卷积在本质上有所区别，但在特定条件下，它们可以被视为等价的。这种等效性的建立对于信号处理领域具有重要的意义。\n",
    "\n",
    "具体来说，对于两个序列 x 和 y，它们的循环卷积可以通过对它们的离散傅里叶变换（DFT）的乘积进行逆变换（IDFT）来得到。掌握线性卷积与循环卷积等效的条件，可以让我们利用DFT高效地计算线性卷积。\n",
    "\n",
    "设有两个序列，x 包含 N 个点，y 包含 L 个点，它们的线性卷积长度为 N+L-1。\n",
    "\n",
    "为了使循环卷积与线性卷积等效，我们需要在执行DFT之前对序列进行零填充，使得序列长度至少为 N+L-1。在计算完DFT乘积的逆变换后，只需保留前 N+L-1 个结果，即可得到等效的线性卷积。"
   ]
  },
  {
   "cell_type": "code",
   "execution_count": 4,
   "metadata": {},
   "outputs": [
    {
     "data": {
      "text/plain": [
       "PyObject Text(0.5, 1.0, 'Circular Convolution of xpad and ypad')"
      ]
     },
     "metadata": {},
     "output_type": "display_data"
    }
   ],
   "source": [
    "using MAT\n",
    "using TyPlot\n",
    "using TySignalProcessing\n",
    "using TyMath\n",
    "\n",
    "\n",
    "x = [2, 1, 2, 1];\n",
    "y = [1, 2, 3];\n",
    "clin = conv(x,y);\n"
   ]
  },
  {
   "cell_type": "markdown",
   "metadata": {},
   "source": [
    "输出长度为 4+3-1。\n",
    "\n",
    "用 0 填充两个向量，使长度为 4+3-1。求出两个向量的 DFT，将其相乘，并求乘积的逆 DFT。"
   ]
  },
  {
   "cell_type": "code",
   "execution_count": null,
   "metadata": {},
   "outputs": [],
   "source": [
    "\n",
    "xpad = [x; zeros(6 - length(x), 1)]\n",
    "ypad = [y; zeros(6 - length(y), 1)]\n",
    "ccirc = ifft(fft(xpad).*fft(ypad));\n"
   ]
  },
  {
   "cell_type": "markdown",
   "metadata": {},
   "source": [
    "在进行了零填充处理后，向量 xpad 和 ypad 的循环卷积与向量 x 和 y 的线性卷积等效。由于输出长度为 4+3-1，我们保留 ccirc 的所有元素。\n",
    "\n",
    "接下来，我将绘制线性卷积的输出和DFT乘积的逆，以直观展示二者的等效性。"
   ]
  },
  {
   "cell_type": "code",
   "execution_count": null,
   "metadata": {},
   "outputs": [],
   "source": [
    "\n",
    "subplot(2,1,1)\n",
    "stem(clin; filled=true)\n",
    "ylim([0 11])\n",
    "title(\"Linear Convolution of x and y\")\n",
    "\n",
    "subplot(2,1,2)\n",
    "stem(ccirc; filled=true)\n",
    "ylim([0 11])\n",
    "title(\"Circular Convolution of xpad and ypad\")"
   ]
  },
  {
   "cell_type": "markdown",
   "metadata": {},
   "source": [
    "为了确保循环卷积与线性卷积等效，我们将向量 x 和 y 填充至长度为 12。通过计算这两个填充向量的离散傅里叶变换（DFT）的乘积，并对其执行逆DFT，我们可以得到循环卷积的结果。在这个过程中，我们仅保留前 4+3-1 个元素，以生成与线性卷积相同长度的结果。\n",
    "\n",
    "可以使用函数 cconv 来计算两个向量的循环卷积。以下代码演示了如何使用循环卷积来求 x 和 y 的线性卷积。"
   ]
  },
  {
   "cell_type": "code",
   "execution_count": 5,
   "metadata": {},
   "outputs": [
    {
     "data": {
      "text/plain": [
       "(0.0, 11.0)"
      ]
     },
     "metadata": {},
     "output_type": "display_data"
    }
   ],
   "source": [
    "N = length(x) + length(y) - 1;\n",
    "xpad = [x; zeros(12 - length(x), 1)];\n",
    "ypad = [y; zeros(12 - length(y), 1)];\n",
    "ccirc = ifft(fft(xpad).*fft(ypad));\n",
    "ccirc1 = ccirc[1:N];\n"
   ]
  },
  {
   "cell_type": "code",
   "execution_count": null,
   "metadata": {},
   "outputs": [],
   "source": [
    "ccirc2 = cconv(x,y,6);\n",
    "\n",
    "figure(2)\n",
    "subplot(3,1,1)\n",
    "stem(ccirc; filled=true)\n",
    "ylim([0 11])\n",
    "\n",
    "subplot(3,1,2)\n",
    "stem(ccirc1; filled=true)\n",
    "ylim([0 11])\n",
    "\n",
    "subplot(3,1,3)\n",
    "stem(ccirc2; filled=true)\n",
    "ylim([0 11])\n"
   ]
  }
 ],
 "metadata": {
  "kernelspec": {
   "display_name": "Julia 1.9.3",
   "language": "julia",
   "name": "julia-1.9"
  },
  "language_info": {
   "file_extension": ".jl",
   "mimetype": "application/julia",
   "name": "julia",
   "version": "1.9.3"
  },
  "orig_nbformat": 4
 },
 "nbformat": 4,
 "nbformat_minor": 2
}
