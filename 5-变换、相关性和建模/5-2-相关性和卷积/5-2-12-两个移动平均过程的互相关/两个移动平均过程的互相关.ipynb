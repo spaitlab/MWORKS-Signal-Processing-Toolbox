{
 "cells": [
  {
   "attachments": {},
   "cell_type": "markdown",
   "metadata": {},
   "source": [
    "### 5.2.12 两个移动平均线过程的互相关\n",
    "\n",
    "此示例说明如何查找和绘制两个移动平均线过程之间的互相关序列。该示例将样本互相关与理论互相关进行了比较。筛选*N*（0,1)白噪声输入，具有两个不同的移动平均滤波器。绘制样本和理论互相关序列。\n",
    "\n",
    "创建一个*N*（0,1)白噪声序列。将随机数生成器设置为默认设置，以获得可重现的结果。创建两个移动平均线筛选器。一个滤波器具有脉冲响应*δ*（*n*）+*δ*（*n*−1).另一个滤波器具有脉冲响应*δ*（*n*）−*δ*（*n*−1）)."
   ]
  },
  {
   "cell_type": "code",
   "execution_count": 1,
   "metadata": {},
   "outputs": [],
   "source": [
    "using TyCommunication\n",
    "using TyMath\n",
    "using TyStatistics\n",
    "using TySignalProcessing\n",
    "using TyPlot\n",
    "w = randn(100,1);\n",
    "x, = filter1([1 1],1,w);\n",
    "y, = filter1([1 -1],1,w);"
   ]
  },
  {
   "attachments": {},
   "cell_type": "markdown",
   "metadata": {},
   "source": [
    "获得高达滞后 20 的样本互相关序列。绘制样本互相关以及理论互相关。"
   ]
  },
  {
   "cell_type": "code",
   "execution_count": 2,
   "metadata": {},
   "outputs": [
    {
     "data": {
      "text/plain": [
       "PyObject <objects.mw_legend.CLegend object at 0x000001D20DFA7508>"
      ]
     },
     "metadata": {},
     "output_type": "display_data"
    }
   ],
   "source": [
    "xc,lags = xcorr(x,y;maxlag=20,scale=\"biased\");\n",
    "\n",
    "Xc = zeros(size(xc));\n",
    "Xc[20] = -1;\n",
    "Xc[22] = 1;\n",
    "\n",
    "stem(lags,xc,filled=true)\n",
    "hold(\"on\")\n",
    "stem(lags,Xc,linefmt=\":\",linewidth=2)\n",
    "\n",
    "legend([\"Sample cross-correlation\", \"Theoretical cross-correlation\"]; loc=\"northwest\",fontsize=9)"
   ]
  },
  {
   "attachments": {},
   "cell_type": "markdown",
   "metadata": {},
   "source": [
    "理论上的互相关是−1在滞后−1,1在滞后1，在所有其他滞后时为零。样本互相关序列近似于理论互相关。\n",
    "\n",
    "正如预期的那样，理论互相关和样本互相关之间并不完全一致。样本互相关确实准确地表示了滞后时理论互相关序列值的符号和大小−1和滞后1."
   ]
  }
 ],
 "metadata": {
  "kernelspec": {
   "display_name": "Julia 1.9.3",
   "language": "julia",
   "name": "julia-1.9"
  },
  "language_info": {
   "file_extension": ".jl",
   "mimetype": "application/julia",
   "name": "julia",
   "version": "1.9.3"
  },
  "orig_nbformat": 4,
  "vscode": {
   "interpreter": {
    "hash": "683f87ab08161c4afd4179992aafccaf47b05ca6df2d9977fe9bcc68f334f35e"
   }
  }
 },
 "nbformat": 4,
 "nbformat_minor": 2
}
