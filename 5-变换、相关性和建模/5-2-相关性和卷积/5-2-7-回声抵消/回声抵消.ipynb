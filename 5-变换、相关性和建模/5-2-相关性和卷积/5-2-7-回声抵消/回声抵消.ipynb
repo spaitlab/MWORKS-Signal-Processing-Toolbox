{
 "cells": [
  {
   "cell_type": "markdown",
   "metadata": {},
   "source": [
    "    语音记录包含了由墙壁反射造成的回声。采用自相关技术可将其滤除。在录音文件中，可以听到一个人清晰地说出了“MATLAB”这个单词。相应的音频数据已按照7418Hz的采样率加载。"
   ]
  },
  {
   "cell_type": "code",
   "execution_count": 1,
   "metadata": {},
   "outputs": [
    {
     "ename": "ErrorException",
     "evalue": "File \"mtlb.mat\" does not exist and create was not specified",
     "output_type": "error",
     "traceback": [
      "File \"mtlb.mat\" does not exist and create was not specified\n",
      "\n",
      "Stacktrace:\n",
      " [1] error(s::String)\n",
      "   @ Base .\\error.jl:35\n",
      " [2] matopen(filename::String, rd::Bool, wr::Bool, cr::Bool, tr::Bool, ff::Bool, compress::Bool)\n",
      "   @ MAT C:\\Users\\Public\\TongYuan\\.julia\\packages\\MAT\\K2D15\\src\\MAT.jl:45\n",
      " [3] matopen(fname::String, mode::String; compress::Bool)\n",
      "   @ MAT C:\\Users\\Public\\TongYuan\\.julia\\packages\\MAT\\K2D15\\src\\MAT.jl:88\n",
      " [4] matopen\n",
      "   @ C:\\Users\\Public\\TongYuan\\.julia\\packages\\MAT\\K2D15\\src\\MAT.jl:87 [inlined]\n",
      " [5] #matopen#2\n",
      "   @ C:\\Users\\Public\\TongYuan\\.julia\\packages\\MAT\\K2D15\\src\\MAT.jl:97 [inlined]\n",
      " [6] matopen\n",
      "   @ C:\\Users\\Public\\TongYuan\\.julia\\packages\\MAT\\K2D15\\src\\MAT.jl:97 [inlined]\n",
      " [7] matread(filename::String)\n",
      "   @ MAT C:\\Users\\Public\\TongYuan\\.julia\\packages\\MAT\\K2D15\\src\\MAT.jl:131\n",
      " [8] top-level scope\n",
      "   @ c:\\Users\\DELL\\Desktop\\MWORKS-Signal-Processing-Toolbox\\5-变换、相关性和建模\\5-2-相关性和卷积\\5-2-7-回声抵消\\回声抵消.ipynb:9"
     ]
    }
   ],
   "source": [
    "using MAT\n",
    "# using Plots\n",
    "using TyPlot\n",
    "using TySignalProcessing\n",
    "using TyMath\n",
    "using TyBase\n",
    "using TyStatistics\n",
    "\n",
    "matfile = matread(\"mtlb.mat\")\n",
    "mtlb = matfile[\"mtlb\"]\n"
   ]
  },
  {
   "cell_type": "markdown",
   "metadata": {},
   "source": [
    "    为了模拟录音中的回声效果，我们采用了以下模型：将原始信号x(n)与其经过时延Δ和衰减α的副本相加，得到处理后的信号y(n)。具体地，我们设定了0.23秒的时延和0.5的衰减系数，因此模型可以表示为：\n",
    "\n",
    "$$y(n) = x(n) + 0.5 \\times x(n - \\Delta)$$\n",
    "\n",
    "    其中 $\\Delta$ 对应于0.23秒的时延在采样率下的样本数。"
   ]
  },
  {
   "cell_type": "code",
   "execution_count": null,
   "metadata": {},
   "outputs": [],
   "source": [
    "\n",
    "Fs = 7418\n",
    "timelag = 0.23;\n",
    "delta = round(Int, Fs * timelag);\n",
    "alpha = 0.5;\n",
    "\n",
    "orig = [mtlb; zeros(delta, 1)];\n",
    "echo = [zeros(delta, 1); mtlb] * alpha;\n",
    "\n",
    "mtEcho = orig + echo;\n",
    "t = (0:length(mtEcho)-1) / Fs;\n"
   ]
  },
  {
   "cell_type": "markdown",
   "metadata": {},
   "source": [
    "    执行代码，绘制原始信号、回波信号和结果信号。"
   ]
  },
  {
   "cell_type": "code",
   "execution_count": null,
   "metadata": {},
   "outputs": [],
   "source": [
    "figure(1)\n",
    "subplot(2, 1, 1);\n",
    "plot(t, [orig echo])\n",
    "legend(\"Original\", \"Echo\")\n",
    "\n",
    "subplot(2, 1, 2)\n",
    "plot(t, mtEcho)\n",
    "legend(\"Total\")\n",
    "xlabel(\"Time (s)\")"
   ]
  },
  {
   "cell_type": "markdown",
   "metadata": {},
   "source": [
    "    为了获得信号自相关的无偏估计，我们执行了相应的计算。随后，我们选取并展示了自相关函数中滞后大于零的部分，以便于进一步分析和理解信号的时序特性。"
   ]
  },
  {
   "cell_type": "code",
   "execution_count": null,
   "metadata": {},
   "outputs": [
    {
     "data": {
      "text/plain": [
       "PyObject Text(0.5, 28.279166666666654, 'Lag (s)')"
      ]
     },
     "metadata": {},
     "output_type": "display_data"
    }
   ],
   "source": [
    "Rmm, lags = xcorr(mtEcho; scale=\"unbiased\")\n",
    "\n",
    "Rmm = Rmm[lags.>0];\n",
    "lags = lags[lags.>0];\n",
    "\n",
    "figure(2)\n",
    "plot(lags / Fs, Rmm)\n",
    "xlabel(\"Lag (s)\")"
   ]
  },
  {
   "cell_type": "markdown",
   "metadata": {},
   "source": [
    "自相关函数在回波到达的特定滞后时间点显示出明显的峰值。为了消除这一回声干扰，我们采用了一个无限冲击响应（IIR）滤波系统对信号进行处理。该系统的输出 $w(n)$ 遵循如下差分方程：\n",
    "\n",
    "$$w(n) + \\alpha w(n-\\Delta) = y(n)$$\n",
    "\n",
    "其中 $\\alpha$ 表示衰减系数，$\\Delta$ 是回波的时延。通过这种滤波方式，我们能够有效地去除录音中的回声成分。\n"
   ]
  },
  {
   "cell_type": "code",
   "execution_count": null,
   "metadata": {},
   "outputs": [
    {
     "data": {
      "text/plain": [
       "PyObject Text(0.5, 28.279166666666725, 'Time (s)')"
      ]
     },
     "metadata": {},
     "output_type": "display_data"
    }
   ],
   "source": [
    "~, dl = findpeaks(Rmm, lags; MinPeakHeight=0.22);\n",
    "mtNew, = filter1(1, [1;zeros(dl[1] - 1, 1); alpha], mtEcho);\n",
    "\n",
    "figure(3)\n",
    "subplot(2, 1, 1)\n",
    "plot(t, orig)\n",
    "legend(\"Original\")\n",
    "\n",
    "subplot(2, 1, 2)\n",
    "plot(t, mtNew)\n",
    "legend(\"Filtered\")\n",
    "xlabel(\"Time (s)\")"
   ]
  }
 ],
 "metadata": {
  "kernelspec": {
   "display_name": "Julia 1.9.3",
   "language": "julia",
   "name": "julia-1.9"
  },
  "language_info": {
   "file_extension": ".jl",
   "mimetype": "application/julia",
   "name": "julia",
   "version": "1.9.3"
  },
  "orig_nbformat": 4
 },
 "nbformat": 4,
 "nbformat_minor": 2
}
