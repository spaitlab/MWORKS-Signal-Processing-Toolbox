{
 "cells": [
  {
   "cell_type": "markdown",
   "metadata": {},
   "source": [
    "    语音记录包含了由墙壁反射造成的回声。采用自相关技术可将其滤除。在录音文件中，可以听到一个人清晰地说出了“MATLAB”这个单词。相应的音频数据已按照7418Hz的采样率加载。"
   ]
  },
  {
   "cell_type": "code",
   "execution_count": 6,
   "metadata": {},
   "outputs": [
    {
     "data": {
      "text/plain": [
       "4001×1 Matrix{Float64}:\n",
       "  0.006535245327923146\n",
       " -0.007809729198053787\n",
       " -0.055053584205911395\n",
       " -0.07122847912711133\n",
       " -0.10695453589806567\n",
       " -0.11916792188665987\n",
       " -0.11572129532886535\n",
       " -0.116275588191028\n",
       " -0.09216382564039872\n",
       " -0.0725532038120437\n",
       "  ⋮\n",
       "  0.02322347875636209\n",
       "  0.025328183037200136\n",
       "  0.00852113904958042\n",
       " -0.006720118533521406\n",
       " -0.06966164839492528\n",
       " -0.09536450347585694\n",
       " -0.10517954035072741\n",
       " -0.12684989822010082\n",
       " -0.13990038108936506"
      ]
     },
     "metadata": {},
     "output_type": "display_data"
    }
   ],
   "source": [
    "using MAT\n",
    "# using Plots\n",
    "using TyPlot\n",
    "using TySignalProcessing\n",
    "using TyMath\n",
    "using TyBase\n",
    "using TyStatistics\n",
    "\n",
    "matfile = matread(\"mtlb.mat\")\n",
    "mtlb = matfile[\"mtlb\"]\n"
   ]
  },
  {
   "cell_type": "markdown",
   "metadata": {},
   "source": [
    "    为了模拟录音中的回声效果，我们采用了以下模型：将原始信号x(n)与其经过时延Δ和衰减α的副本相加，得到处理后的信号y(n)。具体地，我们设定了0.23秒的时延和0.5的衰减系数，因此模型可以表示为：\n",
    "\n",
    "$$y(n) = x(n) + 0.5 \\times x(n - \\Delta)$$\n",
    "\n",
    "    其中 $\\Delta$ 对应于0.23秒的时延在采样率下的样本数。"
   ]
  },
  {
   "cell_type": "code",
   "execution_count": 7,
   "metadata": {},
   "outputs": [],
   "source": [
    "\n",
    "Fs = 7418\n",
    "timelag = 0.23;\n",
    "delta = round(Int, Fs * timelag);\n",
    "alpha = 0.5;\n",
    "\n",
    "orig = [mtlb; zeros(delta, 1)];\n",
    "echo = [zeros(delta, 1); mtlb] * alpha;\n",
    "\n",
    "mtEcho = orig + echo;\n",
    "t = (0:length(mtEcho)-1) / Fs;\n"
   ]
  },
  {
   "cell_type": "markdown",
   "metadata": {},
   "source": [
    "    执行代码，绘制原始信号、回波信号和结果信号。"
   ]
  },
  {
   "cell_type": "code",
   "execution_count": 8,
   "metadata": {},
   "outputs": [
    {
     "data": {
      "text/plain": [
       "PyObject <objects.mw_text.CXlabel object at 0x000002386CAF8788>"
      ]
     },
     "metadata": {},
     "output_type": "display_data"
    }
   ],
   "source": [
    "figure(1)\n",
    "subplot(2, 1, 1);\n",
    "plot(t, [orig echo])\n",
    "legend(\"Original\", \"Echo\")\n",
    "\n",
    "subplot(2, 1, 2)\n",
    "plot(t, mtEcho)\n",
    "legend(\"Total\")\n",
    "xlabel(\"Time (s)\")"
   ]
  },
  {
   "cell_type": "markdown",
   "metadata": {},
   "source": [
    "    为了获得信号自相关的无偏估计，我们执行了相应的计算。随后，我们选取并展示了自相关函数中滞后大于零的部分，以便于进一步分析和理解信号的时序特性。"
   ]
  },
  {
   "cell_type": "code",
   "execution_count": 9,
   "metadata": {},
   "outputs": [
    {
     "data": {
      "text/plain": [
       "PyObject <objects.mw_text.CXlabel object at 0x0000023875551588>"
      ]
     },
     "metadata": {},
     "output_type": "display_data"
    }
   ],
   "source": [
    "Rmm, lags = xcorr(mtEcho; scale=\"unbiased\")\n",
    "\n",
    "Rmm = Rmm[lags.>0];\n",
    "lags = lags[lags.>0];\n",
    "\n",
    "figure(2)\n",
    "plot(lags / Fs, Rmm)\n",
    "xlabel(\"Lag (s)\")"
   ]
  },
  {
   "cell_type": "markdown",
   "metadata": {},
   "source": [
    "自相关函数在回波到达的特定滞后时间点显示出明显的峰值。为了消除这一回声干扰，我们采用了一个无限冲击响应（IIR）滤波系统对信号进行处理。该系统的输出 $w(n)$ 遵循如下差分方程：\n",
    "\n",
    "$$w(n) + \\alpha w(n-\\Delta) = y(n)$$\n",
    "\n",
    "其中 $\\alpha$ 表示衰减系数，$\\Delta$ 是回波的时延。通过这种滤波方式，我们能够有效地去除录音中的回声成分。\n"
   ]
  },
  {
   "cell_type": "code",
   "execution_count": 10,
   "metadata": {},
   "outputs": [
    {
     "data": {
      "text/plain": [
       "PyObject <objects.mw_text.CXlabel object at 0x0000023876D5B2C8>"
      ]
     },
     "metadata": {},
     "output_type": "display_data"
    }
   ],
   "source": [
    "~, dl = findpeaks(Rmm, lags; MinPeakHeight=0.22);\n",
    "mtNew, = filter1(1, [1;zeros(dl[1] - 1, 1); alpha], mtEcho);\n",
    "\n",
    "figure(3)\n",
    "subplot(2, 1, 1)\n",
    "plot(t, orig)\n",
    "legend(\"Original\")\n",
    "\n",
    "subplot(2, 1, 2)\n",
    "plot(t, mtNew)\n",
    "legend(\"Filtered\")\n",
    "xlabel(\"Time (s)\")"
   ]
  }
 ],
 "metadata": {
  "kernelspec": {
   "display_name": "Julia 1.9.3",
   "language": "julia",
   "name": "julia-1.9"
  },
  "language_info": {
   "file_extension": ".jl",
   "mimetype": "application/julia",
   "name": "julia",
   "version": "1.9.3"
  },
  "orig_nbformat": 4
 },
 "nbformat": 4,
 "nbformat_minor": 2
}
