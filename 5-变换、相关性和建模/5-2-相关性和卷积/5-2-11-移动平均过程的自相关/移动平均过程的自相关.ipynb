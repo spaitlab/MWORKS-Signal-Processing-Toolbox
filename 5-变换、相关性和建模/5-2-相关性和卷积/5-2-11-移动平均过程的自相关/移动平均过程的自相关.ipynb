{
 "cells": [
  {
   "attachments": {},
   "cell_type": "markdown",
   "metadata": {},
   "source": [
    "### 5.2.11 移动平均线过程的自相关\n",
    "\n",
    "此示例说明如何通过滤波将自相关引入白噪声过程。当我们在随机信号中引入自相关时，我们操纵其频率成分。移动平均滤波器衰减信号的高频分量，有效地平滑信号。\n",
    "\n",
    "为 3 点移动平均滤波器创建脉冲响应。用滤波器滤除*N*（0,1）白噪声序列。将随机数生成器设置为默认设置，以获得可重现的结果。"
   ]
  },
  {
   "cell_type": "code",
   "execution_count": 1,
   "metadata": {},
   "outputs": [],
   "source": [
    "using TyCommunication\n",
    "using TyMath\n",
    "using TyStatistics\n",
    "using TySignalProcessing\n",
    "using TyPlot\n",
    "\n",
    "h = 1/3*ones(3,1);\n",
    "x = randn(1000,1);\n",
    "y, = filter1(h,1,x);"
   ]
  },
  {
   "attachments": {},
   "cell_type": "markdown",
   "metadata": {},
   "source": [
    "获得 20 滞后的偏差样本自相关。绘制样本自相关以及理论自相关。"
   ]
  },
  {
   "cell_type": "code",
   "execution_count": 2,
   "metadata": {},
   "outputs": [
    {
     "data": {
      "text/plain": [
       "PyObject <objects.mw_legend.CLegend object at 0x00000238B8187788>"
      ]
     },
     "metadata": {},
     "output_type": "display_data"
    }
   ],
   "source": [
    "xc,lags = xcorr(y;maxlag=20,scale=\"biased\")\n",
    "Xc = zeros(size(xc));\n",
    "Xc[19:23] = [1 2 3 2 1]/9*var(x);\n",
    "\n",
    "stem(lags,xc, filled=true)\n",
    "hold(\"on\")\n",
    "stem(lags,Xc,linefmt=\":\",linewidth=2)\n",
    "legend([\"Sample autocorrelation\", \"Theoretical autocorrelation\"]; loc=\"northeast\")\n"
   ]
  },
  {
   "attachments": {},
   "cell_type": "markdown",
   "metadata": {},
   "source": [
    "样本自相关捕获了理论自相关的一般形式，即使两个序列在细节上不一致。\n",
    "\n",
    "在这种情况下，很明显，滤波器仅在滞后时引入了显著的自相关[-2,2]。序列的绝对值在该范围之外迅速衰减为零。\n",
    "\n",
    "要查看频率含量是否受到影响，请绘制原始信号和滤波信号的功率谱密度的 Welch 估计值。"
   ]
  },
  {
   "cell_type": "code",
   "execution_count": 3,
   "metadata": {},
   "outputs": [],
   "source": [
    "pxx,wx = pwelch(x ; nargout = 2);\n",
    "pyy,wy = pwelch(y ; nargout = 2);\n",
    "figure();\n",
    "plot(wx/pi,20*log10.(pxx),wy/pi,20*log10.(pyy))\n",
    "legend([\"Original sequence\", \"Filtered sequence\"]; loc=\"southwest\");\n",
    "xlabel(\"Normalized Frequency * pi rad/sample\");\n",
    "ylabel(\"Power/frequency (dB/rad/sample)\");\n",
    "title(\"Welch Power Spectral Density Estimate\");\n",
    "grid(\"on\")"
   ]
  }
 ],
 "metadata": {
  "kernelspec": {
   "display_name": "Julia 1.9.3",
   "language": "julia",
   "name": "julia-1.9"
  },
  "language_info": {
   "file_extension": ".jl",
   "mimetype": "application/julia",
   "name": "julia",
   "version": "1.9.3"
  },
  "orig_nbformat": 4,
  "vscode": {
   "interpreter": {
    "hash": "683f87ab08161c4afd4179992aafccaf47b05ca6df2d9977fe9bcc68f334f35e"
   }
  }
 },
 "nbformat": 4,
 "nbformat_minor": 2
}
