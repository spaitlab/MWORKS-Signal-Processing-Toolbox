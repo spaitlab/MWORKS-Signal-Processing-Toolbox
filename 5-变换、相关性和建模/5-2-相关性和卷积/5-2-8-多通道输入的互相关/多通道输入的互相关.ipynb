{
 "cells": [
  {
   "attachments": {},
   "cell_type": "markdown",
   "metadata": {},
   "source": [
    "# 信号处理仿真与应用-MWorks版-案例\n",
    "\n",
    "# 第5章 变换、相关性和建模\n",
    "\n",
    "## 5.2 相关性和卷积\n",
    "\n",
    "### 5.2.8 多通道输入的互相关\n",
    "\n",
    "##### Julia\n",
    "\n",
    "生成三个包含 11 个样本的指数序列，这些样本由 0.4<sup>*n*</sup>、0.7<sup>*n*</sup>和 0.999<sup>*n*</sup> (*n*≥0) 给出。使用 `bar3h` 并排绘制这些序列。"
   ]
  },
  {
   "cell_type": "code",
   "execution_count": 1,
   "metadata": {},
   "outputs": [
    {
     "data": {
      "text/plain": [
       "3-element Vector{Any}:\n",
       " PyObject <objects.mw_bar3.CBar3 object at 0x0000021789D081C8>\n",
       " PyObject <objects.mw_bar3.CBar3 object at 0x00000217F8A435C8>\n",
       " PyObject <objects.mw_bar3.CBar3 object at 0x0000021789D08808>"
      ]
     },
     "metadata": {},
     "output_type": "display_data"
    }
   ],
   "source": [
    "using TyPlot\n",
    "using TyStatistics\n",
    "using Printf\n",
    "N = 11\n",
    "n = 0:N-1\n",
    "a = 0.4\n",
    "b = 0.7\n",
    "c = 0.999\n",
    "xabc = [a.^n b.^n c.^n]\n",
    "figure()\n",
    "bar3h(xabc,width = 0.1)"
   ]
  },
  {
   "attachments": {},
   "cell_type": "markdown",
   "metadata": {},
   "source": [
    "计算这些序列的自相关和互相关。将输出滞后，这样就不必跟踪它们。将结果归一化，使自相关在零滞后处具有单位值。"
   ]
  },
  {
   "cell_type": "code",
   "execution_count": 2,
   "metadata": {},
   "outputs": [],
   "source": [
    "cr,lgs = xcorr(xabc, \"coeff\")\n",
    "figure()\n",
    "for row = 1:3\n",
    "    for col = 1:3\n",
    "        # 创建子图\n",
    "        nm = 3*(row-1)+col\n",
    "        subplot(3, 3, nm)\n",
    "        nn = row*10+col\n",
    "        nc=@sprintf(\"%d\", nn)\n",
    "        # 绘制相关图\n",
    "        stem(lgs, cr[:, nm],\".\")\n",
    "        title(\"C\"*nc*\"\")\n",
    "    end\n",
    "end"
   ]
  },
  {
   "attachments": {},
   "cell_type": "markdown",
   "metadata": {},
   "source": [
    "仅计算滞后值为 −5 和 5 之间时的相关性："
   ]
  },
  {
   "cell_type": "code",
   "execution_count": 3,
   "metadata": {},
   "outputs": [],
   "source": [
    "cr,lgs = xcorr(xabc,5,\"coeff\")\n",
    "figure()\n",
    "for row = 1:3\n",
    "    for col = 1:3\n",
    "        # 创建子图\n",
    "        nm = 3*(row-1)+col\n",
    "        subplot(3, 3, nm)\n",
    "        nn = row*10+col\n",
    "        nc=@sprintf(\"%d\", nn)\n",
    "        # 绘制相关图\n",
    "        stem(lgs, cr[:, nm],\".\")\n",
    "        title(\"C\"*nc*\"\")\n",
    "    end\n",
    "end"
   ]
  },
  {
   "attachments": {},
   "cell_type": "markdown",
   "metadata": {},
   "source": [
    "计算自相关和互相关性无偏估计。默认情况下，滞后介于 −(*N*−1) 和 *N*−1 之间。"
   ]
  },
  {
   "cell_type": "code",
   "execution_count": 4,
   "metadata": {},
   "outputs": [],
   "source": [
    "cu, = xcorr(xabc,\"unbiased\")\n",
    "figure()\n",
    "for row = 1:3\n",
    "    for col = 1:3\n",
    "        # 创建子图\n",
    "        nm = 3*(row-1)+col\n",
    "        subplot(3, 3, nm)\n",
    "        nn = row*10+col\n",
    "        nc=@sprintf(\"%d\", nn)\n",
    "        # 绘制相关图\n",
    "        stem(-(N-1):(N-1),cu[:, nm],\".\")\n",
    "        title(\"C\"*nc*\"\")\n",
    "    end\n",
    "end"
   ]
  }
 ],
 "metadata": {
  "kernelspec": {
   "display_name": "Julia 1.9.3",
   "language": "julia",
   "name": "julia-1.9"
  },
  "language_info": {
   "file_extension": ".jl",
   "mimetype": "application/julia",
   "name": "julia",
   "version": "1.9.3"
  },
  "orig_nbformat": 4
 },
 "nbformat": 4,
 "nbformat_minor": 2
}
