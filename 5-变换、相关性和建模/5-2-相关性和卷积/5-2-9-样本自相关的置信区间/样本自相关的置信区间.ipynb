{
 "cells": [
  {
   "attachments": {},
   "cell_type": "markdown",
   "metadata": {},
   "source": [
    "### 5.2.9  样本自相关的置信区间\n",
    "\n",
    "此示例说明如何为白噪声过程的自相关序列创建置信区间。创建长度为 L=1000 个采样点的白噪声过程的实现。计算最大滞后为 20 的样本自相关。绘制白噪声过程的样本自相关和大约 95% 的置信区间。\n",
    "创建白噪声随机向量。采用随机数生成器的默认设置，以获得可重现的结果。求出最大滞后为 20 的归一化样本自相关。"
   ]
  },
  {
   "cell_type": "code",
   "execution_count": 1,
   "metadata": {},
   "outputs": [
    {
     "data": {
      "text/plain": [
       "([0.03696121237237189, -0.009264060486435263, 0.004802332755102004, 0.019249510998180196, 0.017071857737590426, 0.10514813289355421, 0.0675653065170747, 0.04502864215276392, 0.011650726994205933, 0.035764854679918016  …  0.03576485467991803, 0.011650726994205945, 0.04502864215276392, 0.06756530651707468, 0.10514813289355421, 0.017071857737590415, 0.01924951099818021, 0.004802332755101994, -0.009264060486435285, 0.036961212372371904], -20:20)"
      ]
     },
     "metadata": {},
     "output_type": "display_data"
    }
   ],
   "source": [
    "using TyPlot\n",
    "using TyStatistics\n",
    "using SpecialFunctions # 用于erfinv函数\n",
    "\n",
    "\n",
    "L = 1000\n",
    "x = randn(L) # Julia中默认生成列向量，故此处不需要指明维度\n",
    "\n",
    "# 计算自相关并使用给定的滞后数\n",
    "xc, lags = xcorr(x, x, 20, \"coeff\")"
   ]
  },
  {
   "attachments": {},
   "cell_type": "markdown",
   "metadata": {},
   "source": [
    "为正态分布 N(0,1/L) 创建 95% 的上、下置信边界，其标准差为 1/√L。对于 95% 置信区间，临界值是 √2erf−1(0.95)≈1.96，置信区间是Δ=0±1.96/√L。"
   ]
  },
  {
   "cell_type": "code",
   "execution_count": 2,
   "metadata": {},
   "outputs": [
    {
     "data": {
      "text/plain": [
       "1.9599639845400576"
      ]
     },
     "metadata": {},
     "output_type": "display_data"
    }
   ],
   "source": [
    "vcrit = sqrt(2) * erfinv(0.95)"
   ]
  },
  {
   "cell_type": "code",
   "execution_count": 3,
   "metadata": {},
   "outputs": [
    {
     "data": {
      "text/plain": [
       "0.06197950323045627"
      ]
     },
     "metadata": {},
     "output_type": "display_data"
    }
   ],
   "source": [
    "lconf = -vcrit / sqrt(L)\n",
    "uconf = vcrit / sqrt(L)"
   ]
  },
  {
   "attachments": {},
   "cell_type": "markdown",
   "metadata": {},
   "source": [
    "绘制样本自相关和 95% 置信区间。"
   ]
  },
  {
   "cell_type": "code",
   "execution_count": 5,
   "metadata": {},
   "outputs": [
    {
     "data": {
      "text/plain": [
       "PyObject Text(0.5, 1.0, 'Sample Autocorrelation with 95% Confidence Intervals')"
      ]
     },
     "metadata": {},
     "output_type": "display_data"
    }
   ],
   "source": [
    "# 绘制自相关图和置信区间\n",
    "stem(lags, xc, filled=true)\n",
    "hold(true) # 在TyPlot中保持当前图形，以便添加更多图层\n",
    "plot(lags, fill(lconf, length(lags)), color=\"red\")\n",
    "plot(lags, fill(uconf, length(lags)), color=\"red\")\n",
    "hold(false) # 完成图层添加\n",
    "\n",
    "# 设置y轴的限制\n",
    "ylim(lconf-0.03, 1.05)\n",
    "\n",
    "# 添加标题\n",
    "title(\"Sample Autocorrelation with 95% Confidence Intervals\")"
   ]
  },
  {
   "attachments": {},
   "cell_type": "markdown",
   "metadata": {},
   "source": [
    "从上图中可以看出，唯一位于 95% 置信区间之外的自相关值出现在滞后 0 处，正如白噪声过程所预期的那样。基于此结果，您可以得出结论，该数据是白噪声过程的实现。"
   ]
  }
 ],
 "metadata": {
  "kernelspec": {
   "display_name": "Julia 1.9.3",
   "language": "julia",
   "name": "julia-1.9"
  },
  "language_info": {
   "file_extension": ".jl",
   "mimetype": "application/julia",
   "name": "julia",
   "version": "1.9.3"
  },
  "orig_nbformat": 4,
  "vscode": {
   "interpreter": {
    "hash": "683f87ab08161c4afd4179992aafccaf47b05ca6df2d9977fe9bcc68f334f35e"
   }
  }
 },
 "nbformat": 4,
 "nbformat_minor": 2
}
