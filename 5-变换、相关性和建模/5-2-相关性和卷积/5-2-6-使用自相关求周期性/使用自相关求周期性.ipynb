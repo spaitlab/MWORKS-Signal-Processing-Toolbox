{
 "cells": [
  {
   "cell_type": "markdown",
   "metadata": {},
   "source": [
    "# 信号处理仿真与应用-MWorks版-案例\n",
    "\n",
    "# 第5章 \n",
    "\n",
    "## 5.2.6 使用自相关求周期性\n",
    "\n",
    "### 使用自相关求周期性\n",
    "\n",
    "此示例说明如何使用自相关求周期性。\n",
    "\n",
    "\n",
    "##### 目的\n",
    "\n",
    "使用Julia语言计算时间序列数据的自相关函数，并确定其周期性\n"
   ]
  },
  {
   "cell_type": "code",
   "execution_count": 2,
   "metadata": {},
   "outputs": [
    {
     "ename": "ArgumentError",
     "evalue": "ArgumentError: Package Plots not found in current path.\n- Run `import Pkg; Pkg.add(\"Plots\")` to install the Plots package.",
     "output_type": "error",
     "traceback": [
      "ArgumentError: Package Plots not found in current path.\n",
      "- Run `import Pkg; Pkg.add(\"Plots\")` to install the Plots package.\n",
      "\n",
      "Stacktrace:\n",
      "  [1] macro expansion\n",
      "    @ .\\loading.jl:1630 [inlined]\n",
      "  [2] macro expansion\n",
      "    @ .\\lock.jl:267 [inlined]\n",
      "  [3] require(into::Module, mod::Symbol)\n",
      "    @ Base .\\loading.jl:1611\n",
      "  [4] eval\n",
      "    @ .\\boot.jl:370 [inlined]\n",
      "  [5] include_string(mapexpr::typeof(REPL.softscope), mod::Module, code::String, filename::String)\n",
      "    @ Base .\\loading.jl:1903\n",
      "  [6] #invokelatest#2\n",
      "    @ .\\essentials.jl:819 [inlined]\n",
      "  [7] invokelatest\n",
      "    @ .\\essentials.jl:816 [inlined]\n",
      "  [8] (::VSCodeServer.var\"#223#224\"{VSCodeServer.NotebookRunCellArguments, String})()\n",
      "    @ VSCodeServer C:\\Users\\Public\\TongYuan\\.syslab-oss\\extensions\\tongyuan.syslab-julia-0.9.17\\scripts\\packages\\VSCodeServer\\src\\serve_notebook.jl:19\n",
      "  [9] withpath(f::VSCodeServer.var\"#223#224\"{VSCodeServer.NotebookRunCellArguments, String}, path::String)\n",
      "    @ VSCodeServer C:\\Users\\Public\\TongYuan\\.syslab-oss\\extensions\\tongyuan.syslab-julia-0.9.17\\scripts\\packages\\VSCodeServer\\src\\repl.jl:285\n",
      " [10] notebook_runcell_request(conn::VSCodeServer.JSONRPC.JSONRPCEndpoint{Base.PipeEndpoint, Base.PipeEndpoint}, params::VSCodeServer.NotebookRunCellArguments)\n",
      "    @ VSCodeServer C:\\Users\\Public\\TongYuan\\.syslab-oss\\extensions\\tongyuan.syslab-julia-0.9.17\\scripts\\packages\\VSCodeServer\\src\\serve_notebook.jl:13\n",
      " [11] dispatch_msg(x::VSCodeServer.JSONRPC.JSONRPCEndpoint{Base.PipeEndpoint, Base.PipeEndpoint}, dispatcher::VSCodeServer.JSONRPC.MsgDispatcher, msg::Dict{String, Any})\n",
      "    @ VSCodeServer.JSONRPC C:\\Users\\Public\\TongYuan\\.syslab-oss\\extensions\\tongyuan.syslab-julia-0.9.17\\scripts\\packages\\JSONRPC\\src\\typed.jl:67\n",
      " [12] serve_notebook(pipename::String, outputchannel_logger::Base.CoreLogging.SimpleLogger; crashreporting_pipename::String)\n",
      "    @ VSCodeServer C:\\Users\\Public\\TongYuan\\.syslab-oss\\extensions\\tongyuan.syslab-julia-0.9.17\\scripts\\packages\\VSCodeServer\\src\\serve_notebook.jl:139\n",
      " [13] top-level scope\n",
      "    @ c:\\Users\\Public\\TongYuan\\.syslab-oss\\extensions\\tongyuan.syslab-julia-0.9.17\\scripts\\notebook\\notebook.jl:32"
     ]
    }
   ],
   "source": [
    "using Statistics\n",
    "using Plots\n",
    "\n",
    "# 定义自相关函数\n",
    "function autocorrelation(data, lag)\n",
    "    n = length(data)\n",
    "    mean_data = mean(data)\n",
    "    autocorr = 0.0\n",
    "    \n",
    "    for i in 1:(n - lag)\n",
    "        autocorr += (data[i] - mean_data) * (data[i + lag] - mean_data)\n",
    "    end\n",
    "    \n",
    "    autocorr /= n\n",
    "    \n",
    "    return autocorr\n",
    "end\n",
    "\n",
    "# 生成示例时间序列数据\n",
    "data = [sin(2 * pi * t / 10) + 0.5 * randn() for t in 1:100]\n",
    "\n",
    "# 计算自相关函数\n",
    "lags = 1:20  # 滞后值范围\n",
    "autocorr_values = [autocorrelation(data, lag) for lag in lags]\n",
    "\n",
    "# 绘制自相关函数图形\n",
    "plt = plot(lags, autocorr_values, xlabel=\"Lag\", ylabel=\"Autocorrelation\", label=\"Autocorrelation Function\", \n",
    "     title=\"Autocorrelation Function Plot\")\n",
    "\n",
    "# 显示图形\n",
    "display(plt)\n",
    "\n"
   ]
  }
 ],
 "metadata": {
  "kernelspec": {
   "display_name": "Julia 1.9.3",
   "language": "julia",
   "name": "julia-1.9"
  },
  "language_info": {
   "file_extension": ".jl",
   "mimetype": "application/julia",
   "name": "julia",
   "version": "1.9.3"
  },
  "orig_nbformat": 4
 },
 "nbformat": 4,
 "nbformat_minor": 2
}
