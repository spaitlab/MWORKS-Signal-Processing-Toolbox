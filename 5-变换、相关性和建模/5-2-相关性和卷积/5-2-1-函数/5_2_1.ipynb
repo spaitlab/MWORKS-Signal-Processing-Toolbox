{
 "cells": [
  {
   "attachments": {},
   "cell_type": "markdown",
   "metadata": {},
   "source": [
    "### 5.2.1  卷积函数\n",
    "\n",
    "此示例说明使用w = conv(u, v) 返回向量u和v的卷积。如果u和v是多项式系数的向量，对其卷积与将这两个多项式相乘等效。\n",
    "使用w = conv(u,v,shape) 返回shape指定的卷积的分段。例如，conv(u, v,\"same\")仅返回与u等大小的卷积的中心部分，而conv(u,v,\"valid\")仅返回计算的没有补零边缘的卷积部分。\n",
    "\n",
    "通过卷积计算多项式乘法:\n",
    "创建包含多项式 x^2+1 和 2x+7 的系数的向量 u 和 v。"
   ]
  },
  {
   "cell_type": "code",
   "execution_count": 1,
   "metadata": {},
   "outputs": [
    {
     "data": {
      "text/plain": [
       "2-element Vector{Int64}:\n",
       " 2\n",
       " 7"
      ]
     },
     "metadata": {},
     "output_type": "display_data"
    }
   ],
   "source": [
    "using TyMath\n",
    "u = [1,0,1]\n",
    "v = [2,7]"
   ]
  },
  {
   "attachments": {},
   "cell_type": "markdown",
   "metadata": {},
   "source": [
    "使用卷积将多个多项式相乘。"
   ]
  },
  {
   "cell_type": "code",
   "execution_count": 2,
   "metadata": {},
   "outputs": [
    {
     "data": {
      "text/plain": [
       "4-element Vector{Int64}:\n",
       " 2\n",
       " 7\n",
       " 2\n",
       " 7"
      ]
     },
     "metadata": {},
     "output_type": "display_data"
    }
   ],
   "source": [
    "w = conv(u,v)"
   ]
  },
  {
   "attachments": {},
   "cell_type": "markdown",
   "metadata": {},
   "source": [
    "向量卷积：\n",
    "创建两个向量并求其卷积。"
   ]
  },
  {
   "cell_type": "code",
   "execution_count": 3,
   "metadata": {},
   "outputs": [
    {
     "data": {
      "text/plain": [
       "9-element Vector{Int64}:\n",
       " 1\n",
       " 2\n",
       " 2\n",
       " 1\n",
       " 0\n",
       " 1\n",
       " 2\n",
       " 2\n",
       " 1"
      ]
     },
     "metadata": {},
     "output_type": "display_data"
    }
   ],
   "source": [
    "using TyMath\n",
    "u = [1,1,1]\n",
    "v = [1,1,0,0,0,1,1]\n",
    "w = conv(u,v)"
   ]
  },
  {
   "attachments": {},
   "cell_type": "markdown",
   "metadata": {},
   "source": [
    "卷积的中心部分：\n",
    "创建两个向量。计算与 u 大小相同的 u 和 v 的卷积的中心部分。"
   ]
  },
  {
   "cell_type": "code",
   "execution_count": 4,
   "metadata": {},
   "outputs": [
    {
     "data": {
      "text/plain": [
       "7-element Vector{Int64}:\n",
       " 15\n",
       "  5\n",
       " -9\n",
       "  7\n",
       "  6\n",
       "  7\n",
       " -1"
      ]
     },
     "metadata": {},
     "output_type": "display_data"
    }
   ],
   "source": [
    "using TyMath\n",
    "u = [-1,2,3,-2,0,1,2]\n",
    "v = [2,4,-1,1]\n",
    "w = conv(u,v,\"same\")"
   ]
  },
  {
   "attachments": {},
   "cell_type": "markdown",
   "metadata": {},
   "source": [
    "二维卷积：\n",
    "C = conv2(A,B) 返回矩阵 A 和 B 的二维卷积。\n",
    "C = conv2(u,v,A) 首先求 A 的各列与向量 u 的卷积，然后求每行结果与向量 v 的卷积。\n",
    "C = conv2(___,shape) 根据 shape 返回卷积的子区。例如，C = conv2(A,B,\"same\") 返回卷积中大小与 A 相同的中心部分。\n",
    "\n",
    "示例：\n",
    "在图像处理等应用程序中，它可用于将卷积的输入直接与输出进行比较。conv2 函数允许您控制输出的大小。\n",
    "创建一个 3×3 随机矩阵 A 和一个 4×4 随机矩阵 B。计算 A 和 B 的完整卷积，结果是一个 6×6 矩阵。"
   ]
  },
  {
   "cell_type": "code",
   "execution_count": 5,
   "metadata": {},
   "outputs": [
    {
     "data": {
      "text/plain": [
       "6×6 Matrix{Float64}:\n",
       " 0.0462204  0.666478  0.815172  0.68267   0.225046  0.00320177\n",
       " 0.331561   0.358427  0.885391  0.594694  0.581877  0.0630982\n",
       " 0.422862   1.00703   1.51233   1.79657   1.52382   0.450856\n",
       " 0.107388   0.532647  1.17044   1.46782   1.34967   0.74498\n",
       " 0.237531   0.357642  1.35161   1.7094    1.7485    0.518864\n",
       " 0.220673   0.54517   0.88444   0.796857  0.4341    0.0456478"
      ]
     },
     "metadata": {},
     "output_type": "display_data"
    }
   ],
   "source": [
    "using TyMath\n",
    "A = rand(3,3)\n",
    "B = rand(4,4)\n",
    "Cfull = conv2(A,B)"
   ]
  },
  {
   "attachments": {},
   "cell_type": "markdown",
   "metadata": {},
   "source": [
    "计算卷积 Csame 的中心部分，它是 Cfull 的子矩阵，大小与 A 相同。Csame 等于 Cfull[3:5,3:5]。"
   ]
  },
  {
   "cell_type": "code",
   "execution_count": 6,
   "metadata": {},
   "outputs": [
    {
     "data": {
      "text/plain": [
       "3×3 Matrix{Float64}:\n",
       " 1.51233  1.79657  1.52382\n",
       " 1.17044  1.46782  1.34967\n",
       " 1.35161  1.7094   1.7485"
      ]
     },
     "metadata": {},
     "output_type": "display_data"
    }
   ],
   "source": [
    "Csame = conv2(A,B,\"same\")"
   ]
  },
  {
   "attachments": {},
   "cell_type": "markdown",
   "metadata": {},
   "source": [
    "提取二维台座边：\n",
    "Sobel 求边运算利用二维卷积来检测图像的边和其他二维数据。\n",
    "创建并绘制一个内部高度等于 1 的二维台座。"
   ]
  },
  {
   "cell_type": "code",
   "execution_count": 7,
   "metadata": {},
   "outputs": [
    {
     "data": {
      "text/plain": [
       "PyObject <mpl_toolkits.mplot3d.art3d.Poly3DCollection object at 0x000001FCA13CC4C8>"
      ]
     },
     "metadata": {},
     "output_type": "display_data"
    }
   ],
   "source": [
    "using TyMath\n",
    "using TyPlot\n",
    "A = zeros(10,10)\n",
    "A[3:7,3:7] .= ones(5,5)\n",
    "mesh(A)"
   ]
  },
  {
   "attachments": {},
   "cell_type": "markdown",
   "metadata": {},
   "source": [
    "首先求 A 的各行与向量 u 的卷积，然后求卷积结果的各行与向量 v 的卷积。卷积提取台座的水平边。"
   ]
  },
  {
   "cell_type": "code",
   "execution_count": 8,
   "metadata": {},
   "outputs": [
    {
     "data": {
      "text/plain": [
       "PyObject <mpl_toolkits.mplot3d.art3d.Poly3DCollection object at 0x000001FC9C6507C8>"
      ]
     },
     "metadata": {},
     "output_type": "display_data"
    }
   ],
   "source": [
    "u = [1,0,-1]\n",
    "v = [1,2,1]\n",
    "Ch = conv2(u,v,A)\n",
    "mesh(Ch)"
   ]
  },
  {
   "attachments": {},
   "cell_type": "markdown",
   "metadata": {},
   "source": [
    "要提取台座的垂直边，请反转与 u 和 v 的卷积顺序。"
   ]
  },
  {
   "cell_type": "code",
   "execution_count": 9,
   "metadata": {},
   "outputs": [
    {
     "data": {
      "text/plain": [
       "PyObject <mpl_toolkits.mplot3d.art3d.Poly3DCollection object at 0x000001FC9C8B3348>"
      ]
     },
     "metadata": {},
     "output_type": "display_data"
    }
   ],
   "source": [
    "Cv  = conv2(v,u,A)\n",
    "mesh(Cv)"
   ]
  },
  {
   "attachments": {},
   "cell_type": "markdown",
   "metadata": {},
   "source": [
    "计算并绘制台座的组合边。"
   ]
  },
  {
   "cell_type": "code",
   "execution_count": 10,
   "metadata": {},
   "outputs": [
    {
     "data": {
      "text/plain": [
       "PyObject <mpl_toolkits.mplot3d.art3d.Poly3DCollection object at 0x000001FCA4A92408>"
      ]
     },
     "metadata": {},
     "output_type": "display_data"
    }
   ],
   "source": [
    "figure()\n",
    "mesh(sqrt.(Ch.^2 + Cv.^2))"
   ]
  }
 ],
 "metadata": {
  "kernelspec": {
   "display_name": "Julia 1.9.3",
   "language": "julia",
   "name": "julia-1.9"
  },
  "language_info": {
   "file_extension": ".jl",
   "mimetype": "application/julia",
   "name": "julia",
   "version": "1.9.3"
  },
  "orig_nbformat": 4,
  "vscode": {
   "interpreter": {
    "hash": "683f87ab08161c4afd4179992aafccaf47b05ca6df2d9977fe9bcc68f334f35e"
   }
  }
 },
 "nbformat": 4,
 "nbformat_minor": 2
}
