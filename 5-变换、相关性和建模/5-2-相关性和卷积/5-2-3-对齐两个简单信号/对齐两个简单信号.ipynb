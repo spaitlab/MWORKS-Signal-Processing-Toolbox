{
 "cells": [
  {
   "cell_type": "code",
   "execution_count": 1,
   "metadata": {},
   "outputs": [
    {
     "data": {
      "text/plain": [
       "(0.0, 42.0)"
      ]
     },
     "metadata": {},
     "output_type": "display_data"
    }
   ],
   "source": [
    "using Random\n",
    "using TyPlot\n",
    "using TyStatistics\n",
    "using TySignalProcessing\n",
    "# 设定sz的值为30，这将用于生成随机信号的长度。\n",
    "sz = 30\n",
    "\n",
    "# 生成一个随机信号sg，长度为1到8之间的随机整数加3，信号值为标准正态分布的随机数。\n",
    "# rand(1:8)生成一个介于1和8之间的随机整数，randn(rand(1:8)+3)生成一个长度为该随机整数加3的向量，其元素为标准正态分布的随机数。\n",
    "sg = randn(rand(1:8) + 3)\n",
    "\n",
    "# 生成第一个信号s1，它是在随机信号sg前后各添加了长度为0到sz-1的零向量。\n",
    "# rand(0:sz-1)生成一个介于0和sz-1之间的随机整数，zeros(rand(0:sz-1))生成一个相应长度的零向量。\n",
    "# 因此，s1的总长度将在2*sz-2到2*sz+length(sg)-3之间变化。\n",
    "s1 = [zeros(rand(0:sz-1)); sg; zeros(rand(0:sz-1))]'\n",
    "\n",
    "# 生成第二个信号s2，其过程与s1相同，但它是独立生成的，所以可能与s1不同。\n",
    "s2 = [zeros(rand(0:sz-1)); sg; zeros(rand(0:sz-1))]'\n",
    "\n",
    "# 确定s1和s2中较长信号的长度，并将其赋值给mx，这将用于设置x轴的显示范围。\n",
    "mx = max(length(s1), length(s2))\n",
    "figure()\n",
    "subplot(2,1,1)\n",
    "stem(s1)\n",
    "xlim([0,mx])\n",
    "subplot(2,1,2)\n",
    "stem(s2)\n",
    "xlim([0,mx])\n",
    "\n",
    "# 假设s1和s2是已经定义的向量\n",
    "\n",
    "# 如果s1的长度大于s2的长度\n",
    "if length(s1) > length(s2)\n",
    "    # 则将s1赋值给变量slong\n",
    "    slong = s1\n",
    "    # 将s2赋值给变量sshort\n",
    "    sshort = s2\n",
    "# 否则（即s1的长度不大于s2的长度）\n",
    "else\n",
    "    # 将s2赋值给变量slong\n",
    "    slong = s2\n",
    "    # 将s1赋值给变量sshort\n",
    "    sshort = s1\n",
    "# 结束条件判断\n",
    "end\n",
    "acor,lag = xcorr(slong', sshort')\n",
    "acormax, I = findmax(abs.(acor))\n",
    "lagDiff = lag[I]\n",
    "figure()\n",
    "stem(lag,acor)\n",
    "hold(\"on\")\n",
    "plot(lagDiff, acormax, \"*\")\n",
    "hold(\"off\")\n",
    "if lagDiff > 0\n",
    "    sorig = sshort\n",
    "    salign = slong[lagDiff+1:end]\n",
    "else\n",
    "    sorig = slong\n",
    "    # 这里假设sshort是一个数组，使用length来获取其长度\n",
    "    start_index = length(sshort) + lagDiff + 1\n",
    "    salign = sshort[start_index:end]\n",
    "end\n",
    "figure()\n",
    "subplot(2,1,1)\n",
    "stem(sorig)\n",
    "xlim([0,mx])\n",
    "subplot(2,1,2)\n",
    "stem(salign;markerfmt=\"*\")\n",
    "xlim([0,mx])\n",
    "x1,x2 = alignsignals(s1',s2')\n",
    "figure()\n",
    "subplot(2,1,1)\n",
    "stem(x1)\n",
    "xlim([0,mx+1])\n",
    "subplot(2,1,2)\n",
    "stem(x2;markerfmt=\"*\")\n",
    "xlim([0,mx+1])"
   ]
  }
 ],
 "metadata": {
  "kernelspec": {
   "display_name": "Julia 1.9.3",
   "language": "julia",
   "name": "julia-1.9"
  },
  "language_info": {
   "file_extension": ".jl",
   "mimetype": "application/julia",
   "name": "julia",
   "version": "1.9.3"
  },
  "orig_nbformat": 4
 },
 "nbformat": 4,
 "nbformat_minor": 2
}
