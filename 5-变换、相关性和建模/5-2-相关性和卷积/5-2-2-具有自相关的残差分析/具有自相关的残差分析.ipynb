{
 "cells": [
  {
   "cell_type": "code",
   "execution_count": 1,
   "metadata": {},
   "outputs": [
    {
     "data": {
      "text/html": [
       "<div><div style = \"float: left;\"><span>120×5 DataFrame</span></div><div style = \"float: right;\"><span style = \"font-style: italic;\">95 rows omitted</span></div><div style = \"clear: both;\"></div></div><div class = \"data-frame\" style = \"overflow-x: scroll;\"><table class = \"data-frame\" style = \"margin-bottom: 6px;\"><thead><tr class = \"header\"><th class = \"rowNumber\" style = \"font-weight: bold; text-align: right;\">Row</th><th style = \"text-align: left;\">InitialWeight</th><th style = \"text-align: left;\">Program</th><th style = \"text-align: left;\">Subject</th><th style = \"text-align: left;\">Week</th><th style = \"text-align: left;\">y</th></tr><tr class = \"subheader headerLastRow\"><th class = \"rowNumber\" style = \"font-weight: bold; text-align: right;\"></th><th title = \"Int64\" style = \"text-align: left;\">Int64</th><th title = \"String1\" style = \"text-align: left;\">String1</th><th title = \"Int64\" style = \"text-align: left;\">Int64</th><th title = \"Int64\" style = \"text-align: left;\">Int64</th><th title = \"Float64\" style = \"text-align: left;\">Float64</th></tr></thead><tbody><tr><td class = \"rowNumber\" style = \"font-weight: bold; text-align: right;\">1</td><td style = \"text-align: right;\">218</td><td style = \"text-align: left;\">A</td><td style = \"text-align: right;\">1</td><td style = \"text-align: right;\">2</td><td style = \"text-align: right;\">1.71</td></tr><tr><td class = \"rowNumber\" style = \"font-weight: bold; text-align: right;\">2</td><td style = \"text-align: right;\">218</td><td style = \"text-align: left;\">A</td><td style = \"text-align: right;\">1</td><td style = \"text-align: right;\">4</td><td style = \"text-align: right;\">2.1</td></tr><tr><td class = \"rowNumber\" style = \"font-weight: bold; text-align: right;\">3</td><td style = \"text-align: right;\">218</td><td style = \"text-align: left;\">A</td><td style = \"text-align: right;\">1</td><td style = \"text-align: right;\">6</td><td style = \"text-align: right;\">2.77</td></tr><tr><td class = \"rowNumber\" style = \"font-weight: bold; text-align: right;\">4</td><td style = \"text-align: right;\">218</td><td style = \"text-align: left;\">A</td><td style = \"text-align: right;\">1</td><td style = \"text-align: right;\">8</td><td style = \"text-align: right;\">3.05</td></tr><tr><td class = \"rowNumber\" style = \"font-weight: bold; text-align: right;\">5</td><td style = \"text-align: right;\">218</td><td style = \"text-align: left;\">A</td><td style = \"text-align: right;\">1</td><td style = \"text-align: right;\">10</td><td style = \"text-align: right;\">3.28</td></tr><tr><td class = \"rowNumber\" style = \"font-weight: bold; text-align: right;\">6</td><td style = \"text-align: right;\">218</td><td style = \"text-align: left;\">A</td><td style = \"text-align: right;\">1</td><td style = \"text-align: right;\">12</td><td style = \"text-align: right;\">3.8</td></tr><tr><td class = \"rowNumber\" style = \"font-weight: bold; text-align: right;\">7</td><td style = \"text-align: right;\">158</td><td style = \"text-align: left;\">A</td><td style = \"text-align: right;\">2</td><td style = \"text-align: right;\">2</td><td style = \"text-align: right;\">0.69</td></tr><tr><td class = \"rowNumber\" style = \"font-weight: bold; text-align: right;\">8</td><td style = \"text-align: right;\">158</td><td style = \"text-align: left;\">A</td><td style = \"text-align: right;\">2</td><td style = \"text-align: right;\">4</td><td style = \"text-align: right;\">0.66</td></tr><tr><td class = \"rowNumber\" style = \"font-weight: bold; text-align: right;\">9</td><td style = \"text-align: right;\">158</td><td style = \"text-align: left;\">A</td><td style = \"text-align: right;\">2</td><td style = \"text-align: right;\">6</td><td style = \"text-align: right;\">0.58</td></tr><tr><td class = \"rowNumber\" style = \"font-weight: bold; text-align: right;\">10</td><td style = \"text-align: right;\">158</td><td style = \"text-align: left;\">A</td><td style = \"text-align: right;\">2</td><td style = \"text-align: right;\">8</td><td style = \"text-align: right;\">0.08</td></tr><tr><td class = \"rowNumber\" style = \"font-weight: bold; text-align: right;\">11</td><td style = \"text-align: right;\">158</td><td style = \"text-align: left;\">A</td><td style = \"text-align: right;\">2</td><td style = \"text-align: right;\">10</td><td style = \"text-align: right;\">0.23</td></tr><tr><td class = \"rowNumber\" style = \"font-weight: bold; text-align: right;\">12</td><td style = \"text-align: right;\">158</td><td style = \"text-align: left;\">A</td><td style = \"text-align: right;\">2</td><td style = \"text-align: right;\">12</td><td style = \"text-align: right;\">0.12</td></tr><tr><td class = \"rowNumber\" style = \"font-weight: bold; text-align: right;\">13</td><td style = \"text-align: right;\">198</td><td style = \"text-align: left;\">A</td><td style = \"text-align: right;\">3</td><td style = \"text-align: right;\">2</td><td style = \"text-align: right;\">2.46</td></tr><tr><td style = \"text-align: right;\">&vellip;</td><td style = \"text-align: right;\">&vellip;</td><td style = \"text-align: right;\">&vellip;</td><td style = \"text-align: right;\">&vellip;</td><td style = \"text-align: right;\">&vellip;</td><td style = \"text-align: right;\">&vellip;</td></tr><tr><td class = \"rowNumber\" style = \"font-weight: bold; text-align: right;\">109</td><td style = \"text-align: right;\">223</td><td style = \"text-align: left;\">D</td><td style = \"text-align: right;\">19</td><td style = \"text-align: right;\">2</td><td style = \"text-align: right;\">2.01</td></tr><tr><td class = \"rowNumber\" style = \"font-weight: bold; text-align: right;\">110</td><td style = \"text-align: right;\">223</td><td style = \"text-align: left;\">D</td><td style = \"text-align: right;\">19</td><td style = \"text-align: right;\">4</td><td style = \"text-align: right;\">2.39</td></tr><tr><td class = \"rowNumber\" style = \"font-weight: bold; text-align: right;\">111</td><td style = \"text-align: right;\">223</td><td style = \"text-align: left;\">D</td><td style = \"text-align: right;\">19</td><td style = \"text-align: right;\">6</td><td style = \"text-align: right;\">2.79</td></tr><tr><td class = \"rowNumber\" style = \"font-weight: bold; text-align: right;\">112</td><td style = \"text-align: right;\">223</td><td style = \"text-align: left;\">D</td><td style = \"text-align: right;\">19</td><td style = \"text-align: right;\">8</td><td style = \"text-align: right;\">3.07</td></tr><tr><td class = \"rowNumber\" style = \"font-weight: bold; text-align: right;\">113</td><td style = \"text-align: right;\">223</td><td style = \"text-align: left;\">D</td><td style = \"text-align: right;\">19</td><td style = \"text-align: right;\">10</td><td style = \"text-align: right;\">3.64</td></tr><tr><td class = \"rowNumber\" style = \"font-weight: bold; text-align: right;\">114</td><td style = \"text-align: right;\">223</td><td style = \"text-align: left;\">D</td><td style = \"text-align: right;\">19</td><td style = \"text-align: right;\">12</td><td style = \"text-align: right;\">3.99</td></tr><tr><td class = \"rowNumber\" style = \"font-weight: bold; text-align: right;\">115</td><td style = \"text-align: right;\">142</td><td style = \"text-align: left;\">D</td><td style = \"text-align: right;\">20</td><td style = \"text-align: right;\">2</td><td style = \"text-align: right;\">2.08</td></tr><tr><td class = \"rowNumber\" style = \"font-weight: bold; text-align: right;\">116</td><td style = \"text-align: right;\">142</td><td style = \"text-align: left;\">D</td><td style = \"text-align: right;\">20</td><td style = \"text-align: right;\">4</td><td style = \"text-align: right;\">2.6</td></tr><tr><td class = \"rowNumber\" style = \"font-weight: bold; text-align: right;\">117</td><td style = \"text-align: right;\">142</td><td style = \"text-align: left;\">D</td><td style = \"text-align: right;\">20</td><td style = \"text-align: right;\">6</td><td style = \"text-align: right;\">3.28</td></tr><tr><td class = \"rowNumber\" style = \"font-weight: bold; text-align: right;\">118</td><td style = \"text-align: right;\">142</td><td style = \"text-align: left;\">D</td><td style = \"text-align: right;\">20</td><td style = \"text-align: right;\">8</td><td style = \"text-align: right;\">3.83</td></tr><tr><td class = \"rowNumber\" style = \"font-weight: bold; text-align: right;\">119</td><td style = \"text-align: right;\">142</td><td style = \"text-align: left;\">D</td><td style = \"text-align: right;\">20</td><td style = \"text-align: right;\">10</td><td style = \"text-align: right;\">4.36</td></tr><tr><td class = \"rowNumber\" style = \"font-weight: bold; text-align: right;\">120</td><td style = \"text-align: right;\">142</td><td style = \"text-align: left;\">D</td><td style = \"text-align: right;\">20</td><td style = \"text-align: right;\">12</td><td style = \"text-align: right;\">5.14</td></tr></tbody></table></div>"
      ],
      "text/latex": [
       "\\begin{tabular}{r|ccccc}\n",
       "\t& InitialWeight & Program & Subject & Week & y\\\\\n",
       "\t\\hline\n",
       "\t& Int64 & String1 & Int64 & Int64 & Float64\\\\\n",
       "\t\\hline\n",
       "\t1 & 218 & A & 1 & 2 & 1.71 \\\\\n",
       "\t2 & 218 & A & 1 & 4 & 2.1 \\\\\n",
       "\t3 & 218 & A & 1 & 6 & 2.77 \\\\\n",
       "\t4 & 218 & A & 1 & 8 & 3.05 \\\\\n",
       "\t5 & 218 & A & 1 & 10 & 3.28 \\\\\n",
       "\t6 & 218 & A & 1 & 12 & 3.8 \\\\\n",
       "\t7 & 158 & A & 2 & 2 & 0.69 \\\\\n",
       "\t8 & 158 & A & 2 & 4 & 0.66 \\\\\n",
       "\t9 & 158 & A & 2 & 6 & 0.58 \\\\\n",
       "\t10 & 158 & A & 2 & 8 & 0.08 \\\\\n",
       "\t11 & 158 & A & 2 & 10 & 0.23 \\\\\n",
       "\t12 & 158 & A & 2 & 12 & 0.12 \\\\\n",
       "\t13 & 198 & A & 3 & 2 & 2.46 \\\\\n",
       "\t14 & 198 & A & 3 & 4 & 3.55 \\\\\n",
       "\t15 & 198 & A & 3 & 6 & 4.26 \\\\\n",
       "\t16 & 198 & A & 3 & 8 & 5.0 \\\\\n",
       "\t17 & 198 & A & 3 & 10 & 5.78 \\\\\n",
       "\t18 & 198 & A & 3 & 12 & 6.89 \\\\\n",
       "\t19 & 161 & A & 4 & 2 & 0.99 \\\\\n",
       "\t20 & 161 & A & 4 & 4 & 0.89 \\\\\n",
       "\t21 & 161 & A & 4 & 6 & 0.83 \\\\\n",
       "\t22 & 161 & A & 4 & 8 & 0.65 \\\\\n",
       "\t23 & 161 & A & 4 & 10 & 0.67 \\\\\n",
       "\t24 & 161 & A & 4 & 12 & 0.41 \\\\\n",
       "\t$\\dots$ & $\\dots$ & $\\dots$ & $\\dots$ & $\\dots$ & $\\dots$ \\\\\n",
       "\\end{tabular}\n"
      ],
      "text/plain": [
       "\u001b[1m120×5 DataFrame\u001b[0m\n",
       "\u001b[1m Row \u001b[0m│\u001b[1m InitialWeight \u001b[0m\u001b[1m Program \u001b[0m\u001b[1m Subject \u001b[0m\u001b[1m Week  \u001b[0m\u001b[1m y       \u001b[0m\n",
       "     │\u001b[90m Int64         \u001b[0m\u001b[90m String1 \u001b[0m\u001b[90m Int64   \u001b[0m\u001b[90m Int64 \u001b[0m\u001b[90m Float64 \u001b[0m\n",
       "─────┼─────────────────────────────────────────────────\n",
       "   1 │           218  A              1      2     1.71\n",
       "   2 │           218  A              1      4     2.1\n",
       "   3 │           218  A              1      6     2.77\n",
       "   4 │           218  A              1      8     3.05\n",
       "   5 │           218  A              1     10     3.28\n",
       "   6 │           218  A              1     12     3.8\n",
       "   7 │           158  A              2      2     0.69\n",
       "   8 │           158  A              2      4     0.66\n",
       "  ⋮  │       ⋮           ⋮        ⋮       ⋮       ⋮\n",
       " 114 │           223  D             19     12     3.99\n",
       " 115 │           142  D             20      2     2.08\n",
       " 116 │           142  D             20      4     2.6\n",
       " 117 │           142  D             20      6     3.28\n",
       " 118 │           142  D             20      8     3.83\n",
       " 119 │           142  D             20     10     4.36\n",
       " 120 │           142  D             20     12     5.14\n",
       "\u001b[36m                                       105 rows omitted\u001b[0m"
      ]
     },
     "metadata": {},
     "output_type": "display_data"
    }
   ],
   "source": [
    "using CSV\n",
    "using TyMachineLearning\n",
    "using DataFrames\n",
    "using TyPlot\n",
    "file2 = joinpath(pkgdir(TyMachineLearning), \"data/Regression/residuals.csv\")\n",
    "lasdata_x2 = CSV.read(file2, DataFrame; header=1)"
   ]
  },
  {
   "cell_type": "code",
   "execution_count": 2,
   "metadata": {},
   "outputs": [
    {
     "data": {
      "text/plain": [
       "\"Week\""
      ]
     },
     "metadata": {},
     "output_type": "display_data"
    }
   ],
   "source": [
    "formula2 = \"y ~ InitialWeight + Program + Week + Program:Week\"\n",
    "group2 = \"Subject\"\n",
    "random_formula = \"Week\""
   ]
  },
  {
   "cell_type": "code",
   "execution_count": 3,
   "metadata": {},
   "outputs": [
    {
     "data": {
      "text/plain": [
       "PyObject <statsmodels.regression.mixed_linear_model.MixedLMResultsWrapper object at 0x000001FB7FEFF0C8>"
      ]
     },
     "metadata": {},
     "output_type": "display_data"
    }
   ],
   "source": [
    "lme2 = fitlme(lasdata_x2, formula2, group2; random_formula=random_formula)"
   ]
  },
  {
   "cell_type": "code",
   "execution_count": 4,
   "metadata": {},
   "outputs": [
    {
     "data": {
      "text/plain": [
       "120-element Vector{Float64}:\n",
       " -0.06066214054345065\n",
       " -0.07677958848429167\n",
       "  0.1871029635748669\n",
       "  0.06098551563402532\n",
       " -0.11513193230681606\n",
       " -0.0012493802476574167\n",
       " -0.052226617053880875\n",
       "  0.05513153401854909\n",
       "  0.11248968509097856\n",
       " -0.25015216383659183\n",
       "  ⋮\n",
       " -0.1090848310642718\n",
       "  0.05638330822249893\n",
       "  0.00185144750926991\n",
       "  0.06441351818807606\n",
       " -0.026283712317892505\n",
       "  0.04301905717613819\n",
       " -0.017678173329830127\n",
       " -0.09837540383579846\n",
       "  0.07092736565823188"
      ]
     },
     "metadata": {},
     "output_type": "display_data"
    }
   ],
   "source": [
    "F = fitted(lme2)\n",
    "R = residuals(lme2)"
   ]
  },
  {
   "cell_type": "code",
   "execution_count": 5,
   "metadata": {},
   "outputs": [
    {
     "data": {
      "text/plain": [
       "PyObject <objects.mw_text.CYlabel object at 0x000001FB8528C548>"
      ]
     },
     "metadata": {},
     "output_type": "display_data"
    }
   ],
   "source": [
    "plot(F, R, \"bx\")\n",
    "xlabel(\"Fitted Values\")\n",
    "ylabel(\"Residuals\")"
   ]
  },
  {
   "cell_type": "code",
   "execution_count": 6,
   "metadata": {},
   "outputs": [
    {
     "data": {
      "text/plain": [
       "PyObject <objects.mw_scatter.CScatter object at 0x000001FB6262CA48>"
      ]
     },
     "metadata": {},
     "output_type": "display_data"
    }
   ],
   "source": [
    "lax, Program, convs = convent_columns(lasdata_x2, \"Program\")\n",
    "X = Matrix(lax.values)\n",
    "group = X[:, 3]\n",
    "figure()\n",
    "scatter(F, R; c=group, filled=\"true\")"
   ]
  },
  {
   "cell_type": "code",
   "execution_count": 7,
   "metadata": {},
   "outputs": [
    {
     "data": {
      "text/plain": [
       "PyObject <statsmodels.regression.mixed_linear_model.MixedLMResultsWrapper object at 0x000001FB8289CD88>"
      ]
     },
     "metadata": {},
     "output_type": "display_data"
    }
   ],
   "source": [
    "lme3 = fitlme(lasdata_x2, formula2, group2; random_formula=\"Week\")"
   ]
  },
  {
   "cell_type": "code",
   "execution_count": 8,
   "metadata": {},
   "outputs": [
    {
     "data": {
      "text/plain": [
       "PyObject <objects.mw_axes.CAxes object at 0x000001FB82877888>"
      ]
     },
     "metadata": {},
     "output_type": "display_data"
    }
   ],
   "source": [
    "plotResiduals(lme3)"
   ]
  },
  {
   "cell_type": "code",
   "execution_count": 9,
   "metadata": {},
   "outputs": [
    {
     "data": {
      "text/plain": [
       "PyObject <objects.mw_axes.CAxes object at 0x000001FB8702BCC8>"
      ]
     },
     "metadata": {},
     "output_type": "display_data"
    }
   ],
   "source": [
    "plotResiduals(lme2,\"fitted\")"
   ]
  },
  {
   "cell_type": "code",
   "execution_count": 10,
   "metadata": {},
   "outputs": [
    {
     "data": {
      "text/plain": [
       "PyObject <objects.mw_axes.CAxes object at 0x000001FB82593208>"
      ]
     },
     "metadata": {},
     "output_type": "display_data"
    }
   ],
   "source": [
    "plotResiduals(lme2,\"symmetry\")"
   ]
  },
  {
   "cell_type": "code",
   "execution_count": 11,
   "metadata": {},
   "outputs": [
    {
     "data": {
      "text/plain": [
       "1-element Vector{Int64}:\n",
       " 101"
      ]
     },
     "metadata": {},
     "output_type": "display_data"
    }
   ],
   "source": [
    "using TyBaseCore\n",
    "find(residuals(lme2).>0.25)"
   ]
  },
  {
   "cell_type": "code",
   "execution_count": 12,
   "metadata": {},
   "outputs": [
    {
     "data": {
      "text/plain": [
       "PyObject <objects.mw_axes.CAxes object at 0x000001FB87FA3C48>"
      ]
     },
     "metadata": {},
     "output_type": "display_data"
    }
   ],
   "source": [
    "plotResiduals(lme2,\"lagged\")"
   ]
  }
 ],
 "metadata": {
  "kernelspec": {
   "display_name": "Julia 1.9.3",
   "language": "julia",
   "name": "julia-1.9"
  },
  "language_info": {
   "file_extension": ".jl",
   "mimetype": "application/julia",
   "name": "julia",
   "version": "1.9.3"
  },
  "orig_nbformat": 4
 },
 "nbformat": 4,
 "nbformat_minor": 2
}
