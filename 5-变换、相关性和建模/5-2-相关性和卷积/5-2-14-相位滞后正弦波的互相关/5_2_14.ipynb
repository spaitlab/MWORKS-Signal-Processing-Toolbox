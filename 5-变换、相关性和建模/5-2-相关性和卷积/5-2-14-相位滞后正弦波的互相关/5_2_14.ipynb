{
 "cells": [
  {
   "attachments": {},
   "cell_type": "markdown",
   "metadata": {},
   "source": [
    "### 5.2.14  相位滞后正弦波的互相关\n",
    "\n",
    "此示例说明如何使用互相关序列来估计两个正弦波之间的相位滞后。相同频率的两个正弦波的理论互相关序列也在该频率下振荡。由于样本互相关序列在较大滞后时使用的样本越来越少，因此样本互相关序列也以相同的频率振荡，但幅度随着滞后的增大而衰减。\n",
    "产生两个频率为2π/10rad/sample。一个正弦波的起始相位为 0，而另一个正弦波的起始相位为−π弧度。加N（0,0.25^2)正弦波的白噪声，相位滞后π弧度。将随机数生成器设置为默认设置以获得可重现的结果。"
   ]
  },
  {
   "cell_type": "code",
   "execution_count": 1,
   "metadata": {},
   "outputs": [
    {
     "data": {
      "text/plain": [
       "1-element Vector{Tuple{PyCall.PyObject, PyCall.PyObject, PyCall.PyObject}}:\n",
       " (PyObject <matplotlib.lines.Line2D object at 0x000001AC462414C8>, PyObject <matplotlib.collections.LineCollection object at 0x000001AC4C88C608>, PyObject <matplotlib.lines.Line2D object at 0x000001AC4C89C508>)"
      ]
     },
     "metadata": {},
     "output_type": "display_data"
    }
   ],
   "source": [
    "using Random\n",
    "using TyPlot\n",
    "using TyStatistics\n",
    "\n",
    "# 设定随机数种子\n",
    "Random.seed!(1234) # 这个种子是任意选择的，可能与MATLAB的默认不同\n",
    "\n",
    "# 生成时间向量和两个正弦波\n",
    "t = 0:99\n",
    "x = cos.(2 * π * 1/10 * t)\n",
    "y = cos.(2 * π * 1/10 * t .- π) + 0.25 * randn(length(t))\n",
    "\n",
    "# 计算两个信号的互相关序列\n",
    "c, lags = xcorr(y, x, maxlag=20, scale=\"normalized\")\n",
    "\n",
    "# 使用TyPlot的stem函数绘制互相关序列\n",
    "TyPlot.stem(lags, c)\n"
   ]
  },
  {
   "attachments": {},
   "cell_type": "markdown",
   "metadata": {},
   "source": [
    "您会看到，互相关序列如预期的那样在滞后 5 处达到峰值，并在 10 个样本的周期内振荡。"
   ]
  }
 ],
 "metadata": {
  "kernelspec": {
   "display_name": "Julia 1.9.3",
   "language": "julia",
   "name": "julia-1.9"
  },
  "language_info": {
   "file_extension": ".jl",
   "mimetype": "application/julia",
   "name": "julia",
   "version": "1.9.3"
  },
  "orig_nbformat": 4,
  "vscode": {
   "interpreter": {
    "hash": "683f87ab08161c4afd4179992aafccaf47b05ca6df2d9977fe9bcc68f334f35e"
   }
  }
 },
 "nbformat": 4,
 "nbformat_minor": 2
}
