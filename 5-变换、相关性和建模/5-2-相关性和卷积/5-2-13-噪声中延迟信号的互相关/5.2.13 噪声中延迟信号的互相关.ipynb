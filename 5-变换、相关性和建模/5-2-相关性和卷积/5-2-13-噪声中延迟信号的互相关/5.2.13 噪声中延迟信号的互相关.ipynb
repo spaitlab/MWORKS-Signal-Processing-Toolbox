{
 "cells": [
  {
   "cell_type": "code",
   "execution_count": 67,
   "metadata": {},
   "outputs": [
    {
     "data": {
      "text/plain": [
       "1-element Vector{Tuple{PyCall.PyObject, PyCall.PyObject, PyCall.PyObject}}:\n",
       " (PyObject <matplotlib.lines.Line2D object at 0x000001AB4142ACC8>, PyObject <matplotlib.collections.LineCollection object at 0x000001AB41422F08>, PyObject <matplotlib.lines.Line2D object at 0x000001AB4142AB08>)"
      ]
     },
     "metadata": {},
     "output_type": "display_data"
    }
   ],
   "source": [
    "using TyPlot\n",
    "using Random\n",
    "using TyStatistics\n",
    "using TySignalProcessing\n",
    "x = triang(20)\n",
    "y = vcat(zeros(3), x) + 0.3 * randn(length(x) + 3)\n",
    "\n",
    "# 创建子图\n",
    "subplot(2,1,1)\n",
    "plot1 = stem(x)\n",
    "ylims=(-1, 2)\n",
    "\n",
    "subplot(2,1,2)\n",
    "plot2 = stem(y)\n",
    "ylims=(-1, 2)\n",
    "\n",
    "# 计算交叉相关性\n",
    "xc, lags = xcorr(y, x)\n",
    "I = argmax(abs.(xc))\n",
    "\n",
    "# 绘制交叉相关性图\n",
    "figure()\n",
    "stem(lags, xc;markerfmt=\"o\", markerfacecolor=\"blue\", markeredgecolor=\"black\")\n",
    "title(\"Cross-correlation\")\n",
    "hold(\"on\")\n",
    "stem([lags[I]], [xc[I]])"
   ]
  }
 ],
 "metadata": {
  "kernelspec": {
   "display_name": "Julia 1.9.3",
   "language": "julia",
   "name": "julia-1.9"
  },
  "language_info": {
   "file_extension": ".jl",
   "mimetype": "application/julia",
   "name": "julia",
   "version": "1.9.3"
  },
  "orig_nbformat": 4
 },
 "nbformat": 4,
 "nbformat_minor": 2
}
