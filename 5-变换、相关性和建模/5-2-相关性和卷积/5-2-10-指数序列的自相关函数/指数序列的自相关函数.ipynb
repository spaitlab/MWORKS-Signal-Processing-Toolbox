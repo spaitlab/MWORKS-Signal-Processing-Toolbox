{
 "cells": [
  {
   "cell_type": "code",
   "execution_count": 2,
   "metadata": {},
   "outputs": [
    {
     "data": {
      "text/plain": [
       "PyObject <objects.mw_text.CYlabel object at 0x000001B9BA139388>"
      ]
     },
     "metadata": {},
     "output_type": "display_data"
    }
   ],
   "source": [
    "using TyPlot\n",
    "using TyStatistics\n",
    "\n",
    "a = 0.95\n",
    "N = 28\n",
    "n = 0:N-1\n",
    "lags = -(N-1):(N-1)\n",
    "\n",
    "x = a .^ n\n",
    "c,lags = xcorr(x)\n",
    "\n",
    "fs = 10\n",
    "nn = -(N-1):1/fs:(N-1)\n",
    "dd = (1 .- a .^(2 .* (N .- abs.(nn)))) ./ (1 .- a^2) .* a .^ abs.(nn)\n",
    "figure()\n",
    "stem(lags,c)\n",
    "hold(\"on\")\n",
    "plot(nn, dd)\n",
    "legend([\"xcorr\", \"Analytic\"])\n",
    "xlabel(\"Lag\")\n",
    "ylabel(\"Autocorrelation\")\n",
    "\n",
    "cu, = xcorr(x,\"unbiased\")\n",
    "du = dd ./(N.-abs.(nn))\n",
    "figure()\n",
    "stem(lags,cu)\n",
    "hold(\"on\")\n",
    "plot(nn, du)\n",
    "legend([\"xcorr\", \"Analytic\"])\n",
    "xlabel(\"Lag\")\n",
    "ylabel(\"Autocorrelation\")\n",
    "\n",
    "cb, = xcorr(x,\"biased\")\n",
    "db = dd ./N\n",
    "figure()\n",
    "stem(lags,cb)\n",
    "hold(\"on\")\n",
    "plot(nn, db)\n",
    "legend([\"xcorr\", \"Analytic\"])\n",
    "xlabel(\"Lag\")\n",
    "ylabel(\"Autocorrelation\")\n",
    "\n",
    "cz = xcorr(x,\"coeff\")\n",
    "dz = dd ./maximum(dd)\n",
    "figure()\n",
    "stem(lags,cz[1])\n",
    "hold(\"on\")\n",
    "plot(nn, dz)\n",
    "legend([\"xcorr\", \"Analytic\"])\n",
    "xlabel(\"Lag\")\n",
    "ylabel(\"Autocorrelation\")"
   ]
  }
 ],
 "metadata": {
  "kernelspec": {
   "display_name": "Julia 1.9.3",
   "language": "julia",
   "name": "julia-1.9"
  },
  "language_info": {
   "file_extension": ".jl",
   "mimetype": "application/julia",
   "name": "julia",
   "version": "1.9.3"
  },
  "orig_nbformat": 4
 },
 "nbformat": 4,
 "nbformat_minor": 2
}
