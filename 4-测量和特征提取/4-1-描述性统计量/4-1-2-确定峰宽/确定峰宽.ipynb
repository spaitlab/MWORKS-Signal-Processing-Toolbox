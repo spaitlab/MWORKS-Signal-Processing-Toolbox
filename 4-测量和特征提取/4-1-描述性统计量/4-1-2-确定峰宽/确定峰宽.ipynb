{
 "cells": [
  {
   "attachments": {},
   "cell_type": "markdown",
   "metadata": {},
   "source": [
    "### 4.1.2 确定峰宽\n",
    "\n",
    "   数字信号处理技术中峰值特征的精确分析对于理解和优化信号的质量至关重要。本案例提供了如何在Mworks中通过Julia语言实现确定峰宽findpeaks是MATLAB中一个非常有用的函数，它用于寻找一维数据中的局部最大值（峰值）。这个函数不仅可以找到峰值，还可以返回有关这些峰值的详细信息，例如它们的宽度、高度和相对于其他特征的重要性（如突起度和阈值）。在Syslab函数库函数库TySignalProcessing中也对应提供了函数findpeaks，用于返回包含输入信号向量 data 的局部极大值（峰值）的向量，以下是具体示例：\n",
    "\n",
    " 创建一个由几条钟形曲线之和组成的信号。指定每条曲线的位置、高度和宽度。\n"
   ]
  },
  {
   "cell_type": "code",
   "execution_count": 1,
   "metadata": {},
   "outputs": [
    {
     "data": {
      "text/plain": [
       "1-element Vector{PyCall.PyObject}:\n",
       " PyObject <objects.mw_line.CLine object at 0x000001CB64A0B848>"
      ]
     },
     "metadata": {},
     "output_type": "display_data"
    }
   ],
   "source": [
    "# Julia代码\n",
    "using TyPlot \n",
    "using TySignalProcessing\n",
    "\n",
    "data = [25 8 15 5 6 10 10 3 1 20 7]\n",
    "plot(data)\n"
   ]
  },
  {
   "cell_type": "markdown",
   "metadata": {},
   "source": [
    "绘制峰值。"
   ]
  },
  {
   "cell_type": "code",
   "execution_count": 2,
   "metadata": {},
   "outputs": [
    {
     "data": {
      "text/plain": [
       "([15 10 20], [3 6 10])"
      ]
     },
     "metadata": {},
     "output_type": "display_data"
    }
   ],
   "source": [
    "findpeaks(data; plotfig=true)\n"
   ]
  },
  {
   "cell_type": "markdown",
   "metadata": {},
   "source": [
    "找到信号的峰值并输出其位置\n",
    "\n",
    "创建一个由钟形曲线之和组成的信号。指定每条曲线的位置、高度和宽度。"
   ]
  },
  {
   "cell_type": "code",
   "execution_count": 3,
   "metadata": {},
   "outputs": [],
   "source": [
    "using TyPlot \n",
    "using TySignalProcessing\n",
    "using TyMath\n",
    "\n",
    "x = [range(0, 1, 1000);]'\n",
    "Pos = [1, 2, 3, 5, 7, 8] / 10\n",
    "Hgt = [3, 4, 4, 2, 2, 3]\n",
    "Wdt = [2, 6, 3, 3, 4, 6] / 100\n",
    "Gauss = zeros(length(Pos), 1000)\n",
    "\n",
    "for n in 1:length(Pos)\n",
    "  Gauss[n, :] = Hgt[n] .* exp.(-((x .- Pos[n]) / Wdt[n]) .^ 2)\n",
    "end\n",
    "# PeakSig = sum(Gauss; dims=1)"
   ]
  },
  {
   "cell_type": "markdown",
   "metadata": {},
   "source": [
    "绘制各个曲线及其总和。"
   ]
  },
  {
   "cell_type": "code",
   "execution_count": 4,
   "metadata": {},
   "outputs": [],
   "source": [
    "\n",
    "# plot(x, Gauss', \"--\", x, PeakSig')"
   ]
  },
  {
   "cell_type": "markdown",
   "metadata": {},
   "source": [
    "使用默认设置的 findpeaks 找到信号峰值及其位置"
   ]
  },
  {
   "cell_type": "code",
   "execution_count": 5,
   "metadata": {},
   "outputs": [
    {
     "ename": "UndefVarError",
     "evalue": "UndefVarError: `PeakSig` not defined",
     "output_type": "error",
     "traceback": [
      "UndefVarError: `PeakSig` not defined\n",
      "\n",
      "Stacktrace:\n",
      " [1] top-level scope\n",
      "   @ e:\\大四\\组会\\Mworks\\mworks-main-run-7.21\\mworks-main\\4-测量和特征提取\\4-1-描述性统计量\\4-1-2-确定峰宽\\ch4.1.2.ipynb:1"
     ]
    }
   ],
   "source": [
    "findpeaks(PeakSig, x; plotfig=true)\n",
    "text(locs .+ 0.02, pks, string.([1:length(pks);]))\n",
    "grid(\"on\")"
   ]
  },
  {
   "cell_type": "markdown",
   "metadata": {},
   "source": [
    "将峰值从最高到最短进行分类"
   ]
  },
  {
   "cell_type": "code",
   "execution_count": 6,
   "metadata": {},
   "outputs": [
    {
     "ename": "UndefVarError",
     "evalue": "UndefVarError: `PeakSig` not defined",
     "output_type": "error",
     "traceback": [
      "UndefVarError: `PeakSig` not defined\n",
      "\n",
      "Stacktrace:\n",
      " [1] top-level scope\n",
      "   @ e:\\大四\\组会\\Mworks\\mworks-main-run-7.21\\mworks-main\\4-测量和特征提取\\4-1-描述性统计量\\4-1-2-确定峰宽\\ch4.1.2.ipynb:1"
     ]
    }
   ],
   "source": [
    "pks, locs = findpeaks(vec(PeakSig), x; SortStr=\"descend\")\n",
    "findpeaks(PeakSig, x; SortStr=\"descend\", plotfig=true)\n",
    "text(locs .+ 0.02, pks, string.([1:length(pks);]))\n",
    "grid(\"on\")"
   ]
  }
 ],
 "metadata": {
  "kernelspec": {
   "display_name": "Julia 1.9.3",
   "language": "julia",
   "name": "julia-1.9"
  },
  "language_info": {
   "file_extension": ".jl",
   "mimetype": "application/julia",
   "name": "julia",
   "version": "1.9.3"
  },
  "orig_nbformat": 4
 },
 "nbformat": 4,
 "nbformat_minor": 2
}
