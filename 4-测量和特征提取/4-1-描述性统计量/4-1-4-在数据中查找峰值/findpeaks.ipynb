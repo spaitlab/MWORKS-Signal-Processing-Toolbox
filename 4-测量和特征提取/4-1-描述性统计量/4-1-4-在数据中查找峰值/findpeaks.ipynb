{
 "cells": [
  {
   "cell_type": "code",
   "execution_count": 1,
   "metadata": {},
   "outputs": [
    {
     "name": "stdout",
     "output_type": "stream",
     "text": [
      "10.869565217391305"
     ]
    },
    {
     "name": "stdout",
     "output_type": "stream",
     "text": [
      "[0.09090909090909091]"
     ]
    },
    {
     "data": {
      "text/plain": [
       "PyObject <matplotlib.legend.Legend object at 0x0000020C2D12BF48>"
      ]
     },
     "metadata": {},
     "output_type": "display_data"
    }
   ],
   "source": [
    "using TySignalProcessing\n",
    "using TyMath\n",
    "using MAT\n",
    "using TyPlot\n",
    "\n",
    "mat_contents = matread(\"spots_num.mat\")  #文件路径，可以修改\n",
    "# # data = mat_contents[\"openLoopVoltage\"] \n",
    "avSpots = mat_contents[\"avSpots\"]\n",
    "year = mat_contents[\"year\"]\n",
    "# #year = data[:, 1]\n",
    "# #avSpots = data[:, 3]\n",
    "pks, locs = findpeaks(avSpots)\n",
    "# plot(year, avSpots)\n",
    "\n",
    "figure()\n",
    "plot(year, avSpots, year[locs], pks, \"o\")\n",
    "xlabel(\"Year\")\n",
    "ylabel(\"Sunspot Number\")\n",
    "\n",
    "figure()\n",
    "pks, locs = findpeaks(avSpots; MinPeakDistance=6)\n",
    "plot(year, avSpots, year[locs], pks, \"o\")\n",
    "xlabel(\"Year\")\n",
    "ylabel(\"Sunspot Number\")\n",
    "legend([\"Data\", \"peaks\"])\n",
    "meanCycle = mean(diff(locs))\n",
    "print(meanCycle)\n",
    "\n",
    "fs = 1\n",
    "Nf = 264\n",
    "df = fs / Nf\n",
    "f = 0:df:fs/2-df\n",
    "# print(fft(avSpots .- mean(avSpots)))\n",
    "trSpots = fftshift(fft(avSpots .- mean(avSpots)))\n",
    "dBspots = 20 * log10.(abs.(trSpots[Nf ÷ 2 + 1:Nf]))\n",
    "figure()\n",
    "plot(f, dBspots)\n",
    "xline(1 / meanCycle, color=\"#77AC30\")\n",
    "xlabel(\"Frequency (year^{-1})\")\n",
    "ylabel(\"| FFT | (dB)\")\n",
    "ylim(20, 100)\n",
    "text(1 / meanCycle + 0.02, 25, \"<== 1/\" * string(meanCycle))\n",
    "pk, MaxFreq = findpeaks(dBspots; NPeaks=1, SortStr=\"descend\")\n",
    "figure()\n",
    "print(f[MaxFreq])\n",
    "plot(f, dBspots,f[MaxFreq], pk, \"o\")\n",
    "ylim(20,100)\n",
    "xline(1 / meanCycle, color=\"#77AC30\")\n",
    "xlabel(\"Frequency (year^{-1})\")\n",
    "ylabel(\"| FFT | (dB)\")\n",
    "text(1 / meanCycle + 0.02, 25, \"<== 1/\" * string(meanCycle))\n",
    "legend([\"Fourier transform\", \"1/meanCycle\", \"1/Period\"])\n"
   ]
  }
 ],
 "metadata": {
  "kernelspec": {
   "display_name": "Julia 1.9.3",
   "language": "julia",
   "name": "julia-1.9"
  },
  "language_info": {
   "file_extension": ".jl",
   "mimetype": "application/julia",
   "name": "julia",
   "version": "1.9.3"
  },
  "orig_nbformat": 4
 },
 "nbformat": 4,
 "nbformat_minor": 2
}
