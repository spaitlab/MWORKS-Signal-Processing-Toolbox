{
 "cells": [
  {
   "attachments": {},
   "cell_type": "markdown",
   "metadata": {},
   "source": [
    "4.1.1 通过延迟最早的信号来对齐这些信号"
   ]
  },
  {
   "cell_type": "code",
   "execution_count": 1,
   "metadata": {},
   "outputs": [],
   "source": [
    "# 通过延迟最早的信号来对齐这些信号\n",
    "using Pkg;\n",
    "using TyMath\n",
    "using MAT\n",
    "using TyPlot\n",
    "using TySignalProcessing\n",
    "using TyStatistics"
   ]
  },
  {
   "attachments": {},
   "cell_type": "markdown",
   "metadata": {},
   "source": [
    "计算正弦波的 RMS 值。"
   ]
  },
  {
   "cell_type": "code",
   "execution_count": 2,
   "metadata": {},
   "outputs": [
    {
     "data": {
      "text/plain": [
       "PyObject <objects.mw_text.CXlabel object at 0x000001B8777AB988>"
      ]
     },
     "metadata": {},
     "output_type": "display_data"
    }
   ],
   "source": [
    "matfile1 = matread(\"s1.mat\")\n",
    "# # data = mat_contents[\"openLoopVoltage\"]\n",
    "s1 = matfile1[\"s1\"]\n",
    "matfile2 = matread(\"s2.mat\")\n",
    "s2 = matfile2[\"s2\"]\n",
    "matfile3 = matread(\"s3.mat\")\n",
    "s3 = matfile3[\"s3\"]\n",
    "figure(1)\n",
    "subplot(3, 1, 1)\n",
    "plot(s1, color=:k)\n",
    "ylabel(\"s1\")\n",
    "subplot(3, 1, 2)\n",
    "plot(s2, color=:r)\n",
    "ylabel(\"s2\")\n",
    "subplot(3, 1, 3)\n",
    "plot(s3, color=:b)\n",
    "ylabel(\"s3\")\n",
    "xlabel(\"Samples\")\n"
   ]
  },
  {
   "cell_type": "code",
   "execution_count": 3,
   "metadata": {},
   "outputs": [
    {
     "data": {
      "text/plain": [
       "PyObject <objects.mw_text.CXlabel object at 0x000001B80B1691C8>"
      ]
     },
     "metadata": {},
     "output_type": "display_data"
    }
   ],
   "source": [
    "Xa1, Ya1, D1, = alignsignals(s1, s3)\n",
    "Xa2, Ya2, D2, = alignsignals(s2, s3)\n",
    "\n",
    "figure(2)\n",
    "subplot(3, 1, 1)\n",
    "plot(Xa1, color=:b)\n",
    "ylabel(\"s1\")\n",
    "subplot(3, 1, 2)\n",
    "plot(Xa2, color=:b)\n",
    "ylabel(\"s2\")\n",
    "subplot(3, 1, 3)\n",
    "plot(s3, color=:b)\n",
    "ylabel(\"s3\")\n",
    "xlabel(\"Samples\")\n"
   ]
  },
  {
   "cell_type": "markdown",
   "metadata": {},
   "source": [
    "创建一个周期为 0.1 秒的周期性方波。方波值在−2和2。"
   ]
  }
 ],
 "metadata": {
  "kernelspec": {
   "display_name": "Julia 1.9.3",
   "language": "julia",
   "name": "julia-1.9"
  },
  "language_info": {
   "file_extension": ".jl",
   "mimetype": "application/julia",
   "name": "julia",
   "version": "1.9.3"
  },
  "orig_nbformat": 4,
  "vscode": {
   "interpreter": {
    "hash": "683f87ab08161c4afd4179992aafccaf47b05ca6df2d9977fe9bcc68f334f35e"
   }
  }
 },
 "nbformat": 4,
 "nbformat_minor": 2
}
