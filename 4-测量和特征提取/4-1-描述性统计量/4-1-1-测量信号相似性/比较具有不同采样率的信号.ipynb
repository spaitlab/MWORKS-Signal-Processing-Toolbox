{
 "cells": [
  {
   "cell_type": "code",
   "execution_count": 1,
   "metadata": {},
   "outputs": [
    {
     "data": {
      "text/plain": [
       "PyObject <objects.mw_text.CXlabel object at 0x000001D539B8F508>"
      ]
     },
     "metadata": {},
     "output_type": "display_data"
    }
   ],
   "source": [
    "using Pkg;\n",
    "using TyMath\n",
    "using MAT\n",
    "using TyPlot\n",
    "using TySignalProcessing\n",
    "using TyStatistics\n",
    "\n",
    "matfile1 = matread(\"T1.mat\")\n",
    "T1 = matfile1[\"T1\"]\n",
    "matfile2 = matread(\"T2.mat\")\n",
    "T2 = matfile2[\"T2\"]\n",
    "matfile3 = matread(\"Fs.mat\")\n",
    "Fs = matfile3[\"Fs\"]\n",
    "matfile5 = matread(\"S.mat\")\n",
    "S = matfile5[\"S\"]\n",
    "matfile6 = matread(\"t.mat\")\n",
    "t = matfile6[\"t\"]\n",
    "Fs1 = 4096\n",
    "Fs2 = 4096\n",
    "\n",
    "# Create time vectors for each signal\n",
    "time_T1 = collect(0:length(T1)-1) ./ Fs1\n",
    "time_T2 = collect(0:length(T2)-1) ./ Fs2\n",
    "time_S = collect(0:length(S)-1) ./ Fs\n",
    "\n",
    "subplot(3, 1, 1)\n",
    "plot(time_T1', T1, color=:k)\n",
    "ylabel(\"Template 1\")\n",
    "subplot(3, 1, 2)\n",
    "plot(time_T2', T2, color=:r)\n",
    "ylabel(\"Template 2\")\n",
    "subplot(3, 1, 3)\n",
    "plot(time_S', S, color=:b)\n",
    "ylabel(\"Signal\")\n",
    "xlabel(\"Time (secs)\")\n",
    "\n",
    "# # 以较低的采样率对信号进行重采样\n",
    "# rational_approximation1 = rationalize(Fs / Fs1)\n",
    "# P1 = numerator(rational_approximation1)\n",
    "# Q1 = denominator(rational_approximation1)\n",
    "# rational_approximation2 = rationalize(Fs / Fs2)\n",
    "# P2 = numerator(rational_approximation2)\n",
    "# Q2 = denominator(rational_approximation2)\n",
    "# T1_resampled, = TySignalProcessing.resample(T1, P1, Q1)\n",
    "# T2_resampled, = TySignalProcessing.resample(T2, P2, Q2)\n",
    "\n",
    "# # 计算互相关\n",
    "# C1, =  TyStatistics.xcorr(T1, S)\n",
    "# C2, =  TyStatistics.xcorr(T2, S)\n",
    "\n",
    "# # 计算对应的时延向量\n",
    "# lag1 = collect(-length(T1)+1:length(S))\n",
    "# lag2 = collect(-length(T2)+1:length(S))\n",
    "\n",
    "# figure()\n",
    "# subplot(2, 1, 1)\n",
    "# plot(lag1 ./ Fs, C1, color=:k)\n",
    "# ylabel(\"Amplitude\")\n",
    "# title(\"Cross-Correlation Between Template 1 and Signal\")\n",
    "# subplot(2, 1, 2)\n",
    "# plot(lag2 ./ Fs, C2, color=:rad2deg)\n",
    "# ylabel(\"Amplitude\")\n",
    "# xlabel(\"Time (secs)\")\n",
    "# title(\"Cross-Correlation Between Template 2 and Signal\")"
   ]
  }
 ],
 "metadata": {
  "kernelspec": {
   "display_name": "Julia 1.9.3",
   "language": "julia",
   "name": "julia-1.9"
  },
  "language_info": {
   "file_extension": ".jl",
   "mimetype": "application/julia",
   "name": "julia",
   "version": "1.9.3"
  },
  "orig_nbformat": 4
 },
 "nbformat": 4,
 "nbformat_minor": 2
}
