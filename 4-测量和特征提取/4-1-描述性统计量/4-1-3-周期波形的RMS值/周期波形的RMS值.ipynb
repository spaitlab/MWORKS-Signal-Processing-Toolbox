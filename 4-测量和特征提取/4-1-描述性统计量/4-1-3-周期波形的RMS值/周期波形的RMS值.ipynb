{
 "cells": [
  {
   "attachments": {},
   "cell_type": "markdown",
   "metadata": {},
   "source": [
    "### 4.1.3 常见的周期性波形\n",
    "\n",
    "此示例说明如何使用 求正弦波、方波和矩形脉冲序列的均方根 （RMS） 值。此示例中的波形是连续时间对应波形的离散时间版本。`rms`\n",
    "\n",
    "创建频率为*π*/4rad/sample。信号的长度为 16 个样本，等于正弦波的两个周期。"
   ]
  },
  {
   "cell_type": "code",
   "execution_count": 1,
   "metadata": {},
   "outputs": [
    {
     "data": {
      "text/plain": [
       "16-element Vector{Float64}:\n",
       "  1.0\n",
       "  0.7071067811865476\n",
       "  6.123233995736766e-17\n",
       " -0.7071067811865475\n",
       " -1.0\n",
       " -0.7071067811865477\n",
       " -1.8369701987210297e-16\n",
       "  0.7071067811865474\n",
       "  1.0\n",
       "  0.7071067811865477\n",
       "  3.061616997868383e-16\n",
       " -0.7071067811865467\n",
       " -1.0\n",
       " -0.7071067811865471\n",
       " -4.286263797015736e-16\n",
       "  0.7071067811865466"
      ]
     },
     "metadata": {},
     "output_type": "display_data"
    }
   ],
   "source": [
    "using TyStatistics\n",
    "n = 0:15\n",
    "x = cos.(π / 4 .* n)"
   ]
  },
  {
   "attachments": {},
   "cell_type": "markdown",
   "metadata": {},
   "source": [
    "计算正弦波的 RMS 值。"
   ]
  },
  {
   "cell_type": "code",
   "execution_count": 2,
   "metadata": {},
   "outputs": [
    {
     "data": {
      "text/plain": [
       "0.7071067811865474"
      ]
     },
     "metadata": {},
     "output_type": "display_data"
    }
   ],
   "source": [
    "y = rms(x)"
   ]
  },
  {
   "cell_type": "markdown",
   "metadata": {},
   "source": [
    "创建一个周期为 0.1 秒的周期性方波。方波值在−2和2。"
   ]
  },
  {
   "cell_type": "code",
   "execution_count": 3,
   "metadata": {},
   "outputs": [
    {
     "data": {
      "text/plain": [
       "(0.0, 1.0, -2.5, 2.5)"
      ]
     },
     "metadata": {},
     "output_type": "display_data"
    }
   ],
   "source": [
    "using TySignalProcessing\n",
    "using TyPlot\n",
    "t = 0:0.01:1;\n",
    "x = 2*square(2*pi*10*t);\n",
    "figure()\n",
    "stem(t, x, filled=true)\n",
    "axis([0 1 -2.5 2.5])"
   ]
  },
  {
   "cell_type": "markdown",
   "metadata": {},
   "source": [
    "找到 RMS 值。"
   ]
  },
  {
   "cell_type": "code",
   "execution_count": 4,
   "metadata": {},
   "outputs": [
    {
     "data": {
      "text/plain": [
       "2.0"
      ]
     },
     "metadata": {},
     "output_type": "display_data"
    }
   ],
   "source": [
    "y = rms(x)"
   ]
  },
  {
   "cell_type": "markdown",
   "metadata": {},
   "source": [
    "使用以下参数创建以 1 kHz 采样的矩形脉冲序列：脉冲开启或等于 1，持续 0.025 秒，关闭或等于 0.075 秒，间隔 0.1 秒。这意味着脉冲周期为 0.1 秒，脉冲开启时间为该间隔的 1/4。这称为*占空比*。"
   ]
  },
  {
   "cell_type": "code",
   "execution_count": 5,
   "metadata": {},
   "outputs": [
    {
     "data": {
      "text/plain": [
       "(0.0, 1.0, -0.5, 1.5)"
      ]
     },
     "metadata": {},
     "output_type": "display_data"
    }
   ],
   "source": [
    "using TySignalProcessing\n",
    "using TyPlot\n",
    "t = 0:0.001:1;\n",
    "pulsewidth = 0.025;\n",
    "pulseperiods = 0:0.1:1\n",
    "func = rectpuls;\n",
    "x = pulstran(t, pulseperiods, func, pulsewidth);\n",
    "figure()\n",
    "plot(t, x)\n",
    "axis([0 1 -0.5 1.5])"
   ]
  },
  {
   "cell_type": "markdown",
   "metadata": {},
   "source": [
    "找到 RMS 值，并将其与占空比为 1/4、峰值幅度为 1 的连续时间矩形脉冲波形的 RMS 进行比较。"
   ]
  },
  {
   "cell_type": "code",
   "execution_count": 6,
   "metadata": {},
   "outputs": [
    {
     "data": {
      "text/plain": [
       "0.5007486902122169"
      ]
     },
     "metadata": {},
     "output_type": "display_data"
    }
   ],
   "source": [
    "y = rms(x)"
   ]
  }
 ],
 "metadata": {
  "kernelspec": {
   "display_name": "Julia 1.9.3",
   "language": "julia",
   "name": "julia-1.9"
  },
  "language_info": {
   "file_extension": ".jl",
   "mimetype": "application/julia",
   "name": "julia",
   "version": "1.9.3"
  },
  "orig_nbformat": 4,
  "vscode": {
   "interpreter": {
    "hash": "683f87ab08161c4afd4179992aafccaf47b05ca6df2d9977fe9bcc68f334f35e"
   }
  }
 },
 "nbformat": 4,
 "nbformat_minor": 2
}
