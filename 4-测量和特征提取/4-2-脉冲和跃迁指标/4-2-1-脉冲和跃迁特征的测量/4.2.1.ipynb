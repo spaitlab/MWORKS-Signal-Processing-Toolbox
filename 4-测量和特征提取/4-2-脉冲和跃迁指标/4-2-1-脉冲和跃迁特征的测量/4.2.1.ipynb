{
 "cells": [
  {
   "cell_type": "code",
   "execution_count": 10,
   "metadata": {},
   "outputs": [
    {
     "data": {
      "text/plain": [
       "([0.00039847508365936966, 0.00040244783384699146, 0.0004000262393939391, 0.0004000353934422297], [0.00040190847170173575, 0.0011994687667247527, 0.002001895211185442, 0.0028018934732121237], [0.0008003835553611054, 0.0016019166005717441, 0.002401921450579381, 0.0032019288666543535], 2.3758031651412383)"
      ]
     },
     "metadata": {},
     "output_type": "display_data"
    }
   ],
   "source": [
    "using MAT\n",
    "\n",
    "# 加载 .mat 文件\n",
    "data = matread(\"clocksig.mat\")\n",
    "\n",
    "# 获取变量值\n",
    "clock1 = data[\"clock1\"]\n",
    "clock2 = data[\"clock2\"]\n",
    "time1 = data[\"time1\"]\n",
    "time2 = data[\"time2\"]\n",
    "Fs = data[\"Fs\"]\n",
    "using TySignalProcessing\n",
    "using TyPlot\n",
    "using TyBase\n",
    "using TyStatistics\n",
    "# 绘制时钟信号\n",
    "plot(time1, clock1)\n",
    "xlabel(\"Time (seconds)\")\n",
    "ylabel(\"Voltage\")\n",
    "figure()\n",
    "levelsdata, =statelevels(clock1;plotfig=true)\n",
    "tightlayout()\n",
    "\n",
    "figure()\n",
    "# 绘制另一个时钟信号\n",
    "plot(time2, clock2)\n",
    "xlabel(\"Time (seconds)\")\n",
    "ylabel(\"Voltage\")\n",
    "figure()\n",
    "overshoot(clock2[95:270], Fs; plotfig=true)\n",
    "legend(\"Location\", \"NorthEast\")\n",
    "figure()\n",
    "undershoot(clock2[95:270], Fs; plotfig=true )\n",
    "legend(\"Location\", \"NorthEast\")\n",
    "figure()\n",
    "pulsewidth(clock2, time2; plotfig=true)"
   ]
  }
 ],
 "metadata": {
  "kernelspec": {
   "display_name": "Julia 1.9.3",
   "language": "julia",
   "name": "julia-1.9"
  },
  "language_info": {
   "file_extension": ".jl",
   "mimetype": "application/julia",
   "name": "julia",
   "version": "1.9.3"
  },
  "orig_nbformat": 4
 },
 "nbformat": 4,
 "nbformat_minor": 2
}
