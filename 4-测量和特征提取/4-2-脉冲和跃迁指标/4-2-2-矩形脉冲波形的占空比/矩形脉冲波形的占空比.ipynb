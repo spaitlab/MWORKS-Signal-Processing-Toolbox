{
 "cells": [
  {
   "cell_type": "code",
   "execution_count": 1,
   "metadata": {},
   "outputs": [],
   "source": [
    "using TyPlot\n",
    "using TySignalProcessing\n",
    "using TyMath\n",
    "fs = 1e9\n",
    "t = 0:1/1e9:4e-5\n",
    "d = 0:4e-6:4e-5\n",
    "x = rectpuls(t, 2e-6)\n",
    "y = pulstran(t, d, x, fs)\n",
    "figure(1)\n",
    "plot(t, y)\n",
    "axis([0 4e-5 -0.5 1.5])\n",
    "\n",
    "\n",
    "nwid = 3;\n",
    "\n",
    "for nn = 1:nwid\n",
    "    local x = rectpuls(t, nn * 2e-6)\n",
    "    local y = pulstran(t, d, x, fs)\n",
    "\n",
    "    figure(2)\n",
    "    subplot(nwid, 1, nn)\n",
    "    plot(t, y)\n",
    "    axis([0 4e-5 -0.5 1.5])\n",
    "\n",
    "    D, = dutycycle(y, fs)\n",
    "    duty_cycle = mean(D)\n",
    "    title(\"Duty cycle is $(round(mean(D),digits=2))\")\n",
    "end\n",
    "\n",
    "\n"
   ]
  }
 ],
 "metadata": {
  "kernelspec": {
   "display_name": "Julia 1.9.3",
   "language": "julia",
   "name": "julia-1.9"
  },
  "language_info": {
   "file_extension": ".jl",
   "mimetype": "application/julia",
   "name": "julia",
   "version": "1.9.3"
  },
  "orig_nbformat": 4
 },
 "nbformat": 4,
 "nbformat_minor": 2
}
