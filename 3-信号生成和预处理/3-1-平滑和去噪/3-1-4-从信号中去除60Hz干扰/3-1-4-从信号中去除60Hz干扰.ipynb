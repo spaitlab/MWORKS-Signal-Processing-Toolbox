{
 "cells": [
  {
   "cell_type": "code",
   "execution_count": 1,
   "metadata": {},
   "outputs": [
    {
     "data": {
      "text/plain": [
       "PyObject <objects.mw_legend.CLegend object at 0x0000020B5437FD48>"
      ]
     },
     "metadata": {},
     "output_type": "display_data"
    }
   ],
   "source": [
    "using DSP \n",
    "using TyPlot \n",
    "using MAT \n",
    "using TySignalProcessing\n",
    "using TyMath\n",
    "# 读取 MAT 文件 \n",
    "mat_contents = matread(\"openloop60hertz.mat\") \n",
    "openLoop = mat_contents[\"openLoopVoltage\"] \n",
    "# 采样频率 \n",
    "Fs = 1000 \n",
    "# 时间向量 \n",
    "t = (0:length(openLoop)-1) / Fs \n",
    "# 绘制原始数据\n",
    "figure() \n",
    "plot(t, openLoop)\n",
    "ylabel(\"Voltage (V)\")\n",
    "xlabel(\"Time (s)\")\n",
    "title(\"Open-Loop Voltage with 60 Hz Noise\")\n",
    "\n",
    "# 设计带阻滤波器 \n",
    "# d = design(BandstopFilter(Butterworth(2), 59, 61), Fs=Fs) \n",
    "b,a = butter(2,[0.118,0.122],\"bandstop\")\n",
    "TySignalProcessing.freqz(b, a; plotfig = true)\n",
    "\n",
    "# 可视化滤波器 \n",
    "buttLoop = TySignalProcessing.filtfilt(b, a, openLoop) \n",
    "figure()\n",
    "plot(t, openLoop, t, buttLoop)\n",
    "ylabel(\"Voltage (V)\")\n",
    "xlabel(\"Time (s)\")\n",
    "title(\"Open-Loop Voltage\")\n",
    "legend(\"Unfiltered\", \"Filtered\")\n",
    "popen, fopen = TySignalProcessing.periodogram(openLoop; nargout = 2) \n",
    "pbutt, fbutt = TySignalProcessing.periodogram(buttLoop; nargout = 2)\n",
    "figure()\n",
    "plot(fopen, 20*log10.(abs.(popen)), fbutt, 20*log10.(abs.(pbutt)))\n",
    "ylabel(\"Power/frequency (dB/Hz)\")\n",
    "xlabel(\"Frequency (Hz)\")\n",
    "title(\"Power Spectrum\")\n",
    "legend(\"Unfiltered\", \"Filtered\")"
   ]
  }
 ],
 "metadata": {
  "kernelspec": {
   "display_name": "Julia 1.9.3",
   "language": "julia",
   "name": "julia-1.9"
  },
  "language_info": {
   "file_extension": ".jl",
   "mimetype": "application/julia",
   "name": "julia",
   "version": "1.9.3"
  },
  "orig_nbformat": 4
 },
 "nbformat": 4,
 "nbformat_minor": 2
}
