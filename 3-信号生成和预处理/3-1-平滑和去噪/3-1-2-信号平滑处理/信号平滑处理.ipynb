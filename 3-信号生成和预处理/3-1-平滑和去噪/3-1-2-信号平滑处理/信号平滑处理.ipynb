{
 "cells": [
  {
   "cell_type": "code",
   "execution_count": null,
   "metadata": {},
   "outputs": [],
   "source": [
    "using MAT\n",
    "using TyCurveFitting\n",
    "# using Plots\n",
    "using TyPlot\n",
    "using TySignalProcessing\n",
    "using TyMath"
   ]
  },
  {
   "cell_type": "code",
   "execution_count": 2,
   "metadata": {},
   "outputs": [
    {
     "data": {
      "text/plain": [
       "744×1 Matrix{Float64}:\n",
       " -2.2\n",
       " -2.8\n",
       " -2.8\n",
       " -2.8\n",
       " -2.8\n",
       " -2.8\n",
       " -2.8\n",
       " -2.8\n",
       " -2.2\n",
       " -1.1\n",
       "  ⋮\n",
       " -1.7\n",
       " -2.2\n",
       " -2.8\n",
       " -2.8\n",
       " -3.3\n",
       " -3.9\n",
       " -3.9\n",
       " -3.9\n",
       " -4.0"
      ]
     },
     "metadata": {},
     "output_type": "display_data"
    }
   ],
   "source": [
    "# Load data from the bostemp.mat file\n",
    "matfile = matread(\"bostemp.mat\")\n",
    "tempC = matfile[\"tempC\"]"
   ]
  },
  {
   "cell_type": "code",
   "execution_count": 3,
   "metadata": {},
   "outputs": [
    {
     "data": {
      "text/plain": [
       "PyObject <objects.mw_text.CTitle object at 0x00000242CDDC4EC8>"
      ]
     },
     "metadata": {},
     "output_type": "display_data"
    }
   ],
   "source": [
    "# 数据读取\n",
    "days = collect(1:31*24) ./ 24\n",
    "\n",
    "# Plot the original temperature data\n",
    "figure(1)\n",
    "TyPlot.plot(days, tempC)\n",
    "xlabel(\"Time elapsed from Jan 1, 2011 (days)\")\n",
    "ylabel(\"Temp (°C)\")\n",
    "title(\"Logan Airport Dry Bulb Temperature (source: NOAA)\")"
   ]
  },
  {
   "cell_type": "code",
   "execution_count": 4,
   "metadata": {},
   "outputs": [
    {
     "data": {
      "text/plain": [
       "PyObject <objects.mw_text.CTitle object at 0x00000242EB320848>"
      ]
     },
     "metadata": {},
     "output_type": "display_data"
    }
   ],
   "source": [
    "# 一种移动平均滤波器\n",
    "hoursPerDay = 24;\n",
    "b = (1 / hoursPerDay) * ones(1, hoursPerDay);\n",
    "a = 1;\n",
    "# y1, y2 = filter1(b', a, tempC)\n",
    "y1, y2 = filter1(b', a, tempC)\n",
    "\n",
    "figure(2)\n",
    "TyPlot.plot(days, tempC)\n",
    "hold(\"on\")\n",
    "TyPlot.plot(days, y1)\n",
    "legend([\"Hourly Temp\", \"24 Hour Average (delayed)\"])\n",
    "ylabel(\"Temp(°C)\")\n",
    "xlabel(\"Time elapsed from Jan 1, 2011 (days)\")\n",
    "title(\"Logan Airport Dry Bulb Temperature (source: NOAA)\")"
   ]
  },
  {
   "cell_type": "code",
   "execution_count": 5,
   "metadata": {},
   "outputs": [
    {
     "data": {
      "text/plain": [
       "PyObject <objects.mw_legend.CLegend object at 0x00000242FE218A48>"
      ]
     },
     "metadata": {},
     "output_type": "display_data"
    }
   ],
   "source": [
    "# 滤波器延迟\n",
    "avg24hTempC = smooth(tempC, hoursPerDay);\n",
    "fDelay = (hoursPerDay - 1) ./ 2;\n",
    "figure(3)\n",
    "TyPlot.plot(days, tempC)\n",
    "hold(\"on\")\n",
    "TyPlot.plot(days .- (fDelay / 24), avg24hTempC)\n",
    "ylabel(\"Temp (°C)\")\n",
    "xlabel(\"Time elapsed from Jan 1, 2011 (days)\")\n",
    "title(\"Logan Airport Dry Bulb Temperature (source: NOAA)\")\n",
    "legend([\"Hourly Temp\", \"24 Hour Average\"])"
   ]
  },
  {
   "cell_type": "code",
   "execution_count": 6,
   "metadata": {},
   "outputs": [
    {
     "data": {
      "text/plain": [
       "PyObject <objects.mw_text.CTitle object at 0x0000024283A9C2C8>"
      ]
     },
     "metadata": {},
     "output_type": "display_data"
    }
   ],
   "source": [
    "# 提取平均差异\n",
    "hours = collect(1:24)\n",
    "deltaTempC = tempC - avg24hTempC\n",
    "deltaTempC = reshape(deltaTempC, 24, 31)'\n",
    "\n",
    "meanDeltaTempC = mean(deltaTempC, dims=1)'\n",
    "figure(4)\n",
    "TyPlot.plot(hours, meanDeltaTempC)\n",
    "ylabel(\"Temperature difference (°C)\")\n",
    "xlabel(\"Hour of day (since midnight)\")\n",
    "title(\"Mean temperature differential from 24 hour average\")\n"
   ]
  },
  {
   "cell_type": "code",
   "execution_count": 7,
   "metadata": {},
   "outputs": [
    {
     "data": {
      "text/plain": [
       "PyObject <objects.mw_text.CTitle object at 0x0000024288FC4448>"
      ]
     },
     "metadata": {},
     "output_type": "display_data"
    }
   ],
   "source": [
    "# 提取峰值包络\n",
    "envHigh, envLow = envelope(tempC, 20, \"peak\")\n",
    "envMean = (envHigh + envLow) / 2\n",
    "figure(5)\n",
    "TyPlot.plot(days, tempC)\n",
    "hold(\"on\")\n",
    "TyPlot.plot(days, envHigh)\n",
    "hold(\"on\")\n",
    "TyPlot.plot(days, envMean)\n",
    "hold(\"on\")\n",
    "TyPlot.plot(days, envLow)\n",
    "legend(\"Hourly Temp\", \"High\", \"Mean\", \"Low\")\n",
    "ylabel(\"Temp(°C)\")\n",
    "xlabel(\"Time elapsed from Jan 1, 2011 (days)\")\n",
    "title(\"Logan Airport Dry Bulb Temperature (source: NOAA)\")"
   ]
  },
  {
   "cell_type": "code",
   "execution_count": 8,
   "metadata": {},
   "outputs": [
    {
     "data": {
      "text/plain": [
       "PyObject <objects.mw_text.CTitle object at 0x000002428A575CC8>"
      ]
     },
     "metadata": {},
     "output_type": "display_data"
    }
   ],
   "source": [
    "# 加权移动平均滤波器\n",
    "h = [1 / 2, 1 / 2];\n",
    "binomialCoeff = TyMath.conv(h, h);\n",
    "for n = 1:4\n",
    "    global binomialCoeff = TyMath.conv(binomialCoeff, h)\n",
    "end\n",
    "fDelay = (length(binomialCoeff) - 1) / 2;\n",
    "y3, y4 = filter1(binomialCoeff, a, tempC)\n",
    "figure(6)\n",
    "TyPlot.plot(days, tempC)\n",
    "hold(\"on\")\n",
    "TyPlot.plot(days .- fDelay / 24, y3)\n",
    "legend(\"Hourly Temp\", \"Binomial Weighted Average\")\n",
    "ylabel(\"Temp(°C)\")\n",
    "xlabel(\"Time elapsed from Jan 1, 2011 (days)\")\n",
    "title(\"Logan Airport Dry Bulb Temperature (source: NOAA)\")\n",
    "\n",
    "alpha = 0.45;\n",
    "y5, y6 = filter1(alpha, [1 alpha - 1], tempC);\n",
    "figure(7)\n",
    "TyPlot.plot(days, tempC)\n",
    "hold(\"on\")\n",
    "TyPlot.plot(days .- fDelay / 24, y3)\n",
    "hold(\"on\")\n",
    "TyPlot.plot(days .- 1 / 24, y5)\n",
    "legend(\"Hourly Temp\", \"Binomial Weighted Average\", \"Exponential Weighted Average\")\n",
    "ylabel(\"Temp(°C)\")\n",
    "xlabel(\"Time elapsed from Jan 1, 2011 (days)\")\n",
    "title(\"Logan Airport Dry Bulb Temperature (source: NOAA)\")\n",
    "\n",
    "alpha = 0.45;\n",
    "y5, y6 = filter1(alpha, [1 alpha - 1], tempC);\n",
    "figure(8)\n",
    "TyPlot.plot(days, tempC)\n",
    "hold(\"on\")\n",
    "TyPlot.plot(days .- fDelay / 24, y3)\n",
    "hold(\"on\")\n",
    "TyPlot.plot(days .- 1 / 24, y5)\n",
    "axis([3 4 -5 2])\n",
    "legend(\"Hourly Temp\", \"Binomial Weighted Average\", \"Exponential Weighted Average\")\n",
    "ylabel(\"Temp(°C)\")\n",
    "xlabel(\"Time elapsed from Jan 1, 2011 (days)\")\n",
    "title(\"Logan Airport Dry Bulb Temperature (source: NOAA)\")"
   ]
  },
  {
   "cell_type": "code",
   "execution_count": 9,
   "metadata": {},
   "outputs": [
    {
     "data": {
      "text/plain": [
       "PyObject <objects.mw_text.CTitle object at 0x000002428A489048>"
      ]
     },
     "metadata": {},
     "output_type": "display_data"
    }
   ],
   "source": [
    "# 萨维茨基-戈雷滤波器\n",
    "cubicMA = sgolayfilt(tempC, 3, 7);\n",
    "quarticMA = sgolayfilt(tempC, 4, 7);\n",
    "quinticMA = sgolayfilt(tempC, 5, 9);\n",
    "\n",
    "figure(9)\n",
    "TyPlot.plot(days, tempC)\n",
    "hold(\"on\")\n",
    "TyPlot.plot(days, cubicMA)\n",
    "hold(\"on\")\n",
    "TyPlot.plot(days, quarticMA)\n",
    "hold(\"on\")\n",
    "TyPlot.plot(days, quinticMA)\n",
    "axis([3 5 -5 2])\n",
    "legend(\"Hourly Temp\", \"Cubic-Weighted MA\", \"Quartic-Weighted MA\", \"Quintic-Weighted MA\")\n",
    "ylabel(\"Temp(°C)\")\n",
    "xlabel(\"Time elapsed from Jan 1, 2011 (days)\")\n",
    "title(\"Logan Airport Dry Bulb Temperature (source: NOAA)\")"
   ]
  },
  {
   "cell_type": "code",
   "execution_count": 10,
   "metadata": {},
   "outputs": [
    {
     "data": {
      "text/plain": [
       "PyObject <objects.mw_legend.CLegend object at 0x000002430B557CC8>"
      ]
     },
     "metadata": {},
     "output_type": "display_data"
    }
   ],
   "source": [
    "# 重采样\n",
    "matfile1 = matread(\"openloop60hertz.mat\")\n",
    "openLoopVoltage = matfile1[\"openLoopVoltage\"]\n",
    "\n",
    "fs = 1000;\n",
    "t = (0:length(openLoopVoltage)-1) / fs;\n",
    "figure(10)\n",
    "TyPlot.plot(t, openLoopVoltage)\n",
    "ylabel(\"Voltage (V)\")\n",
    "xlabel(\"Time (s)\")\n",
    "title(\"Open-loop Voltage Measurement\")\n",
    "\n",
    "figure(11)\n",
    "TyPlot.plot(t, sgolayfilt(openLoopVoltage, 1, 17))\n",
    "ylabel(\"Voltage (V)\")\n",
    "xlabel(\"Time (s)\")\n",
    "title(\"Open-loop Voltage Measurement\")\n",
    "legend(\"Moving average filter operating at 58.82 Hz\")\n",
    "\n",
    "fsResamp = 1020;\n",
    "vResamp, = resample(openLoopVoltage, fsResamp, fs)\n",
    "tResamp = (0:length(vResamp)-1) / fsResamp;\n",
    "vAvgResamp = sgolayfilt(vResamp, 1, 17);\n",
    "figure(12)\n",
    "plot(tResamp, vAvgResamp)\n",
    "ylabel(\"Voltage (V)\")\n",
    "xlabel(\"Time (s)\")\n",
    "title(\"Open-loop Voltage Measurement\")\n",
    "legend(\"Moving average filter operating at 60 Hz\")"
   ]
  },
  {
   "cell_type": "code",
   "execution_count": 11,
   "metadata": {},
   "outputs": [],
   "source": []
  },
  {
   "cell_type": "markdown",
   "metadata": {},
   "source": []
  },
  {
   "cell_type": "code",
   "execution_count": 16,
   "metadata": {},
   "outputs": [
    {
     "data": {
      "text/plain": [
       "PyObject <objects.mw_legend.CLegend object at 0x000002430B542448>"
      ]
     },
     "metadata": {},
     "output_type": "display_data"
    }
   ],
   "source": [
    "# 中位数滤波器\n",
    "matfile = matread(\"x.mat\")\n",
    "x = matfile[\"x\"]\n",
    "matfile = matread(\"t1.mat\")\n",
    "t = matfile[\"t\"]\n",
    "yMovingAverage = TyMath.conv(vec(x), ones(5) ./ 5, \"same\")\n",
    "ySavitzkyGolay = sgolayfilt(x, 3, 5)\n",
    "figure(13)\n",
    "TyPlot.plot(t, x)\n",
    "hold(\"on\")\n",
    "TyPlot.plot(t, yMovingAverage)\n",
    "hold(\"on\")\n",
    "TyPlot.plot(t, ySavitzkyGolay)\n",
    "legend([\"original signal\", \"moving average\", \"Savitzky-Golay\"])\n",
    "\n",
    "yMedFilt = medfilt1(x, 5)\n",
    "figure(14)\n",
    "TyPlot.plot(t, x)\n",
    "hold(\"on\")\n",
    "TyPlot.plot(t, yMedFilt)\n",
    "legend([\"original signal\", \"Median filter\"])"
   ]
  },
  {
   "cell_type": "code",
   "execution_count": 18,
   "metadata": {},
   "outputs": [
    {
     "data": {
      "text/plain": [
       "PyObject <objects.mw_legend.CLegend object at 0x000002431F6C25C8>"
      ]
     },
     "metadata": {},
     "output_type": "display_data"
    }
   ],
   "source": [
    "# 通过汉佩尔滤波器去除离群值\n",
    "matfile2 = matread(\"y.mat\")\n",
    "y = matfile2[\"y\"]\n",
    "y[1:400:end] .= 2.1;\n",
    "figure(15)\n",
    "plot(y)\n",
    "\n",
    "figure(16)\n",
    "plot(y)\n",
    "hold(\"on\")\n",
    "plot(medfilt1(y, 3))\n",
    "legend(\"original signal\", \"filtered signal\")\n",
    "\n",
    "\n",
    "Hampely, = hampel(y, 13)\n",
    "figure(17)\n",
    "plot(y, \"*-\")\n",
    "hold(\"on\")\n",
    "plot(Hampely)\n",
    "legend(\"original signal\", \"filtered signal\")\n",
    "\n",
    "\n"
   ]
  }
 ],
 "metadata": {
  "kernelspec": {
   "display_name": "Julia 1.9.3",
   "language": "julia",
   "name": "julia-1.9"
  },
  "language_info": {
   "file_extension": ".jl",
   "mimetype": "application/julia",
   "name": "julia",
   "version": "1.9.3"
  },
  "orig_nbformat": 4
 },
 "nbformat": 4,
 "nbformat_minor": 2
}
