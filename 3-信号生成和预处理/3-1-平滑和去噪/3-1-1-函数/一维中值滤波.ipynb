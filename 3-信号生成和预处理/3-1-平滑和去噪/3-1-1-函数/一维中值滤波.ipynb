{
 "cells": [
  {
   "cell_type": "code",
   "execution_count": 1,
   "metadata": {},
   "outputs": [
    {
     "data": {
      "text/plain": [
       "PyObject <objects.mw_legend.CLegend object at 0x0000021AC1CCE648>"
      ]
     },
     "metadata": {},
     "output_type": "display_data"
    }
   ],
   "source": [
    "using TyPlot\n",
    "using TySignalProcessing\n",
    "fs = 100\n",
    "t = 0:1/fs:1-1/fs\n",
    "x = sin.(2*pi*t*3)+0.25*sin.(2*pi*t*40)\n",
    "y = medfilt1(x,10)\n",
    "plot(t,x,t,y)\n",
    "legend([\"Original\",\"Filtered\"])"
   ]
  }
 ],
 "metadata": {
  "kernelspec": {
   "display_name": "Julia 1.9.3",
   "language": "julia",
   "name": "julia-1.9"
  },
  "language_info": {
   "file_extension": ".jl",
   "mimetype": "application/julia",
   "name": "julia",
   "version": "1.9.3"
  },
  "orig_nbformat": 4
 },
 "nbformat": 4,
 "nbformat_minor": 2
}
