{
 "cells": [
  {
   "attachments": {},
   "cell_type": "markdown",
   "metadata": {},
   "source": [
    "# 信号处理仿真与应用-MWorks版-案例\n",
    "\n",
    "# 第3章 信号生成和预处理\n",
    "\n",
    "## 3.1 平滑和去噪\n",
    "\n",
    "### 3.1.5 去除信号中的峰值\n",
    "\n",
    "去除信号中的峰值\n",
    "有时数据会出现不必要的瞬变（即峰值），中位数滤波是消除它的好方法。\n",
    "参考下面2段Matlab实现的代码，给出Julia实现代码:\n",
    "\n",
    "**Julia**\n",
    "\n",
    "在存在 60 Hz 电力线噪声的情况下，研究模拟仪器的输入的开环电压。电压采样频率为 1 kHz。"
   ]
  },
  {
   "cell_type": "code",
   "execution_count": 4,
   "metadata": {},
   "outputs": [
    {
     "data": {
      "text/plain": [
       "0.0:0.001:1.999"
      ]
     },
     "metadata": {},
     "output_type": "display_data"
    }
   ],
   "source": [
    "using DelimitedFiles\n",
    "using Statistics\n",
    "using MAT \n",
    "using Random\n",
    "using TyPlot\n",
    "using TySignalProcessing\n",
    "\n",
    "# Load openloop60hertz data\n",
    "mat_contents = matread(\"openloop60hertz.mat\") \n",
    "openLoopVoltage = mat_contents[\"openLoopVoltage\"] \n",
    "\n",
    "fs = 1000\n",
    "t = (0:size(openLoopVoltage, 1) - 1) / fs"
   ]
  },
  {
   "attachments": {},
   "cell_type": "markdown",
   "metadata": {},
   "source": [
    "通过在随机点添加随机符号以加入瞬变以破坏信号。重置随机数生成器以获得可再现性。"
   ]
  },
  {
   "cell_type": "code",
   "execution_count": 5,
   "metadata": {},
   "outputs": [
    {
     "data": {
      "text/plain": [
       "(-9.74799406669184, -6.421501039078208)"
      ]
     },
     "metadata": {},
     "output_type": "display_data"
    }
   ],
   "source": [
    "Random.seed!(123) # Set random seed for reproducibility\n",
    "\n",
    "spikeSignal = zeros(size(openLoopVoltage))\n",
    "spks = 10:100:1990\n",
    "spikeSignal[spks .+ round.(Int, 2 .* randn(length(spks)))] .= sign.(randn(length(spks)))\n",
    "\n",
    "noisyLoopVoltage = openLoopVoltage .+ spikeSignal\n",
    "\n",
    "figure()\n",
    "plot(t, noisyLoopVoltage)\n",
    "xlabel(\"Time (s)\")\n",
    "ylabel(\"Voltage (V)\")\n",
    "title(\"Open-Loop Voltage with Added Spikes\")\n",
    "yax = ylim()"
   ]
  },
  {
   "attachments": {},
   "cell_type": "markdown",
   "metadata": {},
   "source": [
    "函数 `medfilt1` 将信号的每个点替换为该点和指定数量的邻点的中位数。因此，中位数滤波会丢弃与其周围环境相差很大的点。通过使用三个邻点的集合计算中位数来对信号进行滤波。注意峰值是如何消失的。"
   ]
  },
  {
   "cell_type": "code",
   "execution_count": 6,
   "metadata": {},
   "outputs": [],
   "source": [
    "medfiltLoopVoltage = medfilt1(noisyLoopVoltage, 3)\n",
    "figure()\n",
    "plot(t, medfiltLoopVoltage)\n",
    "xlabel(\"Time (s)\")\n",
    "ylabel(\"Voltage (V)\")\n",
    "title(\"Open-Loop Voltage After Median Filtering\")\n",
    "ylim(yax)\n",
    "grid(true)"
   ]
  }
 ],
 "metadata": {
  "kernelspec": {
   "display_name": "Julia 1.9.3",
   "language": "julia",
   "name": "julia-1.9"
  },
  "language_info": {
   "file_extension": ".jl",
   "mimetype": "application/julia",
   "name": "julia",
   "version": "1.9.3"
  },
  "orig_nbformat": 4
 },
 "nbformat": 4,
 "nbformat_minor": 2
}
