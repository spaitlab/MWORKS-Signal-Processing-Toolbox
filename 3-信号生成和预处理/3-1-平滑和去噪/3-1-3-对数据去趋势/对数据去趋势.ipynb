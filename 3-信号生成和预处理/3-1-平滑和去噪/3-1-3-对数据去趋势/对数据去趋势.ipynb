{
 "cells": [
  {
   "cell_type": "code",
   "execution_count": 1,
   "metadata": {},
   "outputs": [
    {
     "data": {
      "text/plain": [
       "PyObject <objects.mw_text.CXlabel object at 0x000001952593CF48>"
      ]
     },
     "metadata": {},
     "output_type": "display_data"
    }
   ],
   "source": [
    "using Statistics\n",
    "using TyPlot\n",
    "using TyMath\n",
    "using MAT\n",
    "\n",
    "# 加载 .mat 文件\n",
    "data = matread(\"ecgSignals.mat\")\n",
    "\n",
    "# 获取变量值\n",
    "ecgl = data[\"ecgl\"]\n",
    "ecgnl = data[\"ecgnl\"]\n",
    "\n",
    "t = collect(1:length(ecgl))\n",
    "\n",
    "subplot(2,2,1)\n",
    "plot(t,ecgl)\n",
    "title(\"ECG Signals with Trends\");ylabel(\"Voltage (mV)\")\n",
    "subplot(2,2,3)\n",
    "plot(t, ecgnl)\n",
    "xlabel(\"sample\");ylabel(\"Voltage (mV)\")\n",
    "dt_ecgl = detrend(ecgl)\n",
    "opol = 6\n",
    "p,s,mu  = polyfit(t, ecgnl[:, 1], opol;normalize=true)\n",
    "f_y = polyval(p,t,[],mu);\n",
    "\n",
    "dt_ecgnl = ecgnl.- f_y\n",
    "\n",
    "subplot(2,2,2)\n",
    "plot(t, dt_ecgl)\n",
    "title(\"Detrended ECG Signals\")\n",
    "subplot(2,2,4)\n",
    "plot(t, dt_ecgnl)\n",
    "xlabel(\"sample\")"
   ]
  }
 ],
 "metadata": {
  "kernelspec": {
   "display_name": "Julia 1.9.3",
   "language": "julia",
   "name": "julia-1.9"
  },
  "language_info": {
   "file_extension": ".jl",
   "mimetype": "application/julia",
   "name": "julia",
   "version": "1.9.3"
  },
  "orig_nbformat": 4
 },
 "nbformat": 4,
 "nbformat_minor": 2
}
