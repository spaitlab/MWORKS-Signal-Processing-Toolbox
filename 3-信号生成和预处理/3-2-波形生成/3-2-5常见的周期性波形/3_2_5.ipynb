{
 "cells": [
  {
   "attachments": {},
   "cell_type": "markdown",
   "metadata": {},
   "source": [
    "### 3.2.5 常见的周期性波形\n",
    "\n",
    "借助TySignalProcessing，可以生成常见的周期性波形。\n",
    "+ y = sawtooth(t) 为时间数组 t 的元素生成周期为 2π 的锯齿波。 锯齿波与正弦函数类似，但会产生峰值为 –1 和 1 的锯齿波。锯齿波定义为 –1 在 2π 的倍数处，并在所有其他时间以 1/π 的斜率随时间线性增加 。\n",
    "+ y = square(t) 为时间数组 t 的元素生成一个周期为 2π 的方波。square 类似于正弦函数，但会创建值为 –1 和 1 的方波。\n",
    "1. 生成10个周期的基本频率为 50 Hz 的锯齿波。 采样率为 1 kHz。"
   ]
  },
  {
   "cell_type": "code",
   "execution_count": 1,
   "metadata": {},
   "outputs": [],
   "source": [
    "using TySignalProcessing\n",
    "using TyPlot\n",
    "T = 10*(1/50)\n",
    "fs = 1000\n",
    "t = 0:1/fs:T-1/fs\n",
    "y = sawtooth(2*pi*50*t)\n",
    "plot(t,y)\n",
    "grid()"
   ]
  },
  {
   "attachments": {},
   "cell_type": "markdown",
   "metadata": {},
   "source": [
    "2. 生成10个周期的基本频率为 50 Hz 的方波。 采样率为 1 kHz。"
   ]
  },
  {
   "cell_type": "code",
   "execution_count": null,
   "metadata": {},
   "outputs": [],
   "source": [
    "using TySignalProcessing\n",
    "using TyPlot\n",
    "T = 10*(1/50)\n",
    "fs = 1000\n",
    "t = 0:1/fs:T-1/fs\n",
    "y = square(2*pi*50*t)\n",
    "plot(t,y)\n",
    "grid()"
   ]
  },
  {
   "cell_type": "markdown",
   "metadata": {},
   "source": [
    "+ d ＝ dutycycle(x) 返回每个正极性脉冲的脉冲宽度与脉冲周期的比率。"
   ]
  },
  {
   "cell_type": "code",
   "execution_count": null,
   "metadata": {},
   "outputs": [],
   "source": [
    "using TySignalProcessing\n",
    "using TyPlot\n",
    "T = 10*(1/50)\n",
    "fs = 1000\n",
    "t = 0:1/fs:T-1/fs\n",
    "y = square(2*pi*50*t)\n",
    "plot(t,y)\n",
    "grid()\n",
    "dc = dutycycle(y, fs; plotfig=true);"
   ]
  }
 ],
 "metadata": {
  "kernelspec": {
   "display_name": "Julia 1.9.3",
   "language": "julia",
   "name": "julia-1.9"
  },
  "language_info": {
   "file_extension": ".jl",
   "mimetype": "application/julia",
   "name": "julia",
   "version": "1.9.3"
  },
  "orig_nbformat": 4,
  "vscode": {
   "interpreter": {
    "hash": "683f87ab08161c4afd4179992aafccaf47b05ca6df2d9977fe9bcc68f334f35e"
   }
  }
 },
 "nbformat": 4,
 "nbformat_minor": 2
}
