{
 "cells": [
  {
   "cell_type": "code",
   "execution_count": 1,
   "metadata": {},
   "outputs": [],
   "source": [
    "\n",
    "Fs = 15;\n",
    "Ts = 1/Fs;\n",
    "ts = 0:Ts:1;\n",
    "tl = range(0, stop=1, length=15);\n",
    "sf = 1/(tl[2] - tl[1]);\n",
    "TL = (0:length(tl)-1) ./ sf;\n",
    "ErrorTL = maximum(abs.(tl .- TL))\n",
    "lts = length(ts);\n",
    "TS = range(ts[1], stop=ts[lts], length=lts);\n",
    "ErrorTS = maximum(abs.(ts .- TS))\n",
    "tcol = tl';\n",
    "ttrans = ts';"
   ]
  }
 ],
 "metadata": {
  "kernelspec": {
   "display_name": "Julia 1.9.3",
   "language": "julia",
   "name": "julia-1.9"
  },
  "language_info": {
   "file_extension": ".jl",
   "mimetype": "application/julia",
   "name": "julia",
   "version": "1.9.3"
  },
  "orig_nbformat": 4
 },
 "nbformat": 4,
 "nbformat_minor": 2
}
