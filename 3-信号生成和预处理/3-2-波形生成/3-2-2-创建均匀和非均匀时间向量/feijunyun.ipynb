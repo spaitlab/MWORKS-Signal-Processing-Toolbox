{
 "cells": [
  {
   "cell_type": "code",
   "execution_count": 1,
   "metadata": {},
   "outputs": [
    {
     "data": {
      "text/plain": [
       "2-element Vector{PyCall.PyObject}:\n",
       " PyObject <matplotlib.lines.Line2D object at 0x0000022CADEB73C8>\n",
       " PyObject <matplotlib.lines.Line2D object at 0x0000022CA7892448>"
      ]
     },
     "metadata": {},
     "output_type": "display_data"
    }
   ],
   "source": [
    "using TySignalProcessing\n",
    "using TyPlot\n",
    "# 设置快速采样频率\n",
    "Ffast = 100\n",
    "# 计算快速采样的时间间隔\n",
    "Tf = 1 / Ffast\n",
    "# 设置慢速采样的点数\n",
    "Nslow = 5\n",
    "tdisc = [range(0, 1, length=Nslow); range(1, stop=2 - Tf, step=Tf); range(2, 3, length=Nslow)]'\n",
    "res, = gauspuls(tdisc .- 1.5, 5, 0.4)\n",
    "Tcont = range(0, 3, 20001)'\n",
    "re, = gauspuls(Tcont .- 1.5, 5, 0.4)\n",
    "plot(Tcont, re, \"#00FF00\", tdisc, res, \"c*\")"
   ]
  }
 ],
 "metadata": {
  "kernelspec": {
   "display_name": "Julia 1.9.3",
   "language": "julia",
   "name": "julia-1.9"
  },
  "language_info": {
   "file_extension": ".jl",
   "mimetype": "application/julia",
   "name": "julia",
   "version": "1.9.3"
  },
  "orig_nbformat": 4
 },
 "nbformat": 4,
 "nbformat_minor": 2
}
