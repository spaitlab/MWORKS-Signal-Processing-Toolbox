{
 "cells": [
  {
   "attachments": {},
   "cell_type": "markdown",
   "metadata": {},
   "source": [
    "# 信号处理仿真与应用-MWorks版-案例\n",
    "\n",
    "# 第3章 信号生成和预处理\n",
    "\n",
    "## 3.2\n",
    "\n",
    "### 3.2.8 sinc函数\n",
    "\n",
    "语法如下：\n",
    "\n",
    "y = sinc(x)\n",
    "\n",
    "说明：y = sinc(x) 返回一个数组 y，其元素是输入 x 的元素的 sinc 函数值。 输出 y 的大小与 x 相同。\n",
    "\n",
    "示例：理想带限插值，对以整数间隔采样的随机信号执行理想的带限插值。假设要插值的信号x在给定时间间隔之外为0，并且已在奈奎斯特频率下采样。重置随机数生成器以提高重现性。"
   ]
  },
  {
   "cell_type": "code",
   "execution_count": 1,
   "metadata": {},
   "outputs": [
    {
     "data": {
      "text/plain": [
       "PyObject <objects.mw_legend.CLegend object at 0x000001E691827A88>"
      ]
     },
     "metadata": {},
     "output_type": "display_data"
    }
   ],
   "source": [
    "using TyPlot\n",
    "using TySignalProcessing\n",
    "using TyMath\n",
    "using TyBase\n",
    "rng = MT19937ar(5489)\n",
    "t = 1:10\n",
    "x = randn(rng,size(t))\n",
    "ts = LinRange(-5, 15, 600)\n",
    "Ts, T = ndgrid(ts, t)\n",
    "y = sinc(Ts - T) * x\n",
    "plot(t, x, \"o\", ts, y)\n",
    "xlabel(\"Time\")\n",
    "ylabel(\"Signal\")\n",
    "legend([\"Sampled\", \"Interpolated\"])"
   ]
  }
 ],
 "metadata": {
  "kernelspec": {
   "display_name": "Julia 1.9.3",
   "language": "julia",
   "name": "julia-1.9"
  },
  "language_info": {
   "file_extension": ".jl",
   "mimetype": "application/julia",
   "name": "julia",
   "version": "1.9.3"
  },
  "orig_nbformat": 4,
  "vscode": {
   "interpreter": {
    "hash": "683f87ab08161c4afd4179992aafccaf47b05ca6df2d9977fe9bcc68f334f35e"
   }
  }
 },
 "nbformat": 4,
 "nbformat_minor": 2
}
