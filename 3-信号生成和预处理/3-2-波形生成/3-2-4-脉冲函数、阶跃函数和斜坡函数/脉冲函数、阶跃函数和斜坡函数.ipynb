{
 "cells": [
  {
   "attachments": {
    "image.png": {
     "image/png": "[encoded data removed]"
    }
   },
   "cell_type": "markdown",
   "metadata": {},
   "source": [
    "# 信号处理仿真与应用-MWorks版-案例\n",
    "\n",
    "# 第3章 信号生成和预处理\n",
    "\n",
    "## 3.2.4脉冲函数、阶跃函数和斜坡函数\n",
    "\n",
    "### 脉冲函数\n",
    "\n",
    "此示例说明如何使用下列传递函数表示连续时间系统的脉冲响应。\n",
    "![image.png](attachment:image.png)\n",
    "\n",
    "##### 目的\n",
    "\n",
    "对于这个例子，创建一个tf模型来表示传递函数。\n",
    "可以类似地绘制其他动态系统模型类型的脉冲响应，例如零极增益(zpk)或状态空间(ss)模型。\n"
   ]
  },
  {
   "cell_type": "code",
   "execution_count": 1,
   "metadata": {},
   "outputs": [
    {
     "data": {
      "text/plain": [
       "PyObject <objects.mw_figure.CFigure object at 0x000002BAEAB83AC8>"
      ]
     },
     "metadata": {},
     "output_type": "display_data"
    }
   ],
   "source": [
    "using TyControlSystems\n",
    "sys = tf(4, [1, 2, 10])\n",
    "impulse(sys)\n",
    "impulse(sys)\n"
   ]
  },
  {
   "attachments": {},
   "cell_type": "markdown",
   "metadata": {},
   "source": [
    "### 阶跃函数\n",
    "\n",
    "此示例说明如何构造一个 Biquad 滤波器，并绘制其阶跃响应曲线\n"
   ]
  },
  {
   "cell_type": "code",
   "execution_count": 2,
   "metadata": {},
   "outputs": [
    {
     "data": {
      "text/plain": [
       "([0.0038967439706888703, 0.02784612518914134, 0.10572773131326255, 0.27596388841730707, 0.5450803848424067, 0.852894559265947, 1.0844405002363595, 1.1430611871163128, 1.034633077229177, 0.8779751178152694  …  0.8902994029271599, 0.8854488879135386, 0.8886066285809721, 0.8951945436525525, 0.8961991919863698, 0.8904979792556263, 0.886050324830257, 0.8887967984889898, 0.8947342636166696, 0.8957248689181508], [0.0, 1.0, 2.0, 3.0, 4.0, 5.0, 6.0, 7.0, 8.0, 9.0  …  90.0, 91.0, 92.0, 93.0, 94.0, 95.0, 96.0, 97.0, 98.0, 99.0])"
      ]
     },
     "metadata": {},
     "output_type": "display_data"
    }
   ],
   "source": [
    "using TyDSPSystem\n",
    "\n",
    "s1 = [1 0.0852427881712990 1 1 -0.739993916949389 0.860969240005475; 1 0.690150981425659 1 1 -1.03745044026477 0.706247526252594; 1 1.74342357239464 1 1 -1.37395086734852 0.543081949521588; 1 -0.132512164313766 1 1 -0.608297743544437 0.960519923528524]\n",
    "s2 = [0.727727853638573, 0.828960811852979, 1.34935808589046, 0.00478709072371218, 1]\n",
    "biquad = dsp_BiquadFilter(Structure = \"Direct form II\", SOSMatrix = s1, ScaleValues = s2)\n",
    "stepz(biquad, 100; plotfig = true)\n"
   ]
  }
 ],
 "metadata": {
  "kernelspec": {
   "display_name": "Julia 1.9.3",
   "language": "julia",
   "name": "julia-1.9"
  },
  "language_info": {
   "file_extension": ".jl",
   "mimetype": "application/julia",
   "name": "julia",
   "version": "1.9.3"
  },
  "orig_nbformat": 4
 },
 "nbformat": 4,
 "nbformat_minor": 2
}
