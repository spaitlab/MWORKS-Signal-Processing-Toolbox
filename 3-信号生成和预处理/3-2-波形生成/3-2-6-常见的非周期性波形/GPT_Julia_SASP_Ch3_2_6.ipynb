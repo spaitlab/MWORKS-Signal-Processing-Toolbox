{
 "cells": [
  {
   "attachments": {},
   "cell_type": "markdown",
   "metadata": {},
   "source": [
    "# 信号处理仿真与应用-MWorks版-案例\n",
    "\n",
    "# 第3章 信号生成和预处理\n",
    "\n",
    "## 3.2\n",
    "\n",
    "### 3.2.6 常见的非周期波形\n",
    "\n",
    "常见的非周期波形\n",
    "\n",
    "gauspuls：使用指定时间、中心频率和小数带宽生成高斯调制正弦脉冲。可选参数返回同相脉冲和正交脉冲、RF 信号包络，以及尾部脉冲包络的截止时间。\n",
    "\n",
    "chirp：生成线性、对数或二次扫频正弦信号。可选参数指定替代扫描方法。可选参数允许以度数指定初始相位。\n",
    "\n",
    "示例生成具有线性瞬时频率偏差的噪音,计算并绘制 chirp 的时域图。噪音以 1 kHz的采样频率采样 2 秒。瞬时频率在 t = 0 时为 0，在 t = 1 秒时跨越 250 Hz。\n",
    "\n",
    "##### 目的\n",
    "\n",
    "显示chirp时域图"
   ]
  },
  {
   "cell_type": "code",
   "execution_count": 3,
   "metadata": {},
   "outputs": [],
   "source": [
    "\n",
    "using TyPlot\n",
    "using TySignalProcessing\n",
    "t = 0:0.01:2\n",
    "y = chirp(collect(t),0,1,250)\n",
    "figure(\"chirp\")\n",
    "plot(t,y)\n",
    "xlabel(\"Time/s\")\n",
    "ylabel(\"Y\")\n",
    "grid(\"on\")\n"
   ]
  },
  {
   "attachments": {},
   "cell_type": "markdown",
   "metadata": {},
   "source": [
    "##### 目的\n",
    "\n",
    "显示高斯射频脉冲图。\n",
    "\n",
    "示例使用 gauspuls 绘制带宽为 60% 的 50 kHz 高斯射频脉冲,以 10 MHz 的速率采样。截断包络低于峰值 40 dB的脉冲。并绘制正交脉冲和RF 信号包络。\n",
    "\n",
    "Inphase  同相\n",
    "Quadrature 正交\n",
    "Envelope 峰值包络"
   ]
  },
  {
   "cell_type": "code",
   "execution_count": 4,
   "metadata": {},
   "outputs": [
    {
     "data": {
      "text/plain": [
       "PyObject <objects.mw_legend.CLegend object at 0x0000025FCEE14D88>"
      ]
     },
     "metadata": {},
     "output_type": "display_data"
    }
   ],
   "source": [
    "using TyPlot\n",
    "using TySignalProcessing\n",
    "tc, = gauspuls(\"cutoff\", 50e3, 0.6, [], -40)\n",
    "t = -tc:1e-7:tc\n",
    "yi, yq, ye = gauspuls(t, 50e3, 0.6)\n",
    "figure(2)\n",
    "plot(t, yi, t, yq, t, ye)\n",
    "legend([\"Inphase\", \"Quadrature\", \"Envelope\"])"
   ]
  }
 ],
 "metadata": {
  "kernelspec": {
   "display_name": "Julia 1.9.3",
   "language": "julia",
   "name": "julia-1.9"
  },
  "language_info": {
   "file_extension": ".jl",
   "mimetype": "application/julia",
   "name": "julia",
   "version": "1.9.3"
  },
  "orig_nbformat": 4
 },
 "nbformat": 4,
 "nbformat_minor": 2
}
