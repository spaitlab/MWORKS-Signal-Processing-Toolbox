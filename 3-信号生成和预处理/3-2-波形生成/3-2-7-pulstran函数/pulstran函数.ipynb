{
 "cells": [
  {
   "attachments": {},
   "cell_type": "markdown",
   "metadata": {},
   "source": [
    "# 信号处理仿真与应用-MWorks版-案例\n",
    "\n",
    "# 第3章 信号生成和预处理\n",
    "\n",
    "## 3.2.7pulstran 函数\n",
    "\n",
    "### pulstran函数\n",
    "\n",
    "pulstran 函数基于连续的或采样的原型脉冲生成脉冲序列。此示例生成由高斯脉冲的多次延迟插值之和组成的脉冲序列。\n",
    "\n",
    "##### 目的\n",
    "\n",
    "该脉冲序列定义为具有 50 kHz 的采样率、10 ms 的脉冲序列长度和 1 kHz 的脉冲重复率。T 指定脉冲序列的采样时刻。D 在第一列中指定每个脉冲重复的延迟，在第二列中指定每个重复的可选衰减。要构造该脉冲序列，请将 gauspuls 函数的名称以及附加参数（用于指定带宽为 50% 的 10 kHz 高斯脉冲）传递给 pulstran。\n"
   ]
  },
  {
   "cell_type": "code",
   "execution_count": 1,
   "metadata": {},
   "outputs": [
    {
     "ename": "ArgumentError",
     "evalue": "ArgumentError: Package Plots not found in current path.\n- Run `import Pkg; Pkg.add(\"Plots\")` to install the Plots package.",
     "output_type": "error",
     "traceback": [
      "ArgumentError: Package Plots not found in current path.\n",
      "- Run `import Pkg; Pkg.add(\"Plots\")` to install the Plots package.\n",
      "\n",
      "Stacktrace:\n",
      "  [1] macro expansion\n",
      "    @ .\\loading.jl:1630 [inlined]\n",
      "  [2] macro expansion\n",
      "    @ .\\lock.jl:267 [inlined]\n",
      "  [3] require(into::Module, mod::Symbol)\n",
      "    @ Base .\\loading.jl:1611\n",
      "  [4] eval\n",
      "    @ .\\boot.jl:370 [inlined]\n",
      "  [5] include_string(mapexpr::typeof(REPL.softscope), mod::Module, code::String, filename::String)\n",
      "    @ Base .\\loading.jl:1903\n",
      "  [6] #invokelatest#2\n",
      "    @ .\\essentials.jl:819 [inlined]\n",
      "  [7] invokelatest\n",
      "    @ .\\essentials.jl:816 [inlined]\n",
      "  [8] (::VSCodeServer.var\"#223#224\"{VSCodeServer.NotebookRunCellArguments, String})()\n",
      "    @ VSCodeServer C:\\Users\\Public\\TongYuan\\.syslab-oss\\extensions\\tongyuan.syslab-julia-0.9.17\\scripts\\packages\\VSCodeServer\\src\\serve_notebook.jl:19\n",
      "  [9] withpath(f::VSCodeServer.var\"#223#224\"{VSCodeServer.NotebookRunCellArguments, String}, path::String)\n",
      "    @ VSCodeServer C:\\Users\\Public\\TongYuan\\.syslab-oss\\extensions\\tongyuan.syslab-julia-0.9.17\\scripts\\packages\\VSCodeServer\\src\\repl.jl:285\n",
      " [10] notebook_runcell_request(conn::VSCodeServer.JSONRPC.JSONRPCEndpoint{Base.PipeEndpoint, Base.PipeEndpoint}, params::VSCodeServer.NotebookRunCellArguments)\n",
      "    @ VSCodeServer C:\\Users\\Public\\TongYuan\\.syslab-oss\\extensions\\tongyuan.syslab-julia-0.9.17\\scripts\\packages\\VSCodeServer\\src\\serve_notebook.jl:13\n",
      " [11] dispatch_msg(x::VSCodeServer.JSONRPC.JSONRPCEndpoint{Base.PipeEndpoint, Base.PipeEndpoint}, dispatcher::VSCodeServer.JSONRPC.MsgDispatcher, msg::Dict{String, Any})\n",
      "    @ VSCodeServer.JSONRPC C:\\Users\\Public\\TongYuan\\.syslab-oss\\extensions\\tongyuan.syslab-julia-0.9.17\\scripts\\packages\\JSONRPC\\src\\typed.jl:67\n",
      " [12] serve_notebook(pipename::String, outputchannel_logger::Base.CoreLogging.SimpleLogger; crashreporting_pipename::String)\n",
      "    @ VSCodeServer C:\\Users\\Public\\TongYuan\\.syslab-oss\\extensions\\tongyuan.syslab-julia-0.9.17\\scripts\\packages\\VSCodeServer\\src\\serve_notebook.jl:139\n",
      " [13] top-level scope\n",
      "    @ c:\\Users\\Public\\TongYuan\\.syslab-oss\\extensions\\tongyuan.syslab-julia-0.9.17\\scripts\\notebook\\notebook.jl:32"
     ]
    }
   ],
   "source": [
    "using DSP\n",
    "using TySignalProcessing\n",
    "using Plots\n",
    "T = 0:1/50e3:10e-3\n",
    "D = hcat(0:1/1e3:10e-3, 0.8 .^(0:10))\n",
    "\n",
    "Y = pulstran(T, D, gauspuls, 10e3, 0.5)\n",
    "\n",
    "\n",
    "plot(T, Y)\n"
   ]
  }
 ],
 "metadata": {
  "kernelspec": {
   "display_name": "Julia 1.9.3",
   "language": "julia",
   "name": "julia-1.9"
  },
  "language_info": {
   "file_extension": ".jl",
   "mimetype": "application/julia",
   "name": "julia",
   "version": "1.9.3"
  },
  "orig_nbformat": 4
 },
 "nbformat": 4,
 "nbformat_minor": 2
}
