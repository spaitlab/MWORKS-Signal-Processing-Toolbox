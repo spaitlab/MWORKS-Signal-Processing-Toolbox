{
 "cells": [
  {
   "attachments": {},
   "cell_type": "markdown",
   "metadata": {},
   "source": [
    "# 信号处理仿真与应用-MWorks版-案例\n",
    "\n",
    "# 第3章 信号生成和预处理\n",
    "\n",
    "## 3.2.7pulstran 函数\n",
    "\n",
    "### pulstran函数\n",
    "\n",
    "pulstran 函数基于连续的或采样的原型脉冲生成脉冲序列。此示例生成由高斯脉冲的多次延迟插值之和组成的脉冲序列。\n",
    "\n",
    "##### 目的\n",
    "\n",
    "该脉冲序列定义为具有 50 kHz 的采样率、10 ms 的脉冲序列长度和 1 kHz 的脉冲重复率。T 指定脉冲序列的采样时刻。D 在第一列中指定每个脉冲重复的延迟，在第二列中指定每个重复的可选衰减。要构造该脉冲序列，请将 gauspuls 函数的名称以及附加参数（用于指定带宽为 50% 的 10 kHz 高斯脉冲）传递给 pulstran。\n"
   ]
  },
  {
   "cell_type": "code",
   "execution_count": 1,
   "metadata": {},
   "outputs": [
    {
     "ename": "UndefVarError",
     "evalue": "UndefVarError: `pulstran` not defined",
     "output_type": "error",
     "traceback": [
      "UndefVarError: `pulstran` not defined\n",
      "\n",
      "Stacktrace:\n",
      " [1] top-level scope\n",
      "   @ c:\\Users\\admin\\Desktop\\mworks-main\\3-信号生成和预处理\\3-2-波形生成\\3-2-7-pulstran函数\\GPT_Julia_SASP_Ch3_2_7.ipynb:6"
     ]
    }
   ],
   "source": [
    "using DSP\n",
    "\n",
    "T = 0:1/50e3:10e-3\n",
    "D = hcat(0:1/1e3:10e-3, 0.8 .^(0:10))\n",
    "\n",
    "Y = pulstran(T, D, gauspuls, 10e3, 0.5)\n",
    "\n",
    "using Plots\n",
    "plot(T, Y)\n"
   ]
  }
 ],
 "metadata": {
  "kernelspec": {
   "display_name": "Julia 1.9.3",
   "language": "julia",
   "name": "julia-1.9"
  },
  "language_info": {
   "file_extension": ".jl",
   "mimetype": "application/julia",
   "name": "julia",
   "version": "1.9.3"
  },
  "orig_nbformat": 4
 },
 "nbformat": 4,
 "nbformat_minor": 2
}
